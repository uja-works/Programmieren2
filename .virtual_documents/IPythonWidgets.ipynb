


#!jupyter labextension list


import numpy as np
import matplotlib.pyplot as plt

from ipywidgets import interact, interactive, fixed, interact_manual
import ipywidgets as widgets





def f(x):
    return x*x

interact(f, x=10);





def log_xor(x, y):
    return x^y

interact(log_xor, x=True, y=True);


def greeting(name):
    global NAME
    NAME = name
    return f"Hallo, {name}!"

interact(greeting, name="Peter");


NAME


def upper(name):
    return name.upper()

interact(upper, name=["Peter", "Paul", "Mary"]);


def factorial(n):
    if n==0:
        return 1
    return n*factorial(n-1)

interact(factorial, n=(0,20,1));





import ipywidgets as widgets
from IPython.display import display

# Display for calculator
display_box = widgets.Text(value='', disabled=True, layout=widgets.Layout(width='300px'))

# Buttons for numbers and operations
button_layout = widgets.Layout(width='60px', height='50px')
buttons = [
    widgets.Button(description=str(i), layout=button_layout) for i in range(10)
] + [
    widgets.Button(description=op, layout=button_layout) for op in ['+', '-', '*', '/', '=', 'C']
]

# Function to handle button clicks
def on_button_click(button):
    if button.description == "C":
        display_box.value = ""
    elif button.description == "=":
        try:
            display_box.value = str(eval(display_box.value))
        except Exception:
            display_box.value = "Error"
    else:
        display_box.value += button.description

# Attach click event handlers
for button in buttons:
    button.on_click(on_button_click)

# Layout for the buttons in a grid
button_grid = widgets.GridBox(
    children=buttons,
    layout=widgets.Layout(
        width='260px',
        grid_template_columns='repeat(4, 60px)',
        grid_gap='5px'
    )
)

# Display the calculator
display(display_box, button_grid)


import matplotlib.pyplot as plt
import numpy as np
x = np.linspace(-10,10,200)

def show_plot(freq):
    #ax.clear()
    fig, ax = plt.subplots()
    ax.plot(x, np.sin(freq * x))
    plt.show()

interact(show_plot, freq = (1, 10, 0.1))







