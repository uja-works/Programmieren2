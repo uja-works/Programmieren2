{
 "cells": [
  {
   "cell_type": "markdown",
   "metadata": {},
   "source": [
    "# Übersicht"
   ]
  },
  {
   "cell_type": "markdown",
   "metadata": {},
   "source": [
    "## Wichtige Mathematik-Bibliotheken\n",
    "Die wichtigsten Mathematik-Bibliotheken in Python sind:\n",
    "\n",
    "- NumPy: Eine leistungsstarke Bibliothek für numerische Berechnungen, die Arrays und Matrizen unterstützt.\n",
    "- SciPy: Eine umfangreiche Bibliothek für wissenschaftliches Rechnen, die Funktionen für Optimierung, Integration, lineare Algebra und vieles mehr bietet.\n",
    "- matplotlib: Eine Bibliothek zur Erstellung von Diagrammen und Visualisierungen.\n",
    "- pandas: Eine Bibliothek zur Datenmanipulation und -analyse, die Datenstrukturen wie DataFrames bereitstellt.\n",
    "- SymPy: Eine Bibliothek für symbolische Mathematik, die Funktionen für Algebra, Analysis, Differentialgleichungen und mehr bietet.\n",
    "\n",
    "Um diese Bibliotheken zu verwenden, müssen sie zuerst importiert werden. Hier ist der Code, um die wichtigsten Mathematik-Bibliotheken in Python zu importieren:\n",
    "\n",
    "```python\n",
    "import numpy as np\n",
    "import scipy\n",
    "import matplotlib.pyplot as plt\n",
    "import pandas as pd\n",
    "import sympy as sp\n",
    "```\n",
    "\n",
    "Sie können dann die Funktionen und Methoden dieser Bibliotheken verwenden, um mathematische Operationen durchzuführen und Daten zu analysieren oder zu visualisieren.\n"
   ]
  },
  {
   "cell_type": "markdown",
   "metadata": {},
   "source": [
    "## Datenstrukturen"
   ]
  }
 ],
 "metadata": {
  "kernelspec": {
   "display_name": "p312",
   "language": "python",
   "name": "python3"
  },
  "language_info": {
   "codemirror_mode": {
    "name": "ipython",
    "version": 3
   },
   "file_extension": ".py",
   "mimetype": "text/x-python",
   "name": "python",
   "nbconvert_exporter": "python",
   "pygments_lexer": "ipython3",
   "version": "3.12.7"
  }
 },
 "nbformat": 4,
 "nbformat_minor": 2
}
