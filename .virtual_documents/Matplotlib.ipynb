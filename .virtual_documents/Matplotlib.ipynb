


import numpy as np
import matplotlib.pyplot as plt

# Die folgende Zeile erlaubt Interaktionen wie Zoom, Drehungen etc.
# Wenn eine Fehlermeldung auftritt, ist wahrscheinlich ipympl nicht installiert.
# Anaconda:
# > conda install -c conda-forge ipympl
# PyPi:
# > pip install ipympl
%matplotlib widget


X = np.arange(-5, 5, 0.25)
Y = np.arange(-5, 5, 0.25)
X, Y = np.meshgrid(X, Y)
R = np.sqrt(X**2 + Y**2)
Z = np.sin(R)

fig = plt.figure()
ax = fig.add_subplot(1, 1, 1, projection='3d')

surf = ax.plot_surface(X, Y, Z, rstride=1, cstride=1,
                       linewidth=0, antialiased=False)
ax.set_zlim(-1, 1)

plt.show()


!jupyter labextension list



