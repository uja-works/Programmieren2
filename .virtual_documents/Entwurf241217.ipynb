


class Vector2D:
    def __init__(self, x: float, y: float):
        self.x = x
        self.y = y
    
    # Vektoren vergleichen
    def __eq__(self, other):
        if not isinstance(other, Vector2D):
            return NotImplemented
        return self.x == other.x and self.y == other.y
    
    # Lesbare Darstellung
    def __repr__(self):
        return f"Vector2D(x={self.x}, y={self.y})"
    
    # String-Darstellung
    def __str__(self):
        return f"({self.x}, {self.y})"
        
    # Addition von Vektoren
    def __add__(self, other):
        if not isinstance(other, Vector2D):
            return NotImplemented
        return Vector2D(self.x + other.x, self.y + other.y)
    
    def length(self):
        return (self.x**2 + self.y**2)**0.5

# Verwendung
v1 = Vector2D(3, 4)
v2 = Vector2D(1, 2)
v3 = v1 + v2
print(v1 == v2)  # False
print(v1)        # (3, 4)
print(v3)        # (4, 6)





from dataclasses import dataclass

@dataclass
class Vector2D:
    x: float
    y: float
    
    def length(self):
        return (self.x**2 + self.y**2)**0.5
    
    def __add__(self, other):
        return Vector2D(self.x + other.x, self.y + other.y)

# Verwendung genau wie oben
v1 = Vector2D(3, 4)
v2 = Vector2D(1, 2)
v3 = v1 + v2
print(v1 == v2)  # False - automatisch generiert!
print(v1)        # Vector2D(x=3, y=4) - automatisch generiert!
print(v3)        # Vector2D(x=4, y=6)














def repeat(times):
    def decorator(func):
        def wrapper(*args, **kwargs):
            for _ in range(times):
                result = func(*args, **kwargs)
            return result
        return wrapper
    return decorator

@repeat(times=3)
def greet(name):
    print(f"Hallo {name}!")

greet("Max")  # Wird 3x ausgeführt


def simple_decorator(func):
    def wrapper():
        print("Vor der Funktion")
        func()
        print("Nach der Funktion")
    return wrapper

# Verwendung mit @ Syntax
@simple_decorator
def say_hello():
    print("Hallo!")

# Äquivalent zu:
# say_hello = simple_decorator(say_hello)

say_hello()
# Ausgabe:
# Vor der Funktion
# Hallo!
# Nach der Funktion




















class DatabaseOld:
    _instance = None
    
    def __new__(cls):
        if cls._instance is None:
            cls._instance = super().__new__(cls)
        return cls._instance
    
    def __init__(self):
        # Wird jedes Mal aufgerufen, auch wenn existierende Instanz zurückgegeben wird
        print("Initialisiere Datenbank...")

# Test
db1 = DatabaseOld()  # Druckt "Initialisiere Datenbank..."
db2 = DatabaseOld()  # Druckt "Initialisiere Datenbank..." (unerwünscht!)
print(db1 is db2)    # True, aber __init__ wurde zweimal aufgerufen








def singleton(cls):
    # Dictionary für alle Singleton-Instanzen
    instances = {}
    
    # Wrapper-Funktion, die aufgerufen wird, wenn eine Instanz erstellt werden soll
    def get_instance(*args, **kwargs):
        if cls not in instances:
            # Erstelle neue Instanz, wenn noch keine existiert
            instances[cls] = cls(*args, **kwargs)
        return instances[cls]
    
    # Gib Wrapper zurück
    return get_instance

# Test
@singleton
class Database:
    def __init__(self):
        print("Initialisiere Datenbank...")

db1 = Database()  # Druckt "Initialisiere Datenbank..."
db2 = Database()  # Druckt nichts, nutzt existierende Instanz
print(db1 is db2)  # True









