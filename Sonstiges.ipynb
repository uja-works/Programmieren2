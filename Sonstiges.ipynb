{
 "cells": [
  {
   "cell_type": "code",
   "execution_count": 1,
   "id": "c8cc92f5-e9c8-47ee-979e-128ca6259a57",
   "metadata": {},
   "outputs": [
    {
     "name": "stdout",
     "output_type": "stream",
     "text": [
      "Overwriting test.txt\n"
     ]
    }
   ],
   "source": [
    "%%file test.txt\n",
    "a 1\n",
    "b\n",
    "c 3\n",
    "d\n",
    "e\n",
    "f\n",
    "g"
   ]
  },
  {
   "cell_type": "code",
   "execution_count": 2,
   "id": "c4b9ecaf-ccb7-4c3a-af91-12e31bc16d39",
   "metadata": {},
   "outputs": [
    {
     "name": "stdout",
     "output_type": "stream",
     "text": [
      "a 1\n",
      "\n",
      "b\n",
      "\n",
      "c 3\n",
      "\n",
      "d\n",
      "\n",
      "e\n",
      "\n",
      "f\n",
      "\n",
      "g\n",
      "\n"
     ]
    }
   ],
   "source": [
    "# Einlesen\n",
    "\n",
    "f = open(\"test.txt\", \"r\") # \"r\": Öffne Datei test.txt zum Lesen (\"r\" wie \"read\")\n",
    "for l in f:\n",
    "    print(l)\n",
    "f.close()"
   ]
  },
  {
   "cell_type": "code",
   "execution_count": 3,
   "id": "a8006a3c-62c9-4a3f-8649-199d33793aa8",
   "metadata": {},
   "outputs": [
    {
     "name": "stdout",
     "output_type": "stream",
     "text": [
      "a 1\n",
      "\n",
      "b\n",
      "\n",
      "c 3\n",
      "\n",
      "d\n",
      "\n",
      "e\n",
      "\n",
      "f\n",
      "\n",
      "g\n",
      "\n"
     ]
    }
   ],
   "source": [
    "with open(\"test.txt\", \"r\") as f:\n",
    "    for l in f:\n",
    "        print(l)\n",
    "\n",
    "# f wird automatisch geschlossen"
   ]
  },
  {
   "cell_type": "markdown",
   "id": "e1fd698b-15b7-4aa5-8b03-0026365a0c11",
   "metadata": {},
   "source": []
  },
  {
   "cell_type": "code",
   "execution_count": null,
   "id": "fcdcca4b-bb7a-40ec-86a3-f8a5c91af6d3",
   "metadata": {},
   "outputs": [],
   "source": []
  },
  {
   "cell_type": "markdown",
   "id": "7258f012-3983-4269-8f3b-3308a4634d35",
   "metadata": {},
   "source": []
  }
 ],
 "metadata": {
  "kernelspec": {
   "display_name": "Python 3 (ipykernel)",
   "language": "python",
   "name": "python3"
  },
  "language_info": {
   "codemirror_mode": {
    "name": "ipython",
    "version": 3
   },
   "file_extension": ".py",
   "mimetype": "text/x-python",
   "name": "python",
   "nbconvert_exporter": "python",
   "pygments_lexer": "ipython3",
   "version": "3.12.7"
  }
 },
 "nbformat": 4,
 "nbformat_minor": 5
}
