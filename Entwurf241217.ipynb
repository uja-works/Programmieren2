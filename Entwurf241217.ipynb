{
 "cells": [
  {
   "cell_type": "markdown",
   "id": "2885eea0-c4fc-44fe-a1e6-d4c53d0ccc99",
   "metadata": {},
   "source": [
    "# Motivation: Warum Dataclasses?\n",
    "## Der traditionelle Weg: Viel Code für einfache Strukturen\n",
    "Schauen wir uns an, wie viel Code wir für einen einfachen mathematischen Vektor brauchen:"
   ]
  },
  {
   "cell_type": "code",
   "execution_count": 1,
   "id": "d44da417-8245-417e-b978-5c81bb6ab4e2",
   "metadata": {},
   "outputs": [
    {
     "name": "stdout",
     "output_type": "stream",
     "text": [
      "False\n",
      "(3, 4)\n",
      "(4, 6)\n"
     ]
    }
   ],
   "source": [
    "class Vector2D:\n",
    "    def __init__(self, x: float, y: float):\n",
    "        self.x = x\n",
    "        self.y = y\n",
    "    \n",
    "    # Vektoren vergleichen\n",
    "    def __eq__(self, other):\n",
    "        if not isinstance(other, Vector2D):\n",
    "            return NotImplemented\n",
    "        return self.x == other.x and self.y == other.y\n",
    "    \n",
    "    # Lesbare Darstellung\n",
    "    def __repr__(self):\n",
    "        return f\"Vector2D(x={self.x}, y={self.y})\"\n",
    "    \n",
    "    # String-Darstellung\n",
    "    def __str__(self):\n",
    "        return f\"({self.x}, {self.y})\"\n",
    "        \n",
    "    # Addition von Vektoren\n",
    "    def __add__(self, other):\n",
    "        if not isinstance(other, Vector2D):\n",
    "            return NotImplemented\n",
    "        return Vector2D(self.x + other.x, self.y + other.y)\n",
    "    \n",
    "    def length(self):\n",
    "        return (self.x**2 + self.y**2)**0.5\n",
    "\n",
    "# Verwendung\n",
    "v1 = Vector2D(3, 4)\n",
    "v2 = Vector2D(1, 2)\n",
    "v3 = v1 + v2\n",
    "print(v1 == v2)  # False\n",
    "print(v1)        # (3, 4)\n",
    "print(v3)        # (4, 6)"
   ]
  },
  {
   "cell_type": "markdown",
   "id": "7992fe9f-32a2-4a01-9e36-e033924d66ef",
   "metadata": {},
   "source": [
    "## Die elegante Lösung mit Dataclass:"
   ]
  },
  {
   "cell_type": "code",
   "execution_count": 6,
   "id": "e12f3910-c709-4c9a-ae0f-d0bb3ebff8b9",
   "metadata": {},
   "outputs": [
    {
     "name": "stdout",
     "output_type": "stream",
     "text": [
      "False\n",
      "Vector2D(x=3, y=4)\n",
      "Vector2D(x=4, y=6)\n"
     ]
    }
   ],
   "source": [
    "from dataclasses import dataclass\n",
    "\n",
    "@dataclass\n",
    "class Vector2D:\n",
    "    x: float\n",
    "    y: float\n",
    "    \n",
    "    def length(self):\n",
    "        return (self.x**2 + self.y**2)**0.5\n",
    "    \n",
    "    def __add__(self, other):\n",
    "        return Vector2D(self.x + other.x, self.y + other.y)\n",
    "\n",
    "# Verwendung genau wie oben\n",
    "v1 = Vector2D(3, 4)\n",
    "v2 = Vector2D(1, 2)\n",
    "v3 = v1 + v2\n",
    "print(v1 == v2)  # False - automatisch generiert!\n",
    "print(v1)        # Vector2D(x=3, y=4) - automatisch generiert!\n",
    "print(v3)        # Vector2D(x=4, y=6)"
   ]
  },
  {
   "cell_type": "markdown",
   "id": "ac9e1d7a-7afe-40ec-a92d-d9e572d656a6",
   "metadata": {},
   "source": [
    "## Sehen Sie den Unterschied? Der Dataclass-Code ist:\n",
    "\n",
    "- Etwa 70% kürzer\n",
    "- Leichter zu lesen\n",
    "- Weniger fehleranfällig\n",
    "Hat trotzdem alle wichtigen Funktionen"
   ]
  },
  {
   "cell_type": "markdown",
   "id": "d520f775-812e-4f67-8b8f-9098c4ab2a6d",
   "metadata": {},
   "source": [
    "# Unveränderlichkeit"
   ]
  },
  {
   "cell_type": "markdown",
   "id": "1b21125a",
   "metadata": {},
   "source": [
    "Beispiel: Basisvektor e1."
   ]
  },
  {
   "cell_type": "code",
   "execution_count": 20,
   "id": "4ee9b067-81c0-421c-b050-62426aea5269",
   "metadata": {},
   "outputs": [
    {
     "name": "stdout",
     "output_type": "stream",
     "text": [
      "Vector(x=0, y=1)\n",
      "e1.x=0\n",
      "e1=Vector(x=0, y=1)\n"
     ]
    }
   ],
   "source": [
    "@dataclass(frozen=True)\n",
    "class Vector:\n",
    "    x: float\n",
    "    y: float\n",
    "    \n",
    "    def length(self):\n",
    "        return (self.x**2 + self.y**2)**0.5\n",
    "\n",
    "# Liste von Vektoren\n",
    "vectors = [Vector(1, 1), Vector(2, 2), Vector(3, 3)]\n",
    "\n",
    "e1 = Vector(0,1)\n",
    "print(e1)\n",
    "print(f\"{e1.x=}\")\n",
    "#e1.x = 1\n",
    "print(f\"{e1=}\")\n",
    "\n",
    "# Diese Berechnung ist sicher, da die Vektoren nicht verändert werden können\n",
    "from concurrent.futures import ThreadPoolExecutor\n",
    "with ThreadPoolExecutor() as executor:\n",
    "    lengths = list(executor.map(lambda v: v.length(), vectors))"
   ]
  },
  {
   "cell_type": "markdown",
   "id": "477e78dd-7817-455a-8986-77ffc9f0c41b",
   "metadata": {},
   "source": [
    "# Dekoratoren"
   ]
  },
  {
   "cell_type": "markdown",
   "id": "8f7a5c96",
   "metadata": {},
   "source": [
    "### Funktionen, die Funktionen zurückgeben"
   ]
  },
  {
   "cell_type": "code",
   "execution_count": 21,
   "id": "4b941df9",
   "metadata": {},
   "outputs": [
    {
     "name": "stdout",
     "output_type": "stream",
     "text": [
      "8\n"
     ]
    }
   ],
   "source": [
    "def outer_function(x):\n",
    "    def inner_function(y):\n",
    "        return x + y\n",
    "    return inner_function\n",
    "\n",
    "# Erstellt eine Funktion, die 5 addiert\n",
    "add_five = outer_function(5)\n",
    "print(add_five(3))  # Ausgabe: 8"
   ]
  },
  {
   "cell_type": "code",
   "execution_count": 5,
   "id": "6245b941-1518-4717-86ce-9fca962fa4b2",
   "metadata": {},
   "outputs": [
    {
     "name": "stdout",
     "output_type": "stream",
     "text": [
      "Vor der Funktion\n",
      "Hallo!\n",
      "Nach der Funktion\n"
     ]
    }
   ],
   "source": [
    "def simple_decorator(func):\n",
    "    def wrapper():\n",
    "        print(\"Vor der Funktion\")\n",
    "        func()\n",
    "        print(\"Nach der Funktion\")\n",
    "    return wrapper\n",
    "\n",
    "# Verwendung mit @ Syntax\n",
    "@simple_decorator\n",
    "def say_hello():\n",
    "    print(\"Hallo!\")\n",
    "\n",
    "# Äquivalent zu:\n",
    "# say_hello = simple_decorator(say_hello)\n",
    "\n",
    "say_hello()\n",
    "# Ausgabe:\n",
    "# Vor der Funktion\n",
    "# Hallo!\n",
    "# Nach der Funktion"
   ]
  },
  {
   "cell_type": "code",
   "execution_count": 3,
   "id": "488e980d-a204-4b17-929e-b90b0a56bd20",
   "metadata": {},
   "outputs": [
    {
     "name": "stdout",
     "output_type": "stream",
     "text": [
      "Hallo Max!\n",
      "Hallo Max!\n",
      "Hallo Max!\n"
     ]
    }
   ],
   "source": [
    "def repeat(times):\n",
    "    def decorator(func):\n",
    "        def wrapper(*args, **kwargs):\n",
    "            for _ in range(times):\n",
    "                result = func(*args, **kwargs)\n",
    "            return result\n",
    "        return wrapper\n",
    "    return decorator\n",
    "\n",
    "@repeat(times=3)\n",
    "def greet(name):\n",
    "    print(f\"Hallo {name}!\")\n",
    "\n",
    "greet(\"Max\")  # Wird 3x ausgeführt"
   ]
  },
  {
   "cell_type": "code",
   "execution_count": 6,
   "id": "69dba18a",
   "metadata": {},
   "outputs": [
    {
     "name": "stdout",
     "output_type": "stream",
     "text": [
      "Funktion calculate_sum brauchte 0.0208 Sekunden\n",
      "499999500000\n"
     ]
    }
   ],
   "source": [
    "import time\n",
    "\n",
    "def measure_time(func):\n",
    "    def wrapper(*args, **kwargs):\n",
    "        start_time = time.time()\n",
    "        result = func(*args, **kwargs)\n",
    "        end_time = time.time()\n",
    "        print(f\"Funktion {func.__name__} brauchte {end_time - start_time:.4f} Sekunden\")\n",
    "        return result\n",
    "    return wrapper\n",
    "\n",
    "@measure_time\n",
    "def calculate_sum(n):\n",
    "    return sum(range(n))\n",
    "\n",
    "# Test\n",
    "print(calculate_sum(1000000))"
   ]
  },
  {
   "cell_type": "markdown",
   "id": "6e56a143-dc06-4c19-98fa-88e287a41921",
   "metadata": {},
   "source": [
    "## Mehrere Dekoratoren"
   ]
  },
  {
   "cell_type": "code",
   "execution_count": 7,
   "id": "e50962f6-4000-45bc-8d8a-8ad9af58e576",
   "metadata": {},
   "outputs": [
    {
     "name": "stdout",
     "output_type": "stream",
     "text": [
      "<b><i>Hallo Welt!</i></b>\n"
     ]
    }
   ],
   "source": [
    "def bold(func):\n",
    "    def wrapper():\n",
    "        return f\"<b>{func()}</b>\"\n",
    "    return wrapper\n",
    "\n",
    "def italic(func):\n",
    "    def wrapper():\n",
    "        return f\"<i>{func()}</i>\"\n",
    "    return wrapper\n",
    "\n",
    "@bold\n",
    "@italic\n",
    "def get_text():\n",
    "    return \"Hallo Welt!\"\n",
    "\n",
    "print(get_text())  # Ausgabe: <b><i>Hallo Welt!</i></b>"
   ]
  },
  {
   "cell_type": "markdown",
   "id": "5e2c8b68-3707-4658-8c45-089b1ae4a87d",
   "metadata": {},
   "source": [
    "### Praktische Übung\n",
    "Aufgabe: Erstellen Sie einen Decorator, der die Ausführungszeit einer Funktion misst."
   ]
  },
  {
   "cell_type": "code",
   "execution_count": 22,
   "id": "a386b97f-c1c9-4d3d-8e8b-776ea9e1d4f7",
   "metadata": {},
   "outputs": [
    {
     "name": "stdout",
     "output_type": "stream",
     "text": [
      "Funktion calculate_sum brauchte 0.0184 Sekunden\n",
      "499999500000\n"
     ]
    }
   ],
   "source": [
    "import time\n",
    "\n",
    "def measure_time(func):\n",
    "    def wrapper(*args, **kwargs):\n",
    "        start_time = time.perf_counter()\n",
    "        result = func(*args, **kwargs)\n",
    "        end_time = time.perf_counter()\n",
    "        print(f\"Funktion {func.__name__} brauchte {end_time - start_time:.4f} Sekunden\")\n",
    "        return result\n",
    "    return wrapper\n",
    "\n",
    "@measure_time\n",
    "def calculate_sum(n):\n",
    "    return sum(range(n))\n",
    "\n",
    "# Test\n",
    "print(calculate_sum(1000000))"
   ]
  },
  {
   "cell_type": "markdown",
   "id": "ed4fcff6",
   "metadata": {},
   "source": [
    "### functools.wraps\n",
    "Motivation: Doc String und Name der Funktion."
   ]
  },
  {
   "cell_type": "code",
   "execution_count": 4,
   "id": "079b865a",
   "metadata": {},
   "outputs": [
    {
     "name": "stdout",
     "output_type": "stream",
     "text": [
      "greet\n",
      "Greets a person\n",
      "wrapper\n",
      "Wrapper Funktion\n"
     ]
    }
   ],
   "source": [
    "from functools import wraps\n",
    "\n",
    "def my_decorator(func):\n",
    "    @wraps(func)  # Wichtig: Behält Metadaten der originalen Funktion\n",
    "    def wrapper(*args, **kwargs):\n",
    "        \"\"\"Wrapper Funktion\"\"\"\n",
    "        print(f\"Calling {func.__name__}\")\n",
    "        return func(*args, **kwargs)\n",
    "    return wrapper\n",
    "\n",
    "@my_decorator\n",
    "def greet(name):\n",
    "    \"\"\"Greets a person\"\"\"\n",
    "    print(f\"Hello {name}!\")\n",
    "\n",
    "# Ohne @wraps würden wir hier 'wrapper' und dessen Docstring sehen\n",
    "print(greet.__name__)  # Ausgabe: 'greet'\n",
    "print(greet.__doc__)   # Ausgabe: 'Greets a person'\n",
    "\n",
    "# Vergleich ohne @wraps:\n",
    "def decorator_without_wraps(func):\n",
    "    def wrapper(*args, **kwargs):\n",
    "        \"\"\"Wrapper Funktion\"\"\"\n",
    "        return func(*args, **kwargs)\n",
    "    return wrapper\n",
    "\n",
    "@decorator_without_wraps\n",
    "def hello(name):\n",
    "    \"\"\"Says hello\"\"\"\n",
    "    print(f\"Hello {name}!\")\n",
    "\n",
    "print(hello.__name__)  # Ausgabe: 'wrapper'\n",
    "print(hello.__doc__)   # Ausgabe: 'Wrapper Funktion'"
   ]
  },
  {
   "cell_type": "code",
   "execution_count": null,
   "id": "ab9c76f3",
   "metadata": {},
   "outputs": [],
   "source": []
  },
  {
   "cell_type": "markdown",
   "id": "3a2550bc-da1d-478f-aaa7-cbc3cb72633f",
   "metadata": {},
   "source": [
    "# Dekoratoren für Klassen"
   ]
  },
  {
   "cell_type": "code",
   "execution_count": 5,
   "id": "3d333501-7709-40d7-84de-e0a3eb14d21d",
   "metadata": {},
   "outputs": [
    {
     "name": "stdout",
     "output_type": "stream",
     "text": [
      "Initialisiere Datenbank...\n",
      "Initialisiere Datenbank...\n",
      "True\n"
     ]
    }
   ],
   "source": [
    "class DatabaseOld:\n",
    "    _instance = None\n",
    "    \n",
    "    def __new__(cls):\n",
    "        if cls._instance is None:\n",
    "            cls._instance = super().__new__(cls)\n",
    "        return cls._instance\n",
    "    \n",
    "    def __init__(self):\n",
    "        # Wird jedes Mal aufgerufen, auch wenn existierende Instanz zurückgegeben wird\n",
    "        print(\"Initialisiere Datenbank...\")\n",
    "\n",
    "# Test\n",
    "db1 = DatabaseOld()  # Druckt \"Initialisiere Datenbank...\"\n",
    "db2 = DatabaseOld()  # Druckt \"Initialisiere Datenbank...\" (unerwünscht!)\n",
    "print(db1 is db2)    # True, aber __init__ wurde zweimal aufgerufen"
   ]
  },
  {
   "cell_type": "markdown",
   "id": "fd945b4e-40d9-4ea6-b37a-2e6ff5d44c1c",
   "metadata": {},
   "source": [
    "## Probleme der traditionellen Implementierung\n",
    "\n",
    "- __init__ wird mehrfach aufgerufen -- auch wenn gar kein neues Objekt erzeugt wird\n",
    "- Code für Singleton-Logik vermischt sich mit Klassen-Code\n",
    "- Schwer wiederverwendbar für andere Klassen\n",
    "\n",
    "## Lösung mit Decorator"
   ]
  },
  {
   "cell_type": "code",
   "execution_count": 23,
   "id": "2c366e2e-ea14-431b-a47f-7949befb3b6c",
   "metadata": {},
   "outputs": [
    {
     "name": "stdout",
     "output_type": "stream",
     "text": [
      "Initialisiere Datenbank...\n",
      "True\n"
     ]
    }
   ],
   "source": [
    "def singleton(cls):\n",
    "    # Dictionary für alle Singleton-Instanzen\n",
    "    instances = {}\n",
    "    \n",
    "    # Wrapper-Funktion, die aufgerufen wird, wenn eine Instanz erstellt werden soll\n",
    "    def get_instance(*args, **kwargs):\n",
    "        if cls not in instances:\n",
    "            # Erstelle neue Instanz, wenn noch keine existiert\n",
    "            instances[cls] = cls(*args, **kwargs)\n",
    "        return instances[cls]\n",
    "    \n",
    "    # Gib Wrapper zurück\n",
    "    return get_instance\n",
    "\n",
    "# Test\n",
    "@singleton\n",
    "class Database:\n",
    "    def __init__(self):\n",
    "        print(\"Initialisiere Datenbank...\")\n",
    "\n",
    "db1 = Database()  # Druckt \"Initialisiere Datenbank...\"\n",
    "db2 = Database()  # Druckt nichts, nutzt existierende Instanz\n",
    "print(db1 is db2)  # True"
   ]
  },
  {
   "cell_type": "markdown",
   "id": "4ef91a59-dd00-4135-96ff-d7d4e56c0562",
   "metadata": {},
   "source": [
    "# Vorteile des Decorator-Ansatzes\n",
    "\n",
    "- Trennung von Singleton-Logik und Klassencode\n",
    "- Wiederverwendbar für beliebige Klassen\n",
    "- Einfach zu verstehen und zu warten\n",
    "- Erweiterbar um zusätzliche Funktionalität"
   ]
  },
  {
   "cell_type": "markdown",
   "id": "2e93928c-45ee-4837-a909-3fec9356e105",
   "metadata": {},
   "source": [
    "# "
   ]
  },
  {
   "cell_type": "code",
   "execution_count": null,
   "id": "32ade31a-6791-4e16-b6b9-3ce0ef4200ad",
   "metadata": {},
   "outputs": [],
   "source": []
  }
 ],
 "metadata": {
  "kernelspec": {
   "display_name": "p312",
   "language": "python",
   "name": "python3"
  },
  "language_info": {
   "codemirror_mode": {
    "name": "ipython",
    "version": 3
   },
   "file_extension": ".py",
   "mimetype": "text/x-python",
   "name": "python",
   "nbconvert_exporter": "python",
   "pygments_lexer": "ipython3",
   "version": "3.12.8"
  }
 },
 "nbformat": 4,
 "nbformat_minor": 5
}
