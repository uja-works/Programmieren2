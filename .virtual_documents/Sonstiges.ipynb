%%file test.txt
a 1
b
c 3
d
e
f
g


# Einlesen

f = open("test.txt", "r") # "r": Öffne Datei test.txt zum Lesen ("r" wie "read")
for l in f:
    print(l)
f.close()


with open("test.txt", "r") as f:
    for l in f:
        print(l)

# f wird automatisch geschlossen









