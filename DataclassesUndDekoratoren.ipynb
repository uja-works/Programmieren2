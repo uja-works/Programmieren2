{
 "cells": [
  {
   "cell_type": "markdown",
   "metadata": {},
   "source": [
    "# Dataclasses und Dekoratoren"
   ]
  },
  {
   "cell_type": "markdown",
   "metadata": {},
   "source": [
    "# Dataclasses\n",
    "## Motivation\n",
    "### Implementierung einer 2D-Vektorklasse"
   ]
  },
  {
   "cell_type": "code",
   "execution_count": 46,
   "metadata": {},
   "outputs": [
    {
     "name": "stdout",
     "output_type": "stream",
     "text": [
      "e_1 = Vec2D(x=1, y=0)\n",
      "e_1 = (1, 0)\n",
      "e_1 + e_1 = (2, 0)\n",
      "(2, 0)\n",
      "v.scalar_mult(5)=Vec2D(x=10, y=5), v.norm()=2.23606797749979\n",
      "(e_1 == e_1) = True\n",
      "(e_1 == w) = True\n",
      "(e_1 == v) = False\n"
     ]
    }
   ],
   "source": [
    "class Vec2D:\n",
    "    \"\"\"\n",
    "    Vektoren des R^2\n",
    "    ----------------\n",
    "    Diese Klasse implementiert Vektoren im R^2.\n",
    "    \"\"\"\n",
    "\n",
    "    def __init__(self, x: float, y: float):   # float: Typannotation\n",
    "        self.x = x\n",
    "        self.y = y\n",
    "    \n",
    "    def __str__(self):\n",
    "        return f\"({self.x}, {self.y})\"\n",
    "\n",
    "    def __repr__(self):\n",
    "        return f\"Vec2D(x={self.x}, y={self.y})\"\n",
    "\n",
    "    def __eq__(self, other):\n",
    "        return self.x == other.x and self.y == other.y\n",
    "\n",
    "    def __add__(self, b):\n",
    "        return Vec2D(self.x +  b.x, self.y + b.y)\n",
    "\n",
    "    def scalar_mult(self, factor):\n",
    "        return Vec2D(factor*self.x, factor*self.y)\n",
    "    \n",
    "    def norm(self):\n",
    "        return (self.x**2 + self.y**2)**0.5\n",
    "\n",
    "\n",
    "# help(Vec2D)\n",
    "e_1 = Vec2D(1, 0)\n",
    "print(f\"{e_1 = }\")\n",
    "print(f\"e_1 = {e_1}\")\n",
    "print(f\"e_1 + e_1 = {e_1 + e_1}\")\n",
    "print(e_1.__add__(e_1))\n",
    "v = Vec2D(2, 1)\n",
    "print(f\"{v.scalar_mult(5)=}, {v.norm()=}\")\n",
    "w = Vec2D(1, 0)\n",
    "print(f\"{(e_1 == e_1) = }\")\n",
    "print(f\"{(e_1 == w) = }\")\n",
    "print(f\"{(e_1 == v) = }\")\n",
    "\n"
   ]
  },
  {
   "cell_type": "markdown",
   "metadata": {},
   "source": [
    "## Nachteile\n",
    "Enthält viel \"Boilerplate Code\", also Code, der für \"Datenklassen\" üblich ist (Konstruktion über __init__, Überprüfung auf Gleichheit, Ausgabe als String, etc.)\n",
    "\n",
    "Lösung: Dataclasses\n",
    "\n",
    "Mit Hilfe des Dekorators @dataclass werden wichtige Methoden wie `__init__`, `__str__`, `__repr__`und `__eq__`automatisch generiert."
   ]
  },
  {
   "cell_type": "code",
   "execution_count": 52,
   "metadata": {},
   "outputs": [
    {
     "name": "stdout",
     "output_type": "stream",
     "text": [
      "e_1 = Point2D(x=1, y=0)\n",
      "e_1 = Point2D(x=1, y=0)\n",
      "e_1 + e_1 = Point2D(x=2, y=0)\n",
      "Point2D(x=2, y=0)\n",
      "v.scalar_mult(5)=Point2D(x=10, y=5), v.norm()=2.23606797749979\n",
      "(e_1 == e_1) = True\n",
      "(e_1 == w) = True\n",
      "(e_1 == v) = False\n"
     ]
    }
   ],
   "source": [
    "from dataclasses import dataclass\n",
    "\n",
    "@dataclass\n",
    "class Point2D:\n",
    "    x: float\n",
    "    y: float\n",
    "\n",
    "    def __add__(self, b):\n",
    "        return Point2D(self.x +  b.x, self.y + b.y)\n",
    "\n",
    "    def scalar_mult(self, factor):\n",
    "       return Point2D(factor*self.x, factor*self.y)\n",
    "    \n",
    "    def norm(self):\n",
    "        return (self.x**2 + self.y**2)**0.5\n",
    "\n",
    "\n",
    "e_1 = Point2D(1, 0)\n",
    "print(f\"{e_1 = }\")\n",
    "print(f\"e_1 = {e_1}\")\n",
    "print(f\"e_1 + e_1 = {e_1 + e_1}\")\n",
    "print(e_1.__add__(e_1))\n",
    "v = Point2D(2, 1)\n",
    "print(f\"{v.scalar_mult(5)=}, {v.norm()=}\")\n",
    "w = Point2D(1, 0)\n",
    "print(f\"{(e_1 == e_1) = }\")\n",
    "print(f\"{(e_1 == w) = }\")\n",
    "print(f\"{(e_1 == v) = }\")"
   ]
  },
  {
   "cell_type": "markdown",
   "metadata": {},
   "source": [
    "Mit dataclass lässt sich auch das Konzept der Immutability (Unveränderlichkeit) implementieren, also Klassen, deren Inhalt nicht verändert werden kann. Beispiel: Standardbasisvektor $e_1$ -- einmal erzeugt, sollte er nicht mehr veränderbar sein."
   ]
  },
  {
   "cell_type": "code",
   "execution_count": 62,
   "metadata": {},
   "outputs": [
    {
     "name": "stdout",
     "output_type": "stream",
     "text": [
      "e_1 = Point2D(x=1, y=0), e_1.x = 1\n",
      "e_1 = Point2D(x=1, y=0)\n"
     ]
    }
   ],
   "source": [
    "from dataclasses import dataclass\n",
    "\n",
    "@dataclass(frozen=True)\n",
    "class Point2D:\n",
    "    x: float\n",
    "    y: float\n",
    "\n",
    "    def __add__(self, b):\n",
    "        return Point2D(self.x +  b.x, self.y + b.y)\n",
    "\n",
    "    def scalar_mult(self, factor):\n",
    "       return Point2D(factor*self.x, factor*self.y)\n",
    "    \n",
    "    def norm(self):\n",
    "        return (self.x**2 + self.y**2)**0.5\n",
    "\n",
    "e_1 = Point2D(1, 0)\n",
    "print(f\"{e_1 = }, {e_1.x = }\")\n",
    "# Auskommentieren führt zu Fehler:\n",
    "# e_1.x = 2\n",
    "print(f\"{e_1 = }\")"
   ]
  },
  {
   "cell_type": "markdown",
   "metadata": {},
   "source": [
    "# Dekoratoren\n",
    "Dekorator (engl. decorator) ist eine Funktion, die das Verhalten einer Funktion verändert. \n",
    "\n",
    "Funktionen können Funktionen zurück geben."
   ]
  },
  {
   "cell_type": "code",
   "execution_count": 63,
   "metadata": {},
   "outputs": [
    {
     "name": "stdout",
     "output_type": "stream",
     "text": [
      "add5(3) = 8\n"
     ]
    }
   ],
   "source": [
    "def adder(x):\n",
    "    def inner_function(y):\n",
    "        return x + y\n",
    "    return inner_function\n",
    "\n",
    "add5 = adder(5)\n",
    "print(f\"{add5(3) = }\")"
   ]
  },
  {
   "cell_type": "markdown",
   "metadata": {},
   "source": [
    "Einfacher Dekorator:"
   ]
  },
  {
   "cell_type": "code",
   "execution_count": 104,
   "metadata": {},
   "outputs": [
    {
     "name": "stdout",
     "output_type": "stream",
     "text": [
      "Vor Aufruf der Funktion f mit Argumenten (3,) und Keyword-Argumenten {}\n",
      "Der zurückgelieferte Wert ist 6.\n",
      "Nach Aufruf der Funktion.\n",
      "Vor Aufruf der Funktion g mit Argumenten (2,) und Keyword-Argumenten {'name': 'Petra'}\n",
      "Der zurückgelieferte Wert ist 5.\n",
      "Nach Aufruf der Funktion.\n",
      "Vor Aufruf der Funktion h mit Argumenten (7,) und Keyword-Argumenten {}\n",
      "Der zurückgelieferte Wert ist 49.\n",
      "Nach Aufruf der Funktion.\n"
     ]
    }
   ],
   "source": [
    "def simple_decorator(func):\n",
    "    def wrapper(*args, **kwargs):\n",
    "        print(f\"Vor Aufruf der Funktion {func.__name__} mit Argumenten {args} und Keyword-Argumenten {kwargs}\")\n",
    "        val = func(*args, **kwargs)\n",
    "        print(f\"Der zurückgelieferte Wert ist {val}.\")\n",
    "        print(f\"Nach Aufruf der Funktion.\")\n",
    "    return wrapper\n",
    "\n",
    "@simple_decorator\n",
    "def f(x):\n",
    "    return 2*x\n",
    "\n",
    "@simple_decorator\n",
    "def g(x, name='Peter'):\n",
    "    return x+3\n",
    "\n",
    "f(3)\n",
    "g(2, name='Petra')\n",
    "\n",
    "@simple_decorator\n",
    "def h(x):\n",
    "    return 7*x\n",
    "\n",
    "# Dies ist äquivalent zu\n",
    "def h(x):\n",
    "    return 7*x\n",
    "h = simple_decorator(h)\n",
    "\n",
    "h(7)"
   ]
  },
  {
   "cell_type": "code",
   "execution_count": 81,
   "metadata": {},
   "outputs": [
    {
     "name": "stdout",
     "output_type": "stream",
     "text": [
      "*x =  2 3 Hugo\n"
     ]
    }
   ],
   "source": [
    "def f(*x, **y):\n",
    "    print(\"*x = \", *x)\n",
    "    #print(\"**y = \", **y.keys())\n",
    "    #return **y\n",
    "\n",
    "f(2, 3, 'Hugo', name=\"Peter\")"
   ]
  },
  {
   "cell_type": "code",
   "execution_count": 127,
   "metadata": {},
   "outputs": [
    {
     "name": "stdout",
     "output_type": "stream",
     "text": [
      "Die Funktion sum_ints brauchte 0.039511041999503504 Sekunden zur Ausführung.\n",
      "sum_ints(1_000_000) = 500000500000\n"
     ]
    }
   ],
   "source": [
    "from time import perf_counter\n",
    "\n",
    "def exec_time(func):\n",
    "    def wrapper(*args, **kwargs):\n",
    "        t1 = perf_counter()\n",
    "        result = func(*args, **kwargs)\n",
    "        t2 = perf_counter()\n",
    "        print(f\"Die Funktion {func.__name__} brauchte {t2-t1} Sekunden zur Ausführung.\")\n",
    "        return result\n",
    "\n",
    "    return wrapper\n",
    "\n",
    "@exec_time\n",
    "def sum_ints(n):\n",
    "    return sum(range(n+1))\n",
    "\n",
    "print(f\"{sum_ints(1_000_000) = }\")"
   ]
  },
  {
   "cell_type": "code",
   "execution_count": 119,
   "metadata": {},
   "outputs": [
    {
     "name": "stdout",
     "output_type": "stream",
     "text": [
      "f.__name__='wrapper'\n",
      "Help on function wrapper in module __main__:\n",
      "\n",
      "wrapper(*args, **kwargs)\n",
      "\n"
     ]
    }
   ],
   "source": [
    "@simple_decorator\n",
    "def f(x):\n",
    "    \"\"\"Addiere 3 zum Argument.\"\"\"\n",
    "    return x + 3\n",
    "\n",
    "print(f\"{f.__name__=}\")\n",
    "help(f)"
   ]
  },
  {
   "cell_type": "code",
   "execution_count": 120,
   "metadata": {},
   "outputs": [
    {
     "name": "stdout",
     "output_type": "stream",
     "text": [
      "f.__name__='f'\n",
      "Help on function f in module __main__:\n",
      "\n",
      "f(x)\n",
      "    Addiere 3 zum Argument.\n",
      "\n"
     ]
    }
   ],
   "source": [
    "from functools import wraps\n",
    "\n",
    "def my_decorator(func):\n",
    "    @wraps(func)\n",
    "    def wrapper(*args, **kwargs):\n",
    "        print(f\"Vor Aufruf der Funktion {func.__name__} mit Argumenten {args} und Keyword-Argumenten {kwargs}\")\n",
    "        val = func(*args, **kwargs)\n",
    "        print(f\"Der zurückgelieferte Wert ist {val}.\")\n",
    "        print(f\"Nach Aufruf der Funktion.\")\n",
    "    return wrapper\n",
    "\n",
    "@my_decorator\n",
    "def f(x):\n",
    "    \"\"\"Addiere 3 zum Argument.\"\"\"\n",
    "    return x + 3\n",
    "\n",
    "print(f\"{f.__name__=}\")\n",
    "help(f)"
   ]
  },
  {
   "cell_type": "code",
   "execution_count": null,
   "metadata": {},
   "outputs": [],
   "source": [
    "def repeat(n):\n",
    "    \"\"\"Rufe die Funktion n-mal auf\"\"\"\n",
    "    def wrapper(*args, *kwargs):\n",
    "        for k in range(n):\n",
    "            result = func(*args, **kwargs)\n",
    "        return result\n",
    "    return wrapper\n",
    "\n"
   ]
  }
 ],
 "metadata": {
  "kernelspec": {
   "display_name": "Python 3 (ipykernel)",
   "language": "python",
   "name": "python3"
  },
  "language_info": {
   "codemirror_mode": {
    "name": "ipython",
    "version": 3
   },
   "file_extension": ".py",
   "mimetype": "text/x-python",
   "name": "python",
   "nbconvert_exporter": "python",
   "pygments_lexer": "ipython3",
   "version": "3.12.10"
  }
 },
 "nbformat": 4,
 "nbformat_minor": 4
}
