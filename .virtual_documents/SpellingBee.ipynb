character_list = "mcoialy"
character_list = character_list.upper()
character_set = set(character_list)
center = character_list[0] # Erster Buchstabe der Liste muss im Wort enthalten sein

print(character_list)

def score(word):
    word = word.upper()
    word_charset = set(word)
    lw = len(word)
    if lw >= 4 and word_charset.issubset(character_set) and center in word:
        score = 1
        if lw > 4:
            score = lw
            if word_charset == character_set: # PANGRAM!
                score += 7
    else:
        score = 0
    return score

for w in ["mail", "Comic", "locally", "faire", "mia", "comically"]:
    print(f"score({w}) = {score(w)}")



fl = open("dictionary.txt", "r")
words = fl.read()
word_arr = words.split('\n')
#word_set = set(word_arr)
fl.close()
d = {}
for w in word_arr:
    s = score(w)
    if s > 0:
        # print(w)
        d[w] = s

results = sorted(d.items(), key=lambda x:x[1], reverse=True)
results
