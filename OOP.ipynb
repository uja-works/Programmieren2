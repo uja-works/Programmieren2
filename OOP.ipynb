{
 "cells": [
  {
   "cell_type": "markdown",
   "id": "b299b9ed-f5eb-48ad-bda9-2318fb629b17",
   "metadata": {},
   "source": [
    "# Objektorientierte Programmierung\n",
    "\n",
    "Ziel: Rechnen mit \"Zahlen\" auf Restklassenkörpern (Modul-Arithmetik).\n",
    "\n",
    "Reste bei Addition und Multiplikation modulo n bilden einen Körper, wenn n eine Primzahl ist.\n",
    "\n",
    "Wir definieren eine Klasse `FiniteFieldElement` (Körper: engl. field), die die Addition und Multiplikation modulo p (prim) implementiert."
   ]
  },
  {
   "cell_type": "code",
   "execution_count": 37,
   "id": "2a8ebff3-81fa-4f4a-9ba5-7b50756214dd",
   "metadata": {},
   "outputs": [],
   "source": [
    "class FiniteFieldElement:\n",
    "    # Konstruktor\n",
    "    def __init__(self, z, p):\n",
    "        self.p = p\n",
    "        self.z = z % p\n",
    "\n",
    "    def __add__(self, z2):\n",
    "        if self.p != z2.p:\n",
    "            raise TypeError(\"Die Addition ist nicht definiert für Elemente unterschiedlicher Körper\")\n",
    "        return FiniteFieldElement( (self.z + z2.z) % self.p, self.p)\n",
    "\n",
    "    def __mul__(self, z2):\n",
    "        if self.p != z2.p:\n",
    "            raise TypeError(\"Die Multiplikation ist nicht definiert für Elemente unterschiedlicher Körper\")\n",
    "        return FiniteFieldElement( (self.z * z2.z) % self.p, self.p)\n",
    "    \n",
    "    # Darstellung des Objekts als String\n",
    "    def __str__(self):\n",
    "        return f\"{self.z} mod {self.p}\"\n"
   ]
  },
  {
   "cell_type": "code",
   "execution_count": 38,
   "id": "fbf0d48a-75c7-409f-839a-10b8a938ab9c",
   "metadata": {},
   "outputs": [
    {
     "name": "stdout",
     "output_type": "stream",
     "text": [
      "3 mod 5\n"
     ]
    }
   ],
   "source": [
    "z1 = FiniteFieldElement(13, 5)\n",
    "print(z1)"
   ]
  },
  {
   "cell_type": "code",
   "execution_count": 39,
   "id": "eed3030c-76df-4e46-ada6-1210a8033e8b",
   "metadata": {},
   "outputs": [
    {
     "name": "stdout",
     "output_type": "stream",
     "text": [
      "3 mod 5 + 2 mod 5 = 0 mod 5\n",
      "3 mod 5 * 2 mod 5 = 1 mod 5\n"
     ]
    }
   ],
   "source": [
    "z2 = FiniteFieldElement(2, 5)\n",
    "print(f\"{z1} + {z2} = {z1 + z2}\")\n",
    "print(f\"{z1} * {z2} = {z1 * z2}\")"
   ]
  },
  {
   "cell_type": "code",
   "execution_count": null,
   "id": "a314ca3b-1ecf-46d1-b5dd-44278aec4e1e",
   "metadata": {},
   "outputs": [],
   "source": []
  }
 ],
 "metadata": {
  "kernelspec": {
   "display_name": "Python 3 (ipykernel)",
   "language": "python",
   "name": "python3"
  },
  "language_info": {
   "codemirror_mode": {
    "name": "ipython",
    "version": 3
   },
   "file_extension": ".py",
   "mimetype": "text/x-python",
   "name": "python",
   "nbconvert_exporter": "python",
   "pygments_lexer": "ipython3",
   "version": "3.12.4"
  }
 },
 "nbformat": 4,
 "nbformat_minor": 5
}
