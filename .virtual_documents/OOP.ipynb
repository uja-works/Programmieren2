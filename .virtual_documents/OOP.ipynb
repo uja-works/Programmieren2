


class FiniteFieldElement:
    # Konstruktor
    def __init__(self, z, p):
        self.p = p
        self.z = z % p

    def __add__(self, z2):
        if self.p != z2.p:
            raise TypeError("Die Addition ist nicht definiert für Elemente unterschiedlicher Körper")
        return FiniteFieldElement( (self.z + z2.z) % self.p, self.p)

    def __mul__(self, z2):
        if self.p != z2.p:
            raise TypeError("Die Multiplikation ist nicht definiert für Elemente unterschiedlicher Körper")
        return FiniteFieldElement( (self.z * z2.z) % self.p, self.p)
    
    # Darstellung des Objekts als String
    def __str__(self):
        return f"{self.z} mod {self.p}"

    # Berechne additives Inverses
    def additive_inverse(self):
        return -self.z % self.p


z1 = FiniteFieldElement(4, 7)
print(z1)


z2 = FiniteFieldElement(5, 7)
print(f"{z1} + {z2} = {z1 + z2}")
print(f"{z1} * {z2} = {z1 * z2}")
print(f"Das additive inverse Element von {z1} ist {z1.additive_inverse()}.")








def factorial(n):
    if n == 0:
        return 1
    else:
        return n * factorial(n-1)

factorial(100)





def gcd(m, n):
    if n == 0:
        return m
    return gcd(n, m%n)

gcd(91, 28)





def extended_euclid(m, n):
    """
    Liefert den ggT von m und n, sowie zwei ganze Zahlen x und y, so dass ggT = x*m + y*n ist.
    Input: m, n
    Output ggT (gcd), x, y
    """
    if n == 0:
        return (m, 1, 0)
    gcd, x1, y1 = extended_euclid(n, m%n)
    x = y1
    y = x1 - (m//n)*y1
    return (gcd, x, y)


extended_euclid(91, 28)





class FiniteFieldElement:
    # Konstruktor
    def __init__(self, z, p):
        self.p = p
        self.z = z % p

    def __add__(self, z2):
        if self.p != z2.p:
            raise TypeError("Die Addition ist nicht definiert für Elemente unterschiedlicher Körper")
        return FiniteFieldElement( (self.z + z2.z) % self.p, self.p)

    def __mul__(self, z2):
        if self.p != z2.p:
            raise TypeError("Die Multiplikation ist nicht definiert für Elemente unterschiedlicher Körper")
        return FiniteFieldElement( (self.z * z2.z) % self.p, self.p)
    
    # Darstellung des Objekts als String
    def __str__(self):
        return f"({self.z} mod {self.p})"

    # Darstellung des Objekts für den Entwickler
    def __repr__(self):
        return f"({self.z} mod {self.p})"

    # Berechne additives Inverses
    def additive_inverse(self):
        return -self.z % self.p

    def multiplicate_inverse(self):
        gcd, x, y = extended_euclid(self.z, self.p)
        # return x % self.p
        return FiniteFieldElement(x, self.p)

    # Und dies erlaubt dann auch die Division durch ein Feldelement - dargestellt
    # durch den Operator /, der der Funktion __truediv__ entspricht. (Im Gegensatz
    # zu __floordiv__, die den Operator // implementiert.
    def __truediv__(self, z2):
        return self * z2.multiplicate_inverse()


z65_137 = FiniteFieldElement(65, 137)
print(z65_137.multiplicate_inverse())


65*78 % 137


z5_7 = FiniteFieldElement(5, 7)
z5_7.multiplicate_inverse()


z5_7 / z5_7


z2_7 = FiniteFieldElement(2, 7)
z5_7 = FiniteFieldElement(5, 7)
frac = z2_7 / z5_7
f"""{z2_7} dividiert durch {z5_7} ist {frac}, und {frac} * {z5_7} ist {frac*z5_7}."""











1 << 10





1024 >> 2





# Bitweises UND
print(f"{7 & 2 = }")
# Bitweises ODER
print(f"{7 | 2 = }")
# Bitweises ENTWEDER ODER
print(f"{7 ^ 2 = }")


# Potenzieren
def pow(base, exponent):
    prod = 1
    b = base
    e = exponent
    while e:
        if e & 1:
            prod *= b
        b *= b
        e = e >> 1
    return prod


pow(2, 13)





def pow(base, exponent):
    b = base
    e = exponent
    result = 1
    while e:
        if e & 1:
            result *= b
        b *= b
        e >>= 1
    return result

class FiniteFieldElement:
    # Konstruktor
    def __init__(self, z, p):
        self.p = p
        self.z = z % p

    def __add__(self, z2):
        if self.p != z2.p:
            raise TypeError("Die Addition ist nicht definiert für Elemente unterschiedlicher Körper")
        return FiniteFieldElement( (self.z + z2.z) % self.p, self.p)

    def __mul__(self, z2):
        if self.p != z2.p:
            raise TypeError("Die Multiplikation ist nicht definiert für Elemente unterschiedlicher Körper")
        return FiniteFieldElement( (self.z * z2.z) % self.p, self.p)
    
    # Darstellung des Objekts als String
    def __str__(self):
        return f"({self.z} mod {self.p})"

    # Darstellung des Objekts für den Entwickler
    def __repr__(self):
        return f"({self.z} mod {self.p})"

    # Berechne additives Inverses
    def additive_inverse(self):
        return -self.z % self.p

    def multiplicate_inverse(self):
        gcd, x, y = extended_euclid(self.z, self.p)
        # return x % self.p
        return FiniteFieldElement(x, self.p)

    # Und dies erlaubt dann auch die Division durch ein Feldelement - dargestellt
    # durch den Operator /, der der Funktion __truediv__ entspricht. (Im Gegensatz
    # zu __floordiv__, die den Operator // implementiert.
    def __truediv__(self, z2):
        return self * z2.multiplicate_inverse()

    def __pow__(self, n):
        pass

    def __pow__(self, exponent):
        one = FiniteFieldElement(1, self.p)
        b = self * one
        e = exponent
        result = one
        while e:
            if e & 1:
                result *= b
            b *= b
            e >>= 1
        return result


z3_5 = FiniteFieldElement(3, 5)
print(f"{z3_5 ** 130 = }")
print(f"{z3_5 / z3_5 = }")









