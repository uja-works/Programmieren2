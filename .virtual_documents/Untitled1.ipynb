


class FiniteFieldElement:
    # Konstruktor
    def __init__(self, z, p):
        self.z = z
        self.p = p

    # Darstellung des Objekts als String
#    def __str__():
#        return f"{z} mod {p}"



z1 = FiniteFieldElement(3, 5)
print(z1)



