


class FiniteFieldElement:
    # Konstruktor
    def __init__(self, z, p):
        self.p = p
        self.z = z % p

    def __add__(self, z2):
        if self.p != z2.p:
            raise TypeError("Die Addition ist nicht definiert für Elemente unterschiedlicher Körper")
        return FiniteFieldElement( (self.z + z2.z) % self.p, self.p)

    def __mul__(self, z2):
        if self.p != z2.p:
            raise TypeError("Die Multiplikation ist nicht definiert für Elemente unterschiedlicher Körper")
        return FiniteFieldElement( (self.z * z2.z) % self.p, self.p)
    
    # Darstellung des Objekts als String
    def __str__(self):
        return f"{self.z} mod {self.p}"



z1 = FiniteFieldElement(13, 5)
print(z1)


z2 = FiniteFieldElement(2, 5)
print(f"{z1} + {z2} = {z1 + z2}")
print(f"{z1} * {z2} = {z1 * z2}")



