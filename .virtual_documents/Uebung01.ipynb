








from sympy import *

x, a, b = symbols("x a b")
integrate( (1 + x) / (1 - 2*x**2), (x, a, b) )








integrate( exp(-x*x), (x, -oo, oo))








k, n = symbols("k n")
S_1 = Sum(k, (k, 1, n)) 
S_1.doit().simplify()


# Alternative: summation statt Sum...doit()
S_2 = summation(k**2, (k, 1, n)) 
S_2.simplify().factor()


q = symbols("q")
S_3 = summation(q**k, (k,0,oo))
S_3








#%matplotlib widget
from sympy.plotting import plot3d
x, y = symbols("x y")
plot3d( sin(x) * cos(y) , (x, -5, 5), (y, -5, 5))



