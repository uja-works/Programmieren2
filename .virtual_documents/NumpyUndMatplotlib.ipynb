











%%time
# Monte-Carlo-Methode zur näherungsweisen Berechnung von pi
#
# 1. Ziehe N zufällige Punkte aus dem Einheitsquadrat. Jeder Punkt hat eine zufällige x- und y-Koordinate 
#    zwischen 0 und 1 (gleichförmig verteilt).
# 2. Prüfe für jeden dieser Punkte, ob er im Einheitskreis liegt, d.h., ob x**2 + y**2 <= 1 ist.
# 3. Die Fläche eines Viertels des Einheitskreises dividiert dividiert durch die Fläche des Einheitsquadrats ist
#    pi/4. Dies ist ebenfalls die Wahrscheinlichkeit, dass einer zufälligen Punkte im Einheitsquadrat landet.
# 4. Häufigkeit sollte nach Gesetz der großen Zahlen gegen die Wahrscheinlichkeit gehen, d.h.
#    Anzahl der Punkte im Einheitskreis durch Anzahl der Punkte insgesamt sollte gegen pi/4 gehen.
#    "Monte-Carlo-Schätzer für pi = 4*(Anzahl Treffer)/(Anzahl Versuche)

from random import random
from math import pi
N = 4_000_000
hits = 0 # Anzahl der Treffer
for i in range(N):
    x = random()
    y = random()    
    if x*x + y*y <= 1:
        hits += 1

print(f"MC-Schätzer für pi = {4*hits/N} (wahrer Wert: {pi})")





import numpy as np
# Enthält die üblichen mathematischen Funktionen und Konstanten
print(f"{np.sin(3.14) = }")
print(f"{np.cos(np.pi) = }")





np.random.random(10)


# Matrix von Zufallszahlen
np.random.random([2, 3]) # 2 Zeilen, 3 Spalten





# Matrix
A = np.array([[2, 3], [4, 5]])
A


np.sqrt(A)


A*A # Komponentenweise Multiplikation


A@A # Matrixprodukt


%%time
# MC-Methode mit numpy

N = 4_000_000
x = np.random.random(N)
y = np.random.random(N)

hits = (x*x + y*y <= 1)

print(f"MC-Schätzer für pi = {4*np.sum(hits)/N}")





# Funktion zur Schätzung von pi mit Monte Carlo
from random import random
def mc_pi(N):
    hits = 0 # Anzahl der Treffer
    for i in range(N):
        x = random()
        y = random()    
        if x*x + y*y <= 1:
            hits += 1
    return 4*hits/N


%%timeit
mc_pi(4_000_000)


# Performance-Messung mit time
import time
for k in range(10):
    time.sleep(0.1) # Schlafe für eine Zehntelsekunde
    print(time.time())

t1 = time.time()
val = mc_pi(4_000_000)
t2 = time.time()
print(f"Laufzeit = {t2 - t1} Sekunden.")


help(time.perf_counter)





%%time
# Empfohlen für Benchmarks: time.perf_counter() statt time.time()
from time import perf_counter, perf_counter_ns

t1 = perf_counter_ns()
mc_pi(4_000_000)
t2 = perf_counter_ns()
t2-t1





import numba
import time


def mc_naive(N):
    hits = 0 # Anzahl der Treffer
    for i in range(N):
        x = random()
        y = random()    
        if x*x + y*y <= 1:
            hits += 1
    return 4*hits/N
    
@numba.njit
def mc_naive_jit(N):
    hits = 0 # Anzahl der Treffer
    for i in range(N):
        x = random()
        y = random()    
        if x*x + y*y <= 1:
            hits += 1
    return 4*hits/N

def mc_numpy(N):
    x = np.random.random(N)
    y = np.random.random(N)
    hits = (x*x + y*y <= 1)
    return 4*np.sum(hits)/N

@numba.njit
def mc_numpy_jit(N):
    x = np.random.random(N)
    y = np.random.random(N)
    hits = (x*x + y*y <= 1)
    return 4*np.sum(hits)/N


N = 4_000_000

t1 = time.perf_counter()
pi_mc = mc_naive(N)
t2 = time.perf_counter()
print(f"mc_naive: \t {pi_mc} in {t2 - t1} sec.")

t1 = time.perf_counter()
pi_mc = mc_naive_jit(N)
t2 = time.perf_counter()
print(f"mc_naive_jit: \t {pi_mc} in {t2 - t1} sec.")

t1 = time.perf_counter()
pi_mc = mc_numpy(N)
t2 = time.perf_counter()
print(f"mc_numpy: \t {pi_mc} in {t2 - t1} sec.")

t1 = time.perf_counter()
pi_mc = mc_numpy_jit(N)
t2 = time.perf_counter()
print(f"mc_numpy_jit: \t {pi_mc} in {t2 - t1} sec.")





# %matplotlib widgets
import numpy as np
import matplotlib.pyplot as plt

x = np.linspace(-np.pi, np.pi, 200)
fig = plt.figure() # Neue Abbildung
plt.plot(x, np.sin(x));
plt.show()  # In einigen Umgebungen wird die Abbildung ohne show() nicht gezeigt.


# Alternative, weniger an MATLAB orientierte Syntax
fig, ax = plt.subplots()
ax.plot(x, np.sin(x));


from numpy.random import rand, randn, normal
randn(10) # Ziehe 10 Punkte aus Standardnormalverteilung


normal(0, 1, 10) # Ziehe 10 Punkte aus Standardnormalverteilung


%matplotlib inline
# Dichte der Standardnormalverteilung
def p_normal(x):
    return np.exp(-x*x/2.0)/np.sqrt(2*np.pi)


N = 10_000
x = randn(N)
fig_normal_hist = plt.figure()
plt.title("Standardnormalverteilung")
plt.xlabel("Wert")
plt.ylabel("Dichte")
plt.hist(x, bins=50, density=True)
x_lin = np.linspace(-4, 4, 200)
plt.plot(x_lin, p_normal(x_lin), c='orange', lw=3)
plt.legend(["Normalverteilung", "Histogramm"]) # Labels als Liste von Strings
plt.show()














%matplotlib widget
### 3D-Plot
import matplotlib.pyplot as plt
import numpy as np

from matplotlib import cm

plt.style.use('_mpl-gallery')

# Make data
X = np.arange(-5, 5, 0.25)
Y = np.arange(-5, 5, 0.25)
X, Y = np.meshgrid(X, Y)
Z = np.exp( -(X**2 + Y**2) ) * np.sin(X) * np.cos(Y)

# Plot the surface
fig, ax = plt.subplots(subplot_kw={"projection": "3d"})
ax.plot_surface(X, Y, Z, vmin=Z.min() * 2, cmap=cm.Blues)

ax.set(xticklabels=[],
       yticklabels=[],
       zticklabels=[])

plt.show()


import matplotlib.pyplot as plt
import numpy as np

from matplotlib.ticker import LinearLocator

ax = plt.figure().add_subplot(projection='3d')

# Make data.
X = np.arange(-5, 5, 0.25)
xlen = len(X)
Y = np.arange(-5, 5, 0.25)
ylen = len(Y)
X, Y = np.meshgrid(X, Y)
Z = np.exp(-(X**2 + Y**2)) * np.sin(X) * np.cos(Y)

# Create an empty array of strings with the same shape as the meshgrid, and
# populate it with two colors in a checkerboard pattern.
colortuple = ('y', 'b')
colors = np.empty(X.shape, dtype=str)
for y in range(ylen):
    for x in range(xlen):
        colors[y, x] = colortuple[(x + y) % len(colortuple)]

# Plot the surface with face colors taken from the array we made.
surf = ax.plot_surface(X, Y, Z, facecolors=colors, linewidth=0)

# Customize the z axis.
ax.set_zlim(-1, 1)
ax.zaxis.set_major_locator(LinearLocator(6))

plt.show()


x = np.arange(1, 3, 1)
y = np.arange(1, 4, 1)
x, y
grid = np.meshgrid(x, y)
grid



