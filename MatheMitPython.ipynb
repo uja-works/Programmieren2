{
 "cells": [
  {
   "cell_type": "markdown",
   "id": "764d535e-19f0-4017-9599-f2f976b012a8",
   "metadata": {},
   "source": [
    "# Mathematik in Python\n",
    "## Mathematik ohne Bibliotheken\n",
    "Von Haus aus beherrscht Python die vier Grundrechenarten, Potenzrechnung und Modulo-Operationen."
   ]
  },
  {
   "cell_type": "code",
   "execution_count": 2,
   "id": "9fffae24-3200-45d1-97a6-09d97ab4c70f",
   "metadata": {},
   "outputs": [
    {
     "name": "stdout",
     "output_type": "stream",
     "text": [
      "5 + 7 = 12\n",
      "5 * 7 = 35\n",
      "5 / 7 = 0.7142857142857143\n",
      "15 // 7 = 2\n",
      "15 % 7 = 1\n",
      "15 % 7 = 1\n",
      "2 ** 3 = 8\n",
      "2 ** 0.5 =1.4142135623730951\n",
      "abs(-1) = 1\n"
     ]
    }
   ],
   "source": [
    "print(f\"5 + 7 = {5 + 7}\")\n",
    "print(f\"5 * 7 = {5 * 7}\")\n",
    "print(f\"5 / 7 = {5 / 7}\")\n",
    "print(f\"15 // 7 = {15 // 7}\")  # Ganzzahlige Division\n",
    "print(f\"15 % 7 = {15 % 7}\")   # Rest nach Division (\"Division modulo 7\")\n",
    "print(f\"{15 % 7 = }\")   # Rest nach Division (\"Division modulo 7\")\n",
    "print(f\"{2 ** 3 = }\")   # \"2 hoch 3\" -- in einigen Programmiersprachen 2^3\n",
    "print(f\"{2 ** 0.5 =}\")  # Quadratwurzel aus 2\n",
    "print(f\"{abs(-1) = }\")  # Betragsfunktion"
   ]
  },
  {
   "cell_type": "markdown",
   "id": "9a60041c-9ac0-4be2-bf70-b74e07ee62dc",
   "metadata": {},
   "source": [
    "Python kann auch mit komplexen Zahlen rechnen, auch für Potenzrechnung."
   ]
  },
  {
   "cell_type": "code",
   "execution_count": 3,
   "id": "67240b32-0cb3-4447-93f5-a69efd2f9e96",
   "metadata": {},
   "outputs": [
    {
     "name": "stdout",
     "output_type": "stream",
     "text": [
      "z * z = (-7+24j)\n",
      "1j**0.5 = (0.7071067811865476+0.7071067811865476j)\n"
     ]
    }
   ],
   "source": [
    "z = 3 + 4j  # j ist die imaginäre Einheit in vielen Ingenieurwissenschaften\n",
    "print(f\"{z * z = }\")\n",
    "print(f\"{1j**0.5 = }\")  # Wurzel der imaginären"
   ]
  },
  {
   "cell_type": "markdown",
   "id": "81531b6a-9e57-43f3-9351-81dddd026efe",
   "metadata": {},
   "source": [
    "Eine wichtige Datenstruktur nicht nur für die Mathematik ist die Menge -- engl. \"set\". Eine Menge ist nicht sortiert und enthält jedes Element nur einmal."
   ]
  },
  {
   "cell_type": "code",
   "execution_count": 4,
   "id": "96c16183-f047-4316-aced-d5e5ad8791c9",
   "metadata": {},
   "outputs": [
    {
     "name": "stdout",
     "output_type": "stream",
     "text": [
      "list1 = ['a', 'b', 'c', 'c', 'c', 'b']\n",
      "set1 = {'a', 'c', 'b'}\n"
     ]
    }
   ],
   "source": [
    "list1 = [\"a\", \"b\", \"c\", \"c\", \"c\", \"b\"]\n",
    "print(f\"{list1 = }\")\n",
    "set1 = set(list1)\n",
    "print(f\"{set1 = }\")"
   ]
  },
  {
   "cell_type": "markdown",
   "id": "625dd842-79df-487f-9712-4a2cc18c86bd",
   "metadata": {},
   "source": [
    "Mengen lassen sic außer über die Funktion set auch direkt mit Mengenklammern definieren. Python unterstützt mengentheoretische Operationen wie Vereinigung (union), Differenz etc."
   ]
  },
  {
   "cell_type": "code",
   "execution_count": 5,
   "id": "eb874419-99d6-41ff-9e79-6d4aee7a20e5",
   "metadata": {},
   "outputs": [
    {
     "data": {
      "text/plain": [
       "set"
      ]
     },
     "execution_count": 5,
     "metadata": {},
     "output_type": "execute_result"
    }
   ],
   "source": [
    "set2 = {1, 2, 3}\n",
    "type(set2)"
   ]
  },
  {
   "cell_type": "code",
   "execution_count": 6,
   "id": "55f7040e-056f-4bc5-b1e5-ee3750aefdd4",
   "metadata": {},
   "outputs": [
    {
     "name": "stdout",
     "output_type": "stream",
     "text": [
      "set1.union(set2) = {'a', 'c', 1, 2, 3, 'b'}\n",
      "set1.intersection(set2) = set()\n"
     ]
    }
   ],
   "source": [
    "print(f\"{set1.union(set2) = }\")    # Vereinigungsmenge\n",
    "print(f\"{set1.intersection(set2) = }\") # Schnittmenge (in diesem Falle die leere Menge)"
   ]
  },
  {
   "cell_type": "markdown",
   "id": "1f1d0f0d-bf42-46d6-a993-700fab06e42e",
   "metadata": {},
   "source": [
    "In Python zählen 0, die leere Menge `set()` oder `{}`, sowie leere Listen `[]` und leere Strings `\"\"` als logisches falsch (`False`)."
   ]
  },
  {
   "cell_type": "code",
   "execution_count": 7,
   "id": "84fed671-ddd7-478c-bd5c-167c20af9025",
   "metadata": {},
   "outputs": [
    {
     "name": "stdout",
     "output_type": "stream",
     "text": [
      "B\n"
     ]
    }
   ],
   "source": [
    "if set():\n",
    "    print(\"A\")\n",
    "else:\n",
    "    print(\"B\")"
   ]
  },
  {
   "cell_type": "code",
   "execution_count": 8,
   "id": "ab25d58b-c115-436b-8e1f-c7c8f2ef17ca",
   "metadata": {},
   "outputs": [
    {
     "data": {
      "text/plain": [
       "frozenset({frozenset()})"
      ]
     },
     "execution_count": 8,
     "metadata": {},
     "output_type": "execute_result"
    }
   ],
   "source": [
    "A = frozenset()\n",
    "B = {frozenset(A)}\n",
    "B = frozenset(B)\n",
    "B"
   ]
  },
  {
   "cell_type": "markdown",
   "id": "a95f03eb-8fdc-459f-b7d7-e55245e79344",
   "metadata": {},
   "source": [
    "## Die Bibliothek `math`\n",
    "Die `math`-Bibliothek gehört zu den Standard-Bibliotheken, die mit jeder regulären Distribution von Python mitgeliefert wird. Sie muss aber explizit importiert werden und erlaubt den Zugriff aus Funktionen wie `sqrt` (Quadratwurzel), `sin`, `cos`, `exp` etc. Auch einige mathematische Konstanten wie $\\pi$ sind dort definiert."
   ]
  },
  {
   "cell_type": "code",
   "execution_count": 9,
   "id": "b4ba180e-7308-49b0-b32f-1cb034102482",
   "metadata": {},
   "outputs": [
    {
     "name": "stdout",
     "output_type": "stream",
     "text": [
      "math.exp(1) = 2.718281828459045\n",
      "math.cos(math.pi) = -1.0\n"
     ]
    }
   ],
   "source": [
    "import math\n",
    "print(f\"{math.exp(1) = }\")\n",
    "print(f\"{math.cos(math.pi) = }\")"
   ]
  },
  {
   "cell_type": "markdown",
   "id": "4291a2d8-01f4-4aac-9ef9-80bf55a33783",
   "metadata": {},
   "source": [
    "Alternativ, aber nicht unbedingt empfehlenswert, kann man Bibliotheken als Ganzes importieren und hat dann Zugriff auf alle Methoden und Variablen, ohne dass man den Namen der Bibliothek voranstellt. Besser: Importieren von einzelnen Elementen."
   ]
  },
  {
   "cell_type": "code",
   "execution_count": 10,
   "id": "1921f28a-831e-42e7-8c74-8227a73ba6ae",
   "metadata": {},
   "outputs": [
    {
     "data": {
      "text/plain": [
       "1.4142135623730951"
      ]
     },
     "execution_count": 10,
     "metadata": {},
     "output_type": "execute_result"
    }
   ],
   "source": [
    "# Importieren von sqrt und cos\n",
    "from math import sqrt, cos\n",
    "sqrt(2)"
   ]
  },
  {
   "cell_type": "code",
   "execution_count": 11,
   "id": "d6a74f88-e739-48e9-aa2c-85667e493efa",
   "metadata": {},
   "outputs": [
    {
     "data": {
      "text/plain": [
       "1.0"
      ]
     },
     "execution_count": 11,
     "metadata": {},
     "output_type": "execute_result"
    }
   ],
   "source": [
    "# Importieren aller Funktionen aus math\n",
    "from math import *\n",
    "sin(pi/2)"
   ]
  },
  {
   "cell_type": "markdown",
   "id": "58cce09b-50f1-4bed-881f-0e40069826b3",
   "metadata": {},
   "source": [
    "Nachteil beim Importieren mit `import *`: mögliche Namenskonflikte, wenn man mit anderen Bibliotheken arbeitet, in denen ebenfalls eine `sin`- oder `exp`-Funktion definiert ist."
   ]
  },
  {
   "cell_type": "markdown",
   "id": "2142b072-174a-4e63-9b4e-7c57c481d55c",
   "metadata": {},
   "source": [
    "## Die Bibliothek `sympy` (Symbolische Mathematik mit Python)\n",
    "Bei Sympy nicht unüblich: Importiere alles."
   ]
  },
  {
   "cell_type": "code",
   "execution_count": 12,
   "id": "e2444ae7-3a64-4099-8460-08e235940fc5",
   "metadata": {},
   "outputs": [],
   "source": [
    "from sympy import *\n",
    "init_printing()"
   ]
  },
  {
   "cell_type": "markdown",
   "id": "b96e3abe-f9d7-4457-b8dc-dd71308042bd",
   "metadata": {},
   "source": [
    "Dadurch wird `sin` zum Sinus in Sympy, `exp` zur Exponentialfunktion in Sympy etc. Diese Versionen können viel mehr als die `math`-Versionen."
   ]
  },
  {
   "cell_type": "code",
   "execution_count": 13,
   "id": "7303f591-5654-4b54-97f2-08ee69fffe03",
   "metadata": {},
   "outputs": [
    {
     "data": {
      "image/png": "[encoded data removed]",
      "text/latex": [
       "$\\displaystyle 0.00159265291648683$"
      ],
      "text/plain": [
       "0.00159265291648683"
      ]
     },
     "execution_count": 13,
     "metadata": {},
     "output_type": "execute_result"
    }
   ],
   "source": [
    "sin(3.14)"
   ]
  },
  {
   "cell_type": "code",
   "execution_count": 14,
   "id": "5b37f2bc-5849-4801-a077-4a4718d16ca6",
   "metadata": {},
   "outputs": [
    {
     "data": {
      "image/png": "[encoded data removed]",
      "text/latex": [
       "$\\displaystyle 0$"
      ],
      "text/plain": [
       "0"
      ]
     },
     "execution_count": 14,
     "metadata": {},
     "output_type": "execute_result"
    }
   ],
   "source": [
    "sin(pi)"
   ]
  },
  {
   "cell_type": "code",
   "execution_count": 15,
   "id": "8ea0a9c2-aa02-4a81-a208-d29f531f919b",
   "metadata": {},
   "outputs": [
    {
     "data": {
      "image/png": "[encoded data removed]",
      "text/latex": [
       "$\\displaystyle -1$"
      ],
      "text/plain": [
       "-1"
      ]
     },
     "execution_count": 15,
     "metadata": {},
     "output_type": "execute_result"
    }
   ],
   "source": [
    "I*I # imaginäre Einheit"
   ]
  },
  {
   "cell_type": "markdown",
   "id": "f9c37b0b-8d04-40e1-bf5a-1c6704cee9e3",
   "metadata": {},
   "source": [
    "Auch Bruchrechnung ist bekannt:"
   ]
  },
  {
   "cell_type": "code",
   "execution_count": 16,
   "id": "707d9f4c-4bd4-4b96-ba9a-b82ce9a358c9",
   "metadata": {},
   "outputs": [
    {
     "data": {
      "image/png": "[encoded data removed]",
      "text/latex": [
       "$\\displaystyle \\frac{2}{15}$"
      ],
      "text/plain": [
       "2/15"
      ]
     },
     "execution_count": 16,
     "metadata": {},
     "output_type": "execute_result"
    }
   ],
   "source": [
    "Rational(1, 3) - Rational(1, 5)"
   ]
  },
  {
   "cell_type": "markdown",
   "id": "2a0aa0a3-44fa-4984-8d25-852debac305d",
   "metadata": {},
   "source": [
    "Mit Hilfe von `S` kann ein String in einen Sympy-Ausdruck umgewandelt werden:"
   ]
  },
  {
   "cell_type": "code",
   "execution_count": 17,
   "id": "414fc1cc-d3c7-4b9b-944b-0a3699776e99",
   "metadata": {},
   "outputs": [
    {
     "data": {
      "image/png": "[encoded data removed]",
      "text/latex": [
       "$\\displaystyle \\frac{1}{6}$"
      ],
      "text/plain": [
       "1/6"
      ]
     },
     "execution_count": 17,
     "metadata": {},
     "output_type": "execute_result"
    }
   ],
   "source": [
    "S(\"1/2 - 1/3\")  "
   ]
  },
  {
   "cell_type": "markdown",
   "id": "25e4b7c8-f92d-478c-93af-d4f88f5c4372",
   "metadata": {},
   "source": [
    "Sympy kann aber (Hauptzweck) auch mit symbolischen Ausdrücken arbeiten. Mit `Symbol` oder `symbols` lassen sich mathematische Symbole definieren."
   ]
  },
  {
   "cell_type": "code",
   "execution_count": 18,
   "id": "b237d124-daac-4df2-80e1-01a8c54b2134",
   "metadata": {},
   "outputs": [
    {
     "data": {
      "text/plain": [
       "sympy.core.symbol.Symbol"
      ]
     },
     "execution_count": 18,
     "metadata": {},
     "output_type": "execute_result"
    }
   ],
   "source": [
    "x, y, z = symbols(\"x y z\")\n",
    "type(y)"
   ]
  },
  {
   "cell_type": "markdown",
   "id": "9ab2d2b5-ad7a-4998-bdc2-1d388c0b3314",
   "metadata": {},
   "source": [
    "Mit diesen Symbolen lässt sich rechnen, mit Hilfe der üblichen Regeln für Körper."
   ]
  },
  {
   "cell_type": "code",
   "execution_count": 19,
   "id": "0a76c5d1-dd4a-4e01-8c14-ca8844d4ac24",
   "metadata": {},
   "outputs": [
    {
     "data": {
      "image/png": "[encoded data removed]",
      "text/latex": [
       "$\\displaystyle 2 x$"
      ],
      "text/plain": [
       "2⋅x"
      ]
     },
     "execution_count": 19,
     "metadata": {},
     "output_type": "execute_result"
    }
   ],
   "source": [
    "x + x"
   ]
  },
  {
   "cell_type": "code",
   "execution_count": 20,
   "id": "9316ef42-85a9-4750-af30-7d502a4b0b81",
   "metadata": {},
   "outputs": [
    {
     "data": {
      "image/png": "[encoded data removed]",
      "text/latex": [
       "$\\displaystyle \\left(x + y\\right)^{3}$"
      ],
      "text/plain": [
       "       3\n",
       "(x + y) "
      ]
     },
     "execution_count": 20,
     "metadata": {},
     "output_type": "execute_result"
    }
   ],
   "source": [
    "expr = (x + y)**3\n",
    "expr"
   ]
  },
  {
   "cell_type": "code",
   "execution_count": 21,
   "id": "06b6c0e7-876c-471d-af37-e8dfa6fd9d94",
   "metadata": {},
   "outputs": [
    {
     "data": {
      "image/png": "[encoded data removed]",
      "text/latex": [
       "$\\displaystyle x^{3} + 3 x^{2} y + 3 x y^{2} + y^{3}$"
      ],
      "text/plain": [
       " 3      2          2    3\n",
       "x  + 3⋅x ⋅y + 3⋅x⋅y  + y "
      ]
     },
     "execution_count": 21,
     "metadata": {},
     "output_type": "execute_result"
    }
   ],
   "source": [
    "expr.expand()  # expand: Ausmultiplizieren"
   ]
  },
  {
   "cell_type": "code",
   "execution_count": 22,
   "id": "8300d323-6b96-47f7-acd7-c3b1e3fab603",
   "metadata": {},
   "outputs": [
    {
     "data": {
      "image/png": "[encoded data removed]",
      "text/latex": [
       "$\\displaystyle \\left(x - 3\\right) \\left(x - 2\\right)$"
      ],
      "text/plain": [
       "(x - 3)⋅(x - 2)"
      ]
     },
     "execution_count": 22,
     "metadata": {},
     "output_type": "execute_result"
    }
   ],
   "source": [
    "# Umgekehrte Richtung\n",
    "expr = x**2 - 5*x + 6\n",
    "expr.factor()"
   ]
  },
  {
   "cell_type": "code",
   "execution_count": 23,
   "id": "5a133944-ce1c-443c-b0e0-36de24332e35",
   "metadata": {},
   "outputs": [
    {
     "data": {
      "image/png": "[encoded data removed]",
      "text/latex": [
       "$\\displaystyle \\operatorname{atan}{\\left(x \\right)}$"
      ],
      "text/plain": [
       "atan(x)"
      ]
     },
     "execution_count": 23,
     "metadata": {},
     "output_type": "execute_result"
    }
   ],
   "source": [
    "# Integrieren\n",
    "# Unbestimmtes Integral\n",
    "integrate((1)/(1+x*x), x)"
   ]
  },
  {
   "cell_type": "code",
   "execution_count": 24,
   "id": "c49ef3b0-72a6-47d1-ad7c-869a8eb0f80b",
   "metadata": {},
   "outputs": [
    {
     "data": {
      "image/png": "[encoded data removed]",
      "text/latex": [
       "$\\displaystyle \\int \\frac{1}{x^{2} + 1}\\, dx$"
      ],
      "text/plain": [
       "⌠          \n",
       "⎮   1      \n",
       "⎮ ────── dx\n",
       "⎮  2       \n",
       "⎮ x  + 1   \n",
       "⌡          "
      ]
     },
     "execution_count": 24,
     "metadata": {},
     "output_type": "execute_result"
    }
   ],
   "source": [
    "# Alternative\n",
    "I = Integral(1/(1+x*x), x)\n",
    "I # Kann mit I.doit() ausgeführt werden, bleibt sonst als symbolisches Integral erhalten."
   ]
  },
  {
   "cell_type": "code",
   "execution_count": 25,
   "id": "ab6754f8-24b1-4f2c-9fbb-83250a59e4cd",
   "metadata": {},
   "outputs": [
    {
     "name": "stdout",
     "output_type": "stream",
     "text": [
      "Integral(1/(x**2 + 1), x) = atan(x)\n"
     ]
    }
   ],
   "source": [
    "print(f\"{I} = {I.doit()}\")"
   ]
  },
  {
   "cell_type": "code",
   "execution_count": 26,
   "id": "27dd768c-ced7-4a1a-8a52-6696ab2c00fa",
   "metadata": {},
   "outputs": [
    {
     "data": {
      "image/png": "[encoded data removed]",
      "text/latex": [
       "$\\displaystyle \\frac{1}{3}$"
      ],
      "text/plain": [
       "1/3"
      ]
     },
     "execution_count": 26,
     "metadata": {},
     "output_type": "execute_result"
    }
   ],
   "source": [
    "# Bestimmtes Integral\n",
    "Integral(x**2, (x, 0, 1)).doit()"
   ]
  },
  {
   "cell_type": "code",
   "execution_count": 27,
   "id": "fb9f7746-fa96-4e97-810c-02ba421b0aa3",
   "metadata": {},
   "outputs": [
    {
     "data": {
      "image/png": "[encoded data removed]",
      "text/latex": [
       "$\\displaystyle \\frac{1}{5}$"
      ],
      "text/plain": [
       "1/5"
      ]
     },
     "execution_count": 27,
     "metadata": {},
     "output_type": "execute_result"
    }
   ],
   "source": [
    "integrate(x**4, (x, 0, 1))"
   ]
  },
  {
   "cell_type": "code",
   "execution_count": 28,
   "id": "39c83ef2-1fc2-4154-a99e-30819ebb328a",
   "metadata": {},
   "outputs": [
    {
     "data": {
      "image/png": "[encoded data removed]",
      "text/latex": [
       "$\\displaystyle \\cos{\\left(x \\right)}$"
      ],
      "text/plain": [
       "cos(x)"
      ]
     },
     "execution_count": 28,
     "metadata": {},
     "output_type": "execute_result"
    }
   ],
   "source": [
    "# Differenzieren\n",
    "diff(sin(x), x)"
   ]
  },
  {
   "cell_type": "code",
   "execution_count": 29,
   "id": "8f6c5c6d-1c49-4c68-855c-f2f775fd522a",
   "metadata": {},
   "outputs": [
    {
     "data": {
      "image/png": "[encoded data removed]",
      "text/plain": [
       "<Figure size 640x480 with 1 Axes>"
      ]
     },
     "metadata": {},
     "output_type": "display_data"
    }
   ],
   "source": [
    "plot(sin(x)/x, (x,-10, 10)); # Semikolon unterdrückt Ausgabe\n"
   ]
  },
  {
   "cell_type": "markdown",
   "id": "55bbe2cf-7e19-4f7e-bcc1-3d8b89579ad5",
   "metadata": {},
   "source": [
    "### Lösen von Gleichungen mit Sympy"
   ]
  },
  {
   "cell_type": "code",
   "execution_count": 37,
   "id": "659b2a1c-7540-4536-8931-6157b7a17978",
   "metadata": {},
   "outputs": [
    {
     "data": {
      "image/png": "[encoded data removed]",
      "text/latex": [
       "$\\displaystyle \\left[ - \\frac{1}{2}\\right]$"
      ],
      "text/plain": [
       "[-1/2]"
      ]
     },
     "execution_count": 37,
     "metadata": {},
     "output_type": "execute_result"
    }
   ],
   "source": [
    "solve(4*x + 2, x) # Sucht die Nullstelle von 4x+2, aufgelöst nach x"
   ]
  },
  {
   "cell_type": "code",
   "execution_count": 39,
   "id": "f7cf1a1f-c289-405b-ae93-576142ef4c32",
   "metadata": {},
   "outputs": [
    {
     "data": {
      "image/png": "[encoded data removed]",
      "text/latex": [
       "$\\displaystyle \\left[ - \\frac{3}{x}\\right]$"
      ],
      "text/plain": [
       "⎡-3 ⎤\n",
       "⎢───⎥\n",
       "⎣ x ⎦"
      ]
     },
     "execution_count": 39,
     "metadata": {},
     "output_type": "execute_result"
    }
   ],
   "source": [
    "solve(x*y + 3, y)"
   ]
  },
  {
   "cell_type": "code",
   "execution_count": 35,
   "id": "b67d4e16-7b55-4459-a40b-94061f2745a3",
   "metadata": {},
   "outputs": [
    {
     "data": {
      "image/png": "[encoded data removed]",
      "text/latex": [
       "$\\displaystyle \\left\\{ x : 2, \\  y : -1\\right\\}$"
      ],
      "text/plain": [
       "{x: 2, y: -1}"
      ]
     },
     "execution_count": 35,
     "metadata": {},
     "output_type": "execute_result"
    }
   ],
   "source": [
    "solve([x + y - 1, x - y - 3])"
   ]
  },
  {
   "cell_type": "code",
   "execution_count": 41,
   "id": "0919a9e3-5825-4809-b4f6-314a3a3b08fe",
   "metadata": {},
   "outputs": [
    {
     "data": {
      "image/png": "[encoded data removed]",
      "text/latex": [
       "$\\displaystyle \\left[ 2, \\  3\\right]$"
      ],
      "text/plain": [
       "[2, 3]"
      ]
     },
     "execution_count": 41,
     "metadata": {},
     "output_type": "execute_result"
    }
   ],
   "source": [
    "solve( x**2 - 5*x + 6, x)"
   ]
  },
  {
   "cell_type": "markdown",
   "id": "925393b5-7b8a-454a-aaf5-2f3a7964c30f",
   "metadata": {},
   "source": [
    "## Matrizen und Vektoren in Sympy"
   ]
  },
  {
   "cell_type": "code",
   "execution_count": 44,
   "id": "9a796bca-8a5a-4f18-840d-3c2dd554f8eb",
   "metadata": {},
   "outputs": [
    {
     "data": {
      "image/png": "[encoded data removed]",
      "text/latex": [
       "$\\displaystyle \\left[\\begin{matrix}2 & 3\\\\4 & 5\\end{matrix}\\right]$"
      ],
      "text/plain": [
       "⎡2  3⎤\n",
       "⎢    ⎥\n",
       "⎣4  5⎦"
      ]
     },
     "execution_count": 44,
     "metadata": {},
     "output_type": "execute_result"
    }
   ],
   "source": [
    "A = Matrix([[2, 3], [4, 5]]) # Liste der Zeilenvektoren\n",
    "A"
   ]
  },
  {
   "cell_type": "code",
   "execution_count": 47,
   "id": "8c92b41f-d39c-494e-acce-97f740be27a0",
   "metadata": {},
   "outputs": [
    {
     "data": {
      "image/png": "[encoded data removed]",
      "text/latex": [
       "$\\displaystyle \\left[\\begin{matrix}1\\\\2\\\\3\\end{matrix}\\right]$"
      ],
      "text/plain": [
       "⎡1⎤\n",
       "⎢ ⎥\n",
       "⎢2⎥\n",
       "⎢ ⎥\n",
       "⎣3⎦"
      ]
     },
     "execution_count": 47,
     "metadata": {},
     "output_type": "execute_result"
    }
   ],
   "source": [
    "# Bei einfachen Listen interpretiert Sympy die Einträge als Einträge eines Spaltenvektors.\n",
    "Matrix([1, 2, 3])"
   ]
  },
  {
   "cell_type": "code",
   "execution_count": 49,
   "id": "b44c492b-9137-44ee-a3ef-7c3d310944c6",
   "metadata": {
    "scrolled": true
   },
   "outputs": [
    {
     "data": {
      "image/png": "[encoded data removed]",
      "text/latex": [
       "$\\displaystyle \\left[\\begin{matrix}1 & 2 & 3\\end{matrix}\\right]$"
      ],
      "text/plain": [
       "[1  2  3]"
      ]
     },
     "execution_count": 49,
     "metadata": {},
     "output_type": "execute_result"
    }
   ],
   "source": [
    "# Zeilenvektor\n",
    "Matrix([[1, 2, 3]])"
   ]
  },
  {
   "cell_type": "code",
   "execution_count": 62,
   "id": "7af339a0-edd2-4e3d-825e-2339958d0800",
   "metadata": {},
   "outputs": [
    {
     "name": "stdout",
     "output_type": "stream",
     "text": [
      "Matrix([[2, 4], [3, 5]])\n",
      "⎡2  4⎤\n",
      "⎢    ⎥\n",
      "⎣3  5⎦\n",
      "det(A) = -2\n",
      "A @ A=Matrix([\n",
      "  [16, 21],   \n",
      "  [28, 37]])  \n",
      "Inverse von A ist Matrix([[-5/2, 3/2], [2, -1]])\n"
     ]
    }
   ],
   "source": [
    "# Transponierte\n",
    "print(A.T)\n",
    "pprint(A.T)\n",
    "# Determinante\n",
    "print(f\"{det(A) = }\")\n",
    "# Matrizenprodukt\n",
    "pprint(f\"{A @ A=}\")\n",
    "# Inverse\n",
    "pprint(f\"Inverse von A ist {(A.inv())}\")"
   ]
  },
  {
   "cell_type": "code",
   "execution_count": 66,
   "id": "ede40a81-6603-46d2-b306-357160c73609",
   "metadata": {},
   "outputs": [
    {
     "data": {
      "image/png": "[encoded data removed]",
      "text/latex": [
       "$\\displaystyle \\left[\\begin{matrix}- \\frac{5}{2} & \\frac{3}{2}\\\\2 & -1\\end{matrix}\\right]$"
      ],
      "text/plain": [
       "⎡-5/2  3/2⎤\n",
       "⎢         ⎥\n",
       "⎣ 2    -1 ⎦"
      ]
     },
     "execution_count": 66,
     "metadata": {},
     "output_type": "execute_result"
    }
   ],
   "source": [
    "A.inv()"
   ]
  },
  {
   "cell_type": "code",
   "execution_count": 68,
   "id": "1510c72f-671e-4798-8409-e5bb6bc9484e",
   "metadata": {},
   "outputs": [
    {
     "data": {
      "image/png": "[encoded data removed]",
      "text/latex": [
       "$\\displaystyle \\left[\\begin{matrix}1 & 0\\\\0 & 1\\end{matrix}\\right]$"
      ],
      "text/plain": [
       "⎡1  0⎤\n",
       "⎢    ⎥\n",
       "⎣0  1⎦"
      ]
     },
     "execution_count": 68,
     "metadata": {},
     "output_type": "execute_result"
    }
   ],
   "source": [
    "A @ A.inv()"
   ]
  },
  {
   "cell_type": "code",
   "execution_count": 72,
   "id": "8420a892-f24d-4fd1-a04b-6e2b64c9bf2f",
   "metadata": {},
   "outputs": [
    {
     "data": {
      "image/png": "[encoded data removed]",
      "text/latex": [
       "$\\displaystyle \\left\\{ \\frac{7}{2} - \\frac{\\sqrt{57}}{2} : 1, \\  \\frac{7}{2} + \\frac{\\sqrt{57}}{2} : 1\\right\\}$"
      ],
      "text/plain": [
       "⎧7   √57     7   √57   ⎫\n",
       "⎨─ - ───: 1, ─ + ───: 1⎬\n",
       "⎩2    2      2    2    ⎭"
      ]
     },
     "execution_count": 72,
     "metadata": {},
     "output_type": "execute_result"
    }
   ],
   "source": [
    "# Eigenwerte\n",
    "A.eigenvals()"
   ]
  },
  {
   "cell_type": "code",
   "execution_count": 73,
   "id": "3ba9e599-1a55-48cf-9506-71bea892f016",
   "metadata": {},
   "outputs": [
    {
     "data": {
      "image/png": "[encoded data removed]",
      "text/latex": [
       "$\\displaystyle \\left[ \\left( \\frac{7}{2} - \\frac{\\sqrt{57}}{2}, \\  1, \\  \\left[ \\left[\\begin{matrix}- \\frac{\\sqrt{57}}{8} - \\frac{3}{8}\\\\1\\end{matrix}\\right]\\right]\\right), \\  \\left( \\frac{7}{2} + \\frac{\\sqrt{57}}{2}, \\  1, \\  \\left[ \\left[\\begin{matrix}- \\frac{3}{8} + \\frac{\\sqrt{57}}{8}\\\\1\\end{matrix}\\right]\\right]\\right)\\right]$"
      ],
      "text/plain": [
       "⎡⎛            ⎡⎡  √57   3⎤⎤⎞  ⎛            ⎡⎡  3   √57⎤⎤⎞⎤\n",
       "⎢⎜7   √57     ⎢⎢- ─── - ─⎥⎥⎟  ⎜7   √57     ⎢⎢- ─ + ───⎥⎥⎟⎥\n",
       "⎢⎜─ - ───, 1, ⎢⎢   8    8⎥⎥⎟, ⎜─ + ───, 1, ⎢⎢  8    8 ⎥⎥⎟⎥\n",
       "⎢⎜2    2      ⎢⎢         ⎥⎥⎟  ⎜2    2      ⎢⎢         ⎥⎥⎟⎥\n",
       "⎣⎝            ⎣⎣    1    ⎦⎦⎠  ⎝            ⎣⎣    1    ⎦⎦⎠⎦"
      ]
     },
     "execution_count": 73,
     "metadata": {},
     "output_type": "execute_result"
    }
   ],
   "source": [
    "# Eigenvektoren\n",
    "A.eigenvects()"
   ]
  },
  {
   "cell_type": "code",
   "execution_count": 75,
   "id": "ceed91e2-2882-4fb5-a144-0fe569e4d846",
   "metadata": {},
   "outputs": [
    {
     "data": {
      "image/png": "[encoded data removed]",
      "text/latex": [
       "$\\displaystyle \\left[ \\left( 1, \\  2, \\  \\left[ \\left[\\begin{matrix}1\\\\0\\end{matrix}\\right], \\  \\left[\\begin{matrix}0\\\\1\\end{matrix}\\right]\\right]\\right)\\right]$"
      ],
      "text/plain": [
       "⎡⎛      ⎡⎡1⎤  ⎡0⎤⎤⎞⎤\n",
       "⎢⎜1, 2, ⎢⎢ ⎥, ⎢ ⎥⎥⎟⎥\n",
       "⎣⎝      ⎣⎣0⎦  ⎣1⎦⎦⎠⎦"
      ]
     },
     "execution_count": 75,
     "metadata": {},
     "output_type": "execute_result"
    }
   ],
   "source": [
    "Matrix([[1, 0], [0, 1]]).eigenvects()"
   ]
  },
  {
   "cell_type": "code",
   "execution_count": null,
   "id": "cd574f31-ddc8-4b05-ab77-5970e22ef710",
   "metadata": {},
   "outputs": [],
   "source": [
    "\n",
    "\n",
    "\n",
    "\n",
    "\n",
    "\n",
    "\n",
    "\n",
    "\n",
    "\n",
    "\n",
    "\n",
    "\n",
    "\n",
    "\n",
    "\n",
    "\n",
    "\n",
    "\n",
    "\n",
    "\n"
   ]
  },
  {
   "cell_type": "code",
   "execution_count": null,
   "id": "e4c543a8-f1c8-4694-98e7-f24c323f5781",
   "metadata": {},
   "outputs": [],
   "source": []
  }
 ],
 "metadata": {
  "kernelspec": {
   "display_name": "Python 3 (ipykernel)",
   "language": "python",
   "name": "python3"
  },
  "language_info": {
   "codemirror_mode": {
    "name": "ipython",
    "version": 3
   },
   "file_extension": ".py",
   "mimetype": "text/x-python",
   "name": "python",
   "nbconvert_exporter": "python",
   "pygments_lexer": "ipython3",
   "version": "3.12.4"
  }
 },
 "nbformat": 4,
 "nbformat_minor": 5
}
