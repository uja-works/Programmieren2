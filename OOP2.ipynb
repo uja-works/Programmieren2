{
 "cells": [
  {
   "cell_type": "markdown",
   "id": "565d1a22-2cce-4378-8b32-600c8f4e93f7",
   "metadata": {},
   "source": [
    " # Weiteres zur objektorientierten Programmierung   \n",
    "Grundsätzlich kann eine Klasse beliebige Attribute (z.B. Gleitkommazahlen, ganze Zahlen, Boolesche Variablen, Strings oder auch komplexere Datenstrukturen wie Listen, Dictionaries oder auch Objekte anderer Klassen) und Methoden enthalten."
   ]
  },
  {
   "cell_type": "code",
   "execution_count": 71,
   "id": "1580e45b-72c7-4e79-ac46-ae1b2ec8b6ff",
   "metadata": {},
   "outputs": [],
   "source": [
    "class Vector:\n",
    "    \"\"\"\n",
    "    n-dimensionaler reeller Vektor, initialisiert als Nullvektor.\n",
    "\n",
    "    Parameter\n",
    "    ---------\n",
    "    n: Dimension des Vektorraums\n",
    "    v_arr: Liste der Komponenten, optional. Default: Nullvektor.\n",
    "    \"\"\"\n",
    "\n",
    "    def __init__(self, n, v_arr = []):\n",
    "        self.n = n\n",
    "        if v_arr:\n",
    "            if len(v_arr) == n:\n",
    "                self.v_arr = [float(x) for x in v_arr]\n",
    "            else:\n",
    "                raise Exception(f\"Listenlänge muss n = {n} sein!\")\n",
    "        else:\n",
    "            self.v_arr = [0.0] * n\n",
    "\n",
    "    def norm(self):\n",
    "        return sum([x*x for x in self.v_arr])**0.5"
   ]
  },
  {
   "cell_type": "code",
   "execution_count": 66,
   "id": "f26393a4-2732-49cc-9409-59942bcde733",
   "metadata": {},
   "outputs": [
    {
     "data": {
      "text/plain": [
       "[0.0, 0.0, 0.0]"
      ]
     },
     "execution_count": 66,
     "metadata": {},
     "output_type": "execute_result"
    }
   ],
   "source": [
    "v = Vector(3, )\n",
    "v.v_arr"
   ]
  },
  {
   "cell_type": "code",
   "execution_count": 67,
   "id": "8309ca16-e6d6-4a20-b0e2-d7d761bb3ef5",
   "metadata": {},
   "outputs": [],
   "source": [
    "l1 = [1, 1, 4]\n",
    "w = Vector(3, l1)"
   ]
  },
  {
   "cell_type": "markdown",
   "id": "d1561815-b7c8-4a93-8dab-f9276feb3804",
   "metadata": {},
   "source": [
    "## \"Dunder-Methoden\"\n",
    "Dunder \"double under(score) __\": Methoden, die mit doppeltem Unterstrich anfangen und aufhören. Die meisten Methoden treten in vielen oder allen Objekten auf.\n",
    "\n",
    "\"Dunder-Variable\" `__dict__` enthält die Attribute des Objekts.\n",
    "\n",
    "\"Dunder-Methode\" `__dir__()` listet die Attribute und Methoden des Objekts auf."
   ]
  },
  {
   "cell_type": "code",
   "execution_count": 82,
   "id": "8134bd7f-5f23-429f-a351-bcda15fedab2",
   "metadata": {},
   "outputs": [
    {
     "data": {
      "text/plain": [
       "{'n': 3, 'v_arr': [1.0, 1.0, 4.0]}"
      ]
     },
     "execution_count": 82,
     "metadata": {},
     "output_type": "execute_result"
    }
   ],
   "source": [
    "w.__dict__"
   ]
  },
  {
   "cell_type": "code",
   "execution_count": 86,
   "id": "ea870c7d-9989-4435-897f-c45995c351df",
   "metadata": {},
   "outputs": [
    {
     "data": {
      "text/plain": [
       "['n', 'v_arr', '__module__', '__doc__', '__init__']"
      ]
     },
     "execution_count": 86,
     "metadata": {},
     "output_type": "execute_result"
    }
   ],
   "source": [
    "w.__dir__()[:5]  # Erste 5 Methoden, Attribute"
   ]
  },
  {
   "cell_type": "code",
   "execution_count": 87,
   "id": "782347df-3e0e-4382-bd7d-ab164aa8b655",
   "metadata": {},
   "outputs": [
    {
     "data": {
      "text/plain": [
       "4.242640687119285"
      ]
     },
     "execution_count": 87,
     "metadata": {},
     "output_type": "execute_result"
    }
   ],
   "source": [
    "w.norm()"
   ]
  },
  {
   "cell_type": "code",
   "execution_count": 75,
   "id": "052ea092-1b24-4285-9f22-2777db4b4e62",
   "metadata": {},
   "outputs": [
    {
     "data": {
      "text/plain": [
       "4.242640687119285"
      ]
     },
     "execution_count": 75,
     "metadata": {},
     "output_type": "execute_result"
    }
   ],
   "source": [
    "18**0.5"
   ]
  },
  {
   "cell_type": "markdown",
   "id": "2667b7c8-6c40-4fde-8266-a4c337e52d7e",
   "metadata": {},
   "source": [
    "Zwei wichtige Dunder-Methoden: `__str__` und `__repr__`, die Ausgabe des Objekts zuständig sind.\n",
    "\n",
    "Regel: `__str__` sorgt für die Ausgabe, die der Benutzer sehen soll. `__repr__` ist für Programmierer gedacht, stellt in der Regel dar, wie das Objekt programmatisch erzeugt wird. `__str__` wird z.B. durch die `print`-Funktion aufgerufen.\n",
    "\n",
    "Wenn die Methoden nicht definiert werden, stellen beide die Adresse des Objekts dar.\n",
    "\n",
    "Daneben können wir durch Definition der Methoden `__add__`, `__mul__` und `__rmul__` der Vektoraddition und der Multiplikation mit Skalaren einen Sinn geben."
   ]
  },
  {
   "cell_type": "code",
   "execution_count": 89,
   "id": "798479ed-a26c-4b8d-b363-9ba57706f01b",
   "metadata": {},
   "outputs": [
    {
     "name": "stdout",
     "output_type": "stream",
     "text": [
      "a = <__main__.A object at 0x10666daf0>\n"
     ]
    }
   ],
   "source": [
    "class A:\n",
    "    ...\n",
    "\n",
    "a = A()\n",
    "print(f\"{a = }\")"
   ]
  },
  {
   "cell_type": "code",
   "execution_count": 90,
   "id": "cc0e190f-eb1a-40e0-aa72-6a803607157a",
   "metadata": {},
   "outputs": [
    {
     "name": "stdout",
     "output_type": "stream",
     "text": [
      "<__main__.Vector object at 0x10643fe90>\n"
     ]
    }
   ],
   "source": [
    "print(v)"
   ]
  },
  {
   "cell_type": "code",
   "execution_count": 355,
   "id": "a1014ef1-b853-4622-be2d-023744c179b2",
   "metadata": {},
   "outputs": [
    {
     "name": "stdout",
     "output_type": "stream",
     "text": [
      "v = Vector(3, [0.0, 0.0, 0.0])\n",
      "v = Vector(3, [3, 0.0, 0.0])\n"
     ]
    }
   ],
   "source": [
    "v = Vector(3)\n",
    "print(f\"{v = }\")\n",
    "v[0] = 3\n",
    "print(f\"{v = }\")"
   ]
  },
  {
   "cell_type": "code",
   "execution_count": 354,
   "id": "4d01c82a-008b-45a4-9092-0d37436748ce",
   "metadata": {},
   "outputs": [],
   "source": [
    "class Vector:\n",
    "    \"\"\"\n",
    "    n-dimensionaler reeller Vektor, initialisiert als Nullvektor.\n",
    "\n",
    "    Parameter\n",
    "    ---------\n",
    "    n: Dimension des Vektorraums\n",
    "    v_arr: Liste der Komponenten, optional. Default: Nullvektor.\n",
    "    \"\"\"\n",
    "\n",
    "    def __init__(self, n, v_arr = []):\n",
    "        self.n = n\n",
    "        if v_arr:\n",
    "            if len(v_arr) == n:\n",
    "                self.v_arr = [float(x) for x in v_arr]\n",
    "            else:\n",
    "                raise Exception(f\"Listenlänge muss n = {n} sein!\")\n",
    "        else:\n",
    "            self.v_arr = [0.0] * n\n",
    "\n",
    "    def norm(self):\n",
    "        return sum([x*x for x in self.v_arr])**0.5   \n",
    "\n",
    "    def __str__(self):\n",
    "        return f\"{self.n}-dimensionaler Vektor mit Komponenten {self.v_arr}\"\n",
    "        \n",
    "    def __repr__(self):\n",
    "        return f\"Vector({self.n}, {self.v_arr})\"\n",
    "\n",
    "    def __add__(self, w):\n",
    "        if self.n == w.n:\n",
    "            return Vector(self.n, [self.v_arr[k] + w.v_arr[k] for k in range(self.n)])\n",
    "        else:\n",
    "            raise Exception(\"Nicht passende Dimensionen bei Addition\")\n",
    "\n",
    "    # Multiplikation mit einem Skalar mit Vektor links\n",
    "    def __mul__(self, scalar):\n",
    "        return Vector(self.n, [self.v_arr[k] * scalar for k in range(self.n)])\n",
    "\n",
    "    # Multiplikation mit einem Skalar, Vektor rechts\n",
    "    def __rmul__(self, scalar):\n",
    "        return self.__mul__(scalar)\n",
    "\n",
    "    # Subtraktion von Vektoren\n",
    "    def __sub__(self, w):\n",
    "        # return self.__add__(w.__mul__(-1))\n",
    "        return self + (-1)*w\n",
    "\n",
    "    def __getitem__(self, index):\n",
    "        return self.v_arr[index]\n",
    "\n",
    "    def __setitem__(self, index, val):\n",
    "        self.v_arr[index] = val"
   ]
  },
  {
   "cell_type": "code",
   "execution_count": 340,
   "id": "8d8a464f-6738-44c5-973e-5ac36112d545",
   "metadata": {
    "scrolled": true
   },
   "outputs": [
    {
     "name": "stdout",
     "output_type": "stream",
     "text": [
      "3-dimensionaler Vektor mit Komponenten [0.0, 0.0, 0.0]\n"
     ]
    }
   ],
   "source": [
    "w = Vector(3,)\n",
    "print(w)  # Die print-Funktion ruft implizit __str__ auf, falls definiert, sonst __"
   ]
  },
  {
   "cell_type": "code",
   "execution_count": 324,
   "id": "45ea0592-c078-4dc5-9744-7ca0eee58eba",
   "metadata": {},
   "outputs": [
    {
     "data": {
      "text/plain": [
       "Vector(3, [0.0, 0.0, 0.0])"
      ]
     },
     "execution_count": 324,
     "metadata": {},
     "output_type": "execute_result"
    }
   ],
   "source": [
    "w    # In Jupyter-Lab wird __repr__ aufgerufen, falls definiert"
   ]
  },
  {
   "cell_type": "code",
   "execution_count": 326,
   "id": "61363f76-feef-46ac-b9d8-51183940cce0",
   "metadata": {},
   "outputs": [
    {
     "data": {
      "text/plain": [
       "Vector(3, [6.0, 9.0, 12.0])"
      ]
     },
     "execution_count": 326,
     "metadata": {},
     "output_type": "execute_result"
    }
   ],
   "source": [
    "v1 = Vector(3, [1,2,3])\n",
    "v2 = Vector(3, [5,7,9])\n",
    "v1.__add__(v2)"
   ]
  },
  {
   "cell_type": "code",
   "execution_count": 327,
   "id": "0eb4b9a9-b418-48f6-8263-05b3576f0b50",
   "metadata": {},
   "outputs": [
    {
     "data": {
      "text/plain": [
       "Vector(3, [6.0, 9.0, 12.0])"
      ]
     },
     "execution_count": 327,
     "metadata": {},
     "output_type": "execute_result"
    }
   ],
   "source": [
    "v1 + v2"
   ]
  },
  {
   "cell_type": "code",
   "execution_count": 328,
   "id": "a91cebd9-e42b-4a0e-b7ff-063fbf9643ba",
   "metadata": {},
   "outputs": [
    {
     "data": {
      "text/plain": [
       "Vector(3, [5.0, 10.0, 15.0])"
      ]
     },
     "execution_count": 328,
     "metadata": {},
     "output_type": "execute_result"
    }
   ],
   "source": [
    "v1.__mul__(5.0)"
   ]
  },
  {
   "cell_type": "code",
   "execution_count": 329,
   "id": "f726128b-c228-477b-8f88-ba281286365e",
   "metadata": {},
   "outputs": [
    {
     "data": {
      "text/plain": [
       "Vector(3, [5.0, 10.0, 15.0])"
      ]
     },
     "execution_count": 329,
     "metadata": {},
     "output_type": "execute_result"
    }
   ],
   "source": [
    "v1 * 5"
   ]
  },
  {
   "cell_type": "code",
   "execution_count": 330,
   "id": "40e61161-bd0d-423a-98cc-637878cdfd23",
   "metadata": {
    "scrolled": true
   },
   "outputs": [
    {
     "data": {
      "text/plain": [
       "Vector(3, [5.0, 10.0, 15.0])"
      ]
     },
     "execution_count": 330,
     "metadata": {},
     "output_type": "execute_result"
    }
   ],
   "source": [
    "5.0 * v1"
   ]
  },
  {
   "cell_type": "code",
   "execution_count": 331,
   "id": "f88ff123-d063-45cf-8855-ee3831193d69",
   "metadata": {},
   "outputs": [
    {
     "data": {
      "text/plain": [
       "Vector(3, [-4.0, -5.0, -6.0])"
      ]
     },
     "execution_count": 331,
     "metadata": {},
     "output_type": "execute_result"
    }
   ],
   "source": [
    "v1 - v2"
   ]
  },
  {
   "cell_type": "code",
   "execution_count": 334,
   "id": "699e9538-c597-4393-9fbc-fe0e31c539ce",
   "metadata": {},
   "outputs": [
    {
     "data": {
      "text/plain": [
       "1.0"
      ]
     },
     "execution_count": 334,
     "metadata": {},
     "output_type": "execute_result"
    }
   ],
   "source": [
    "v1[0]"
   ]
  },
  {
   "cell_type": "code",
   "execution_count": 333,
   "id": "3dfc1b6b-fd54-47d0-b119-e779379507ce",
   "metadata": {},
   "outputs": [
    {
     "data": {
      "text/plain": [
       "1.0"
      ]
     },
     "execution_count": 333,
     "metadata": {},
     "output_type": "execute_result"
    }
   ],
   "source": [
    "v1.__getitem__(0)"
   ]
  }
 ],
 "metadata": {
  "kernelspec": {
   "display_name": "Python 3 (ipykernel)",
   "language": "python",
   "name": "python3"
  },
  "language_info": {
   "codemirror_mode": {
    "name": "ipython",
    "version": 3
   },
   "file_extension": ".py",
   "mimetype": "text/x-python",
   "name": "python",
   "nbconvert_exporter": "python",
   "pygments_lexer": "ipython3",
   "version": "3.12.10"
  }
 },
 "nbformat": 4,
 "nbformat_minor": 5
}
