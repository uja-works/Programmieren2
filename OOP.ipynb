{
 "cells": [
  {
   "cell_type": "markdown",
   "id": "b299b9ed-f5eb-48ad-bda9-2318fb629b17",
   "metadata": {},
   "source": [
    "# Objektorientierte Programmierung\n",
    "\n",
    "Ziel: Rechnen mit \"Zahlen\" auf Restklassenkörpern (Modul-Arithmetik).\n",
    "\n",
    "Reste bei Addition und Multiplikation modulo n bilden einen Körper, wenn n eine Primzahl ist.\n",
    "\n",
    "Wir definieren eine Klasse `FiniteFieldElement` (Körper: engl. field), die die Addition und Multiplikation modulo p (prim) implementiert."
   ]
  },
  {
   "cell_type": "code",
   "execution_count": 1,
   "id": "2a8ebff3-81fa-4f4a-9ba5-7b50756214dd",
   "metadata": {},
   "outputs": [],
   "source": [
    "class FiniteFieldElement:\n",
    "    # Konstruktor\n",
    "    def __init__(self, z, p):\n",
    "        self.p = p\n",
    "        self.z = z % p\n",
    "\n",
    "    def __add__(self, z2):\n",
    "        if self.p != z2.p:\n",
    "            raise TypeError(\"Die Addition ist nicht definiert für Elemente unterschiedlicher Körper\")\n",
    "        return FiniteFieldElement( (self.z + z2.z) % self.p, self.p)\n",
    "\n",
    "    def __mul__(self, z2):\n",
    "        if self.p != z2.p:\n",
    "            raise TypeError(\"Die Multiplikation ist nicht definiert für Elemente unterschiedlicher Körper\")\n",
    "        return FiniteFieldElement( (self.z * z2.z) % self.p, self.p)\n",
    "    \n",
    "    # Darstellung des Objekts als String\n",
    "    def __str__(self):\n",
    "        return f\"{self.z} mod {self.p}\"\n",
    "\n",
    "    # Berechne additives Inverses\n",
    "    def additive_inverse(self):\n",
    "        return -self.z % self.p"
   ]
  },
  {
   "cell_type": "code",
   "execution_count": 2,
   "id": "fbf0d48a-75c7-409f-839a-10b8a938ab9c",
   "metadata": {},
   "outputs": [
    {
     "name": "stdout",
     "output_type": "stream",
     "text": [
      "4 mod 7\n"
     ]
    }
   ],
   "source": [
    "z1 = FiniteFieldElement(4, 7)\n",
    "print(z1)"
   ]
  },
  {
   "cell_type": "code",
   "execution_count": 3,
   "id": "eed3030c-76df-4e46-ada6-1210a8033e8b",
   "metadata": {},
   "outputs": [
    {
     "name": "stdout",
     "output_type": "stream",
     "text": [
      "4 mod 7 + 5 mod 7 = 2 mod 7\n",
      "4 mod 7 * 5 mod 7 = 6 mod 7\n",
      "Das additive inverse Element von 4 mod 7 ist 3.\n"
     ]
    }
   ],
   "source": [
    "z2 = FiniteFieldElement(5, 7)\n",
    "print(f\"{z1} + {z2} = {z1 + z2}\")\n",
    "print(f\"{z1} * {z2} = {z1 * z2}\")\n",
    "print(f\"Das additive inverse Element von {z1} ist {z1.additive_inverse()}.\")"
   ]
  },
  {
   "cell_type": "markdown",
   "id": "dbd286d9-ca1c-47f6-834e-9969dfb0de48",
   "metadata": {},
   "source": [
    "Für die Division brauchen wir einen Exkurs in rekursive Funktionen."
   ]
  },
  {
   "cell_type": "markdown",
   "id": "2874ae56-e80f-4300-b9d5-0bfe9ad6325d",
   "metadata": {},
   "source": [
    "### Rekursive Funktionen\n",
    "Eine rekursive Funktion ist eine Funktion, die sich in ihrer Definition selbst aufruft.\n",
    "\n",
    "**Beispiel:** Fakultätsfunktion (engl: factorial).\n",
    "$$ n! := n \\cdot (n-1) \\cdot (n-2) \\cdot \\dots \\cdot 1.$$"
   ]
  },
  {
   "cell_type": "code",
   "execution_count": 4,
   "id": "7779e196-db93-42f7-9b97-e919e0869fd6",
   "metadata": {},
   "outputs": [
    {
     "data": {
      "text/plain": [
       "93326215443944152681699238856266700490715968264381621468592963895217599993229915608941463976156518286253697920827223758251185210916864000000000000000000000000"
      ]
     },
     "execution_count": 4,
     "metadata": {},
     "output_type": "execute_result"
    }
   ],
   "source": [
    "def factorial(n):\n",
    "    if n == 0:\n",
    "        return 1\n",
    "    else:\n",
    "        return n * factorial(n-1)\n",
    "\n",
    "factorial(100)"
   ]
  },
  {
   "cell_type": "markdown",
   "id": "6eddd862-b1be-4126-b2c0-7f2503355563",
   "metadata": {},
   "source": [
    "#### Der euklidische Algorithmus\n",
    "Bestimmung des größten gemeinsamen Teilers (ggT, engl. greatest common divisor -- gcd) zweier ganzer Zahlen $m$, $n$."
   ]
  },
  {
   "cell_type": "code",
   "execution_count": 5,
   "id": "91747cd9-7bde-4f5e-b946-2ba82dd1e1f6",
   "metadata": {},
   "outputs": [
    {
     "data": {
      "text/plain": [
       "7"
      ]
     },
     "execution_count": 5,
     "metadata": {},
     "output_type": "execute_result"
    }
   ],
   "source": [
    "def gcd(m, n):\n",
    "    if n == 0:\n",
    "        return m\n",
    "    return gcd(n, m%n)\n",
    "\n",
    "gcd(91, 28)"
   ]
  },
  {
   "cell_type": "markdown",
   "id": "37115955-6172-4a61-bfd9-657dfef14358",
   "metadata": {},
   "source": [
    "#### Der erweiterte euklidische Algorithmus\n",
    "Math. Fakt: der ggT von $m$ und $n$ ist die kleinste nichtnegative Zahl, die sich als ganzzahlige Linearkombination von $m$ und $n$ schreiben lässt. Wenn $p=ggT(m, n)$, dann gibt es ganze Zahlen $x, y$, so dass\n",
    "$$ p = x m + y n.$$\n",
    "\n",
    "Rekursion:\n",
    "\\begin{align}\n",
    " ggT(m, n) &= xm + yn\\\\\n",
    "      &= ggT(n, m\\%n) = x_1 n + y_1 (m\\%n) = x_1 n + y_1 \\Big(m - (m//n)n\\Big)\\\\\n",
    "      &= y_1 m + \\Big( x_1 - y_1 (m//n) \\Big) n\n",
    "\\end{align}\n",
    "\n",
    "Es ist also\n",
    "\\begin{align}\n",
    "    x &= y_1 \\\\\n",
    "    y &= x_1 - (m//n) y_1\n",
    "\\end{align}\n",
    "\n",
    "Hierüber können wir den erweiterten euklidischen Algorithmus definieren. Abbruch: bei $n=0$: \n",
    "$$ p = x m + y n$$\n",
    "mit $x=1$ und $y=0$."
   ]
  },
  {
   "cell_type": "code",
   "execution_count": 6,
   "id": "24498004-ad49-4871-878b-0719b374b242",
   "metadata": {},
   "outputs": [],
   "source": [
    "def extended_euclid(m, n):\n",
    "    \"\"\"\n",
    "    Liefert den ggT von m und n, sowie zwei ganze Zahlen x und y, so dass ggT = x*m + y*n ist.\n",
    "    Input: m, n\n",
    "    Output ggT (gcd), x, y\n",
    "    \"\"\"\n",
    "    if n == 0:\n",
    "        return (m, 1, 0)\n",
    "    gcd, x1, y1 = extended_euclid(n, m%n)\n",
    "    x = y1\n",
    "    y = x1 - (m//n)*y1\n",
    "    return (gcd, x, y)"
   ]
  },
  {
   "cell_type": "code",
   "execution_count": 7,
   "id": "eb5f6aa2-b94a-41b3-a049-b9f193e745f8",
   "metadata": {},
   "outputs": [
    {
     "data": {
      "text/plain": [
       "(7, 1, -3)"
      ]
     },
     "execution_count": 7,
     "metadata": {},
     "output_type": "execute_result"
    }
   ],
   "source": [
    "extended_euclid(91, 28)"
   ]
  },
  {
   "cell_type": "markdown",
   "id": "8dbe4644-1942-4561-a3bf-34e5d284572d",
   "metadata": {},
   "source": [
    "#### Berechnung von Inversen in Primzahlkörpern\n",
    "Die Inverse können wir mit Hilfe des erweiterten euklidischen Algorithmus berechnen.\n",
    "Für jede Zahl $z$ aus dem Primzahlkörper $F_p$ (Addition und Multiplikation modulo $p$) gilt nämlich:\n",
    "    $$ \\text{ggT}(z, p) = 1.$$\n",
    "Also gibt es $x,y$, so dass: $$ 1 = xz + yp.$$\n",
    "Folglich ist $$ xz = 1 \\text{ mod } p, $$\n",
    "d.h., $x$ ist multiplikatives Inverses von $z$."
   ]
  },
  {
   "cell_type": "code",
   "execution_count": 9,
   "id": "47f1c41b-e249-44b6-9f18-628e6fcd910b",
   "metadata": {},
   "outputs": [],
   "source": [
    "class FiniteFieldElement:\n",
    "    # Konstruktor\n",
    "    def __init__(self, z, p):\n",
    "        self.p = p\n",
    "        self.z = z % p\n",
    "\n",
    "    def __add__(self, z2):\n",
    "        if self.p != z2.p:\n",
    "            raise TypeError(\"Die Addition ist nicht definiert für Elemente unterschiedlicher Körper\")\n",
    "        return FiniteFieldElement( (self.z + z2.z) % self.p, self.p)\n",
    "\n",
    "    def __mul__(self, z2):\n",
    "        if self.p != z2.p:\n",
    "            raise TypeError(\"Die Multiplikation ist nicht definiert für Elemente unterschiedlicher Körper\")\n",
    "        return FiniteFieldElement( (self.z * z2.z) % self.p, self.p)\n",
    "    \n",
    "    # Darstellung des Objekts als String\n",
    "    def __str__(self):\n",
    "        return f\"({self.z} mod {self.p})\"\n",
    "\n",
    "    # Darstellung des Objekts für den Entwickler\n",
    "    def __repr__(self):\n",
    "        return f\"({self.z} mod {self.p})\"\n",
    "\n",
    "    # Berechne additives Inverses\n",
    "    def additive_inverse(self):\n",
    "        return -self.z % self.p\n",
    "\n",
    "    def multiplicate_inverse(self):\n",
    "        gcd, x, y = extended_euclid(self.z, self.p)\n",
    "        # return x % self.p\n",
    "        return FiniteFieldElement(x, self.p)\n",
    "\n",
    "    # Und dies erlaubt dann auch die Division durch ein Feldelement - dargestellt\n",
    "    # durch den Operator /, der der Funktion __truediv__ entspricht. (Im Gegensatz\n",
    "    # zu __floordiv__, die den Operator // implementiert.\n",
    "    def __truediv__(self, z2):\n",
    "        return self * z2.multiplicate_inverse()"
   ]
  },
  {
   "cell_type": "code",
   "execution_count": 13,
   "id": "2aa9ce75-c5fa-40f7-9501-1be21ad4cafa",
   "metadata": {},
   "outputs": [
    {
     "name": "stdout",
     "output_type": "stream",
     "text": [
      "(78 mod 137)\n"
     ]
    }
   ],
   "source": [
    "z65_137 = FiniteFieldElement(65, 137)\n",
    "print(z65_137.multiplicate_inverse())"
   ]
  },
  {
   "cell_type": "code",
   "execution_count": 15,
   "id": "af07df45-174e-402f-94c5-3ba665c4cd4f",
   "metadata": {},
   "outputs": [
    {
     "data": {
      "text/plain": [
       "1"
      ]
     },
     "execution_count": 15,
     "metadata": {},
     "output_type": "execute_result"
    }
   ],
   "source": [
    "65*78 % 137"
   ]
  },
  {
   "cell_type": "code",
   "execution_count": 16,
   "id": "1d102237-7493-461a-8506-3590a1320ea0",
   "metadata": {},
   "outputs": [
    {
     "data": {
      "text/plain": [
       "(3 mod 7)"
      ]
     },
     "execution_count": 16,
     "metadata": {},
     "output_type": "execute_result"
    }
   ],
   "source": [
    "z5_7 = FiniteFieldElement(5, 7)\n",
    "z5_7.multiplicate_inverse()"
   ]
  },
  {
   "cell_type": "code",
   "execution_count": 17,
   "id": "111d1c00-636a-46ef-ad54-2ec1e7543d71",
   "metadata": {},
   "outputs": [
    {
     "data": {
      "text/plain": [
       "(1 mod 7)"
      ]
     },
     "execution_count": 17,
     "metadata": {},
     "output_type": "execute_result"
    }
   ],
   "source": [
    "z5_7 / z5_7"
   ]
  },
  {
   "cell_type": "code",
   "execution_count": 19,
   "id": "8757ce6e-ef8b-4bc3-af6e-08685af33cf7",
   "metadata": {},
   "outputs": [
    {
     "data": {
      "text/plain": [
       "'(2 mod 7) dividiert durch (5 mod 7) ist (6 mod 7), und (6 mod 7) * (5 mod 7) ist (2 mod 7).'"
      ]
     },
     "execution_count": 19,
     "metadata": {},
     "output_type": "execute_result"
    }
   ],
   "source": [
    "z2_7 = FiniteFieldElement(2, 7)\n",
    "z5_7 = FiniteFieldElement(5, 7)\n",
    "frac = z2_7 / z5_7\n",
    "f\"\"\"{z2_7} dividiert durch {z5_7} ist {frac}, und {frac} * {z5_7} ist {frac*z5_7}.\"\"\""
   ]
  },
  {
   "cell_type": "markdown",
   "id": "8c166274-3f98-4c25-a3f4-df363ff597eb",
   "metadata": {},
   "source": [
    "### Effiziente ganzzahlige Potenzen\n",
    "Idee: Iteriertes Quadrieren, z.B.\n",
    "$$ 3^5 = (3^2)^{(2*1)} * 3^{2*0} * 3^{1}, $$"
   ]
  },
  {
   "cell_type": "markdown",
   "id": "f0cf6d52-5946-404f-9c53-5cef37d00745",
   "metadata": {},
   "source": [
    "wobei die Binärdarstellung der $5 = 101_b$ genutzt wurde.\n",
    "\n",
    "Multiplikation mit 2 im Binärsystem: Verschieben der Bits nach links (rechts Auffüllen mit 0)."
   ]
  },
  {
   "cell_type": "code",
   "execution_count": 49,
   "id": "323f2c6f-cf7c-466f-af64-28f9a7cd6187",
   "metadata": {},
   "outputs": [
    {
     "data": {
      "text/plain": [
       "1024"
      ]
     },
     "execution_count": 49,
     "metadata": {},
     "output_type": "execute_result"
    }
   ],
   "source": [
    "1 << 10"
   ]
  },
  {
   "cell_type": "markdown",
   "id": "6b858989-b1e3-4e02-a831-58dcf8650a5b",
   "metadata": {},
   "source": [
    "Entsprechend ist die ganzzahlige Division durch 2 eine Rechtsverschiebung:"
   ]
  },
  {
   "cell_type": "code",
   "execution_count": 50,
   "id": "458fbd79-39ec-4070-a6ce-c58494e72671",
   "metadata": {},
   "outputs": [
    {
     "data": {
      "text/plain": [
       "256"
      ]
     },
     "execution_count": 50,
     "metadata": {},
     "output_type": "execute_result"
    }
   ],
   "source": [
    "1024 >> 2"
   ]
  },
  {
   "cell_type": "markdown",
   "id": "04fb8bd8-b307-40dd-9f52-321fef217744",
   "metadata": {},
   "source": [
    "Weitere bitweise Operationen: Bitweises UND &, bitweises ODER |, bitweises ENTWEDER ODER (XOR) ^."
   ]
  },
  {
   "cell_type": "code",
   "execution_count": 51,
   "id": "a837057c-5e5f-4024-ac7a-544bc837a2cb",
   "metadata": {},
   "outputs": [
    {
     "name": "stdout",
     "output_type": "stream",
     "text": [
      "7 & 2 = 2\n",
      "7 | 2 = 7\n",
      "7 ^ 2 = 5\n"
     ]
    }
   ],
   "source": [
    "# Bitweises UND\n",
    "print(f\"{7 & 2 = }\")\n",
    "# Bitweises ODER\n",
    "print(f\"{7 | 2 = }\")\n",
    "# Bitweises ENTWEDER ODER\n",
    "print(f\"{7 ^ 2 = }\")"
   ]
  },
  {
   "cell_type": "code",
   "execution_count": 52,
   "id": "bd691264-20fd-4f52-88bf-0ceeb243eb14",
   "metadata": {},
   "outputs": [],
   "source": [
    "# Potenzieren\n",
    "def pow(base, exponent):\n",
    "    prod = 1\n",
    "    b = base\n",
    "    e = exponent\n",
    "    while e:\n",
    "        if e & 1:\n",
    "            prod *= b\n",
    "        b *= b\n",
    "        e = e >> 1\n",
    "    return prod"
   ]
  },
  {
   "cell_type": "code",
   "execution_count": 53,
   "id": "b31ce14d-09f1-4cdd-8ebe-b577878b3d18",
   "metadata": {},
   "outputs": [
    {
     "data": {
      "text/plain": [
       "8192"
      ]
     },
     "execution_count": 53,
     "metadata": {},
     "output_type": "execute_result"
    }
   ],
   "source": [
    "pow(2, 13)"
   ]
  },
  {
   "cell_type": "markdown",
   "id": "ce6ef770-1b0d-41fb-b46b-520eacfbd1cb",
   "metadata": {},
   "source": [
    "Einbau in Klasse `FiniteFieldElement`."
   ]
  },
  {
   "cell_type": "code",
   "execution_count": 65,
   "id": "e3a57e9e-b065-43e8-8845-c95f79718eda",
   "metadata": {},
   "outputs": [],
   "source": [
    "def pow(base, exponent):\n",
    "    b = base\n",
    "    e = exponent\n",
    "    result = 1\n",
    "    while e:\n",
    "        if e & 1:\n",
    "            result *= b\n",
    "        b *= b\n",
    "        e >>= 1\n",
    "    return result\n",
    "\n",
    "class FiniteFieldElement:\n",
    "    # Konstruktor\n",
    "    def __init__(self, z, p):\n",
    "        self.p = p\n",
    "        self.z = z % p\n",
    "\n",
    "    def __add__(self, z2):\n",
    "        if self.p != z2.p:\n",
    "            raise TypeError(\"Die Addition ist nicht definiert für Elemente unterschiedlicher Körper\")\n",
    "        return FiniteFieldElement( (self.z + z2.z) % self.p, self.p)\n",
    "\n",
    "    def __mul__(self, z2):\n",
    "        if self.p != z2.p:\n",
    "            raise TypeError(\"Die Multiplikation ist nicht definiert für Elemente unterschiedlicher Körper\")\n",
    "        return FiniteFieldElement( (self.z * z2.z) % self.p, self.p)\n",
    "    \n",
    "    # Darstellung des Objekts als String\n",
    "    def __str__(self):\n",
    "        return f\"({self.z} mod {self.p})\"\n",
    "\n",
    "    # Darstellung des Objekts für den Entwickler\n",
    "    def __repr__(self):\n",
    "        return f\"[{self.z} mod {self.p}]\"\n",
    "\n",
    "    # Berechne additives Inverses\n",
    "    def additive_inverse(self):\n",
    "        return -self.z % self.p\n",
    "\n",
    "    def multiplicate_inverse(self):\n",
    "        gcd, x, y = extended_euclid(self.z, self.p)\n",
    "        # return x % self.p\n",
    "        return FiniteFieldElement(x, self.p)\n",
    "\n",
    "    # Und dies erlaubt dann auch die Division durch ein Feldelement - dargestellt\n",
    "    # durch den Operator /, der der Funktion __truediv__ entspricht. (Im Gegensatz\n",
    "    # zu __floordiv__, die den Operator // implementiert.\n",
    "    def __truediv__(self, z2):\n",
    "        return self * z2.multiplicate_inverse()\n",
    "\n",
    "    def __pow__(self, exponent):\n",
    "        one = FiniteFieldElement(1, self.p)\n",
    "        b = self * one\n",
    "        e = exponent\n",
    "        result = one\n",
    "        while e:\n",
    "            if e & 1:\n",
    "                result *= b\n",
    "            b *= b\n",
    "            e >>= 1\n",
    "        return result"
   ]
  },
  {
   "cell_type": "code",
   "execution_count": 63,
   "id": "fb0a614f-2fbc-486c-9ee4-0cee4e3c62be",
   "metadata": {},
   "outputs": [
    {
     "name": "stdout",
     "output_type": "stream",
     "text": [
      "z3_5 ** 130 = [4 mod 5]\n",
      "z3_5 / z3_5 = [1 mod 5]\n"
     ]
    }
   ],
   "source": [
    "z3_5 = FiniteFieldElement(3, 5)\n",
    "print(f\"{z3_5 ** 130 = }\")\n",
    "print(f\"{z3_5 / z3_5 = }\")"
   ]
  },
  {
   "cell_type": "code",
   "execution_count": 66,
   "id": "f87b207a-2913-4ed8-ac0a-a47769cfeaf8",
   "metadata": {},
   "outputs": [
    {
     "data": {
      "text/plain": [
       "[55 mod 137]"
      ]
     },
     "execution_count": 66,
     "metadata": {},
     "output_type": "execute_result"
    }
   ],
   "source": [
    "z65_137 = FiniteFieldElement(65, 137)\n",
    "z13_137 = FiniteFieldElement(13, 137)\n",
    "(z13_137 / z65_137)"
   ]
  },
  {
   "cell_type": "code",
   "execution_count": 69,
   "id": "5e62a33a-91f4-4e46-8522-9b7273c5f38c",
   "metadata": {},
   "outputs": [
    {
     "data": {
      "text/plain": [
       "13"
      ]
     },
     "execution_count": 69,
     "metadata": {},
     "output_type": "execute_result"
    }
   ],
   "source": [
    "65 * 55 % 137"
   ]
  },
  {
   "cell_type": "code",
   "execution_count": null,
   "id": "44a56ed7-3ebc-4b27-98fc-e94b005c9948",
   "metadata": {},
   "outputs": [],
   "source": []
  }
 ],
 "metadata": {
  "kernelspec": {
   "display_name": "Python 3 (ipykernel)",
   "language": "python",
   "name": "python3"
  },
  "language_info": {
   "codemirror_mode": {
    "name": "ipython",
    "version": 3
   },
   "file_extension": ".py",
   "mimetype": "text/x-python",
   "name": "python",
   "nbconvert_exporter": "python",
   "pygments_lexer": "ipython3",
   "version": "3.12.10"
  }
 },
 "nbformat": 4,
 "nbformat_minor": 5
}
