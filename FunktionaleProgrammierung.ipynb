{
 "cells": [
  {
   "cell_type": "markdown",
   "metadata": {},
   "source": [
    "# Funktionale Programmierung\n",
    "- Programmierparadigma: Programme als Kombination von Funktionen\n",
    "- Deklarativität:\n",
    "    - \"Was soll getan werden?\" statt\n",
    "    - \"Wie soll es getan werden?\"\n",
    "- Möglichst mit \"reinen Funktionen\":\n",
    "    - Deterministisch: Abhängigkeit nur von Eingabeparametern und nicht von externen Zuständen\n",
    "    - Nebenwirkungsfrei (\"keine Seiteneffekte\"): Auswerten der Funktion verändert keine externen Zustände (Globale Variablen, Dateien, Datenbanken)\n",
    "- Möglichst mit unveränderlichen Datenstrukturen: Neu erstellen statt verändern\n",
    "- Funktionen als \"Erstklassige Objekte\": Funktionen können wie Variablen behandelt werden, insbesondere\n",
    "    - an andere Funktionen übergeben werden\n",
    "    - Rückgabewerte von Funktionen sein\n",
    "\n",
    "Funktionen, die Funktionen als Argumente und/oder Rückgabewerte haben, nennt man Funktionen höherer Ordnung, engl. \"Higher Order Functions\"."
   ]
  },
  {
   "cell_type": "markdown",
   "metadata": {},
   "source": [
    "## Python und funktionale Programmierung\n",
    "Python\n",
    "- ist keine rein funktionale Programmiersprache (wie z.B. Haskell)\n",
    "- unterstützt aber Konzepte der funktionalen Programmierung, z.B. durch\n",
    "    - Funktionen als erstklassige Objekte\n",
    "    - $\\lambda$-Ausdrücke (`lambda` -- etwas eingeschränkt, da nur Ausdrücke und keine allgemeinen Anweisungsblöcke möglich sind)\n",
    "    - Bibliotheken von sehr häufig verwendeten Funktionen der funktionalen Programmierung (`filter`, `map`, `reduce`)\n",
    "    - Datenstrukturen, die diese Funktionen unterstützen\n"
   ]
  },
  {
   "cell_type": "markdown",
   "metadata": {},
   "source": [
    "## Deklarativität"
   ]
  },
  {
   "cell_type": "markdown",
   "metadata": {},
   "source": [
    "\n",
    "Beispiel: Summiere Funktionswerte $f(i)$ für $i=1\\dots 10$:"
   ]
  },
  {
   "cell_type": "markdown",
   "metadata": {},
   "source": [
    "Imperativer Programmierstil:\n"
   ]
  },
  {
   "cell_type": "code",
   "execution_count": 16,
   "metadata": {},
   "outputs": [
    {
     "name": "stdout",
     "output_type": "stream",
     "text": [
      "sumf=385\n"
     ]
    }
   ],
   "source": [
    "def f(x):\n",
    "    return x*x\n",
    "\n",
    "sumf = 0\n",
    "for i in range(1, 11):\n",
    "    sumf += f(i)\n",
    "print(f\"{sumf=}\")"
   ]
  },
  {
   "cell_type": "markdown",
   "metadata": {},
   "source": [
    "Funktionaler Programmierstil:"
   ]
  },
  {
   "cell_type": "code",
   "execution_count": 17,
   "metadata": {},
   "outputs": [
    {
     "name": "stdout",
     "output_type": "stream",
     "text": [
      "sumf=385\n"
     ]
    }
   ],
   "source": [
    "f = lambda x: x*x\n",
    "sumf = sum(map(f, range(1, 11)))\n",
    "print(f\"{sumf=}\")"
   ]
  },
  {
   "cell_type": "markdown",
   "metadata": {},
   "source": [
    "Oder, ohne Definition der Funktion `f` (sinnvoll, wenn diese einfach ist und an keiner anderen Stelle mehr genutzt wird):"
   ]
  },
  {
   "cell_type": "code",
   "execution_count": 9,
   "metadata": {},
   "outputs": [
    {
     "name": "stdout",
     "output_type": "stream",
     "text": [
      "sumf=385\n"
     ]
    }
   ],
   "source": [
    "sumf = sum(map(lambda x: x*x, range(1,11)))\n",
    "print(f\"{sumf=}\")"
   ]
  },
  {
   "cell_type": "markdown",
   "metadata": {},
   "source": []
  },
  {
   "cell_type": "markdown",
   "metadata": {},
   "source": [
    "### `map`, `filter`, `reduce`\n",
    "Wichtige Funktionen höherer Ordnung, die in den meisten funktionalen Programmiersprachen vorhanden sind.\n",
    "- `map`: Wendet eine gegebene Funktion auf jedes Element einer Liste (oder eines anderen iterierbaren Objekts) an und gibt eine neue Liste mit den Ergebnissen zurück.\n",
    "- `filter`: Filtert Elemente einer Liste (oder eines anderen iterierbaren Objekts) basierend auf einer Funktion, die ein boolesches Ergebnis liefert, und gibt eine neue Liste mit den Elementen zurück, die die Bedingung erfüllen.\n",
    "- `reduce`: Führt eine kumulative Funktion auf den Elementen einer Liste (oder eines anderen iterierbaren Objekts) aus, um einen einzigen Wert zu berechnen. Diese Funktion ist in Python im Modul `functools` verfügbar."
   ]
  },
  {
   "cell_type": "code",
   "execution_count": 2,
   "metadata": {},
   "outputs": [
    {
     "name": "stdout",
     "output_type": "stream",
     "text": [
      "[1, 4, 9, 16, 25]\n"
     ]
    }
   ],
   "source": [
    "# Beispiel für map:\n",
    "numbers = [1, 2, 3, 4, 5]\n",
    "squared_numbers = list(map(lambda x: x*x, numbers))\n",
    "print(squared_numbers)"
   ]
  },
  {
   "cell_type": "code",
   "execution_count": 4,
   "metadata": {},
   "outputs": [
    {
     "name": "stdout",
     "output_type": "stream",
     "text": [
      "[2, 4]\n"
     ]
    }
   ],
   "source": [
    "# Beispiel für filter:\n",
    "even_numbers = list(filter(lambda x: x % 2 == 0, numbers))\n",
    "print(even_numbers)"
   ]
  },
  {
   "cell_type": "code",
   "execution_count": 10,
   "metadata": {},
   "outputs": [
    {
     "name": "stdout",
     "output_type": "stream",
     "text": [
      "product_of_numbers = 120\n"
     ]
    }
   ],
   "source": [
    "from functools import reduce\n",
    "\n",
    "# Beispiel für reduce:\n",
    "product_of_numbers = reduce(lambda x, y: x * y, numbers, 1)\n",
    "print(f\"{product_of_numbers = }\")"
   ]
  },
  {
   "cell_type": "markdown",
   "metadata": {},
   "source": [
    "`reduce`:\n",
    "- verknüpft alle Werte im zweiten Argument von links nach rechts durch die Funktion im ersten Argument\n",
    "- für die Funktion `lambda x, y: x + y` liefert die Reduktion das gleiche Ergebnis wie die Funktion `sum`, die alle Werte der Datenstruktur aufaddiert\n",
    "- andere Bezeichnung in einigen anderen Programmiersprachen, z.B. als `fold` oder `foldl` bzw. `foldr` für die Faltung von links bzw. rechts"
   ]
  },
  {
   "cell_type": "markdown",
   "metadata": {},
   "source": [
    "**Übungsaufgabe:** Implementieren Sie ein Lösungsverfahren für die New York Times Spelling Bee mit Hilfe von `map`, `filter` und `reduce`. Geben Sie alle Lösungen nach Punktzahl (höchste Punktzahl zuerst) sortiert aus und erzeugen Sie eine Liste aller Pangramme. Berechnen Sie zusätzlich die maximal erreichbare Gesamtpunktzahl."
   ]
  },
  {
   "cell_type": "markdown",
   "metadata": {},
   "source": [
    "## Reine Funktionen\n",
    "- Nur abhängig von Parametern, nicht von globalen Variablen\n",
    "- Verändern nicht den Zustand\n",
    "\n",
    "`print` ist ein Beispiel für eine nicht reine, aber sinnvolle Funktion, die keinen Rückgabewert hat und nur für ihren Seiteneffekt (Ausgabe) aufgerufen wird.\n",
    "\n",
    "Vorteile reiner Funktionen:\n",
    "\n",
    "1.\tVorhersagbarkeit: Bei gleicher Eingabe liefern sie immer dieselbe Ausgabe.\n",
    "2.\tEinfacheres Testen: Weil sie keinen Zustand verändern und nicht von äußeren Zuständen abhängen, sind sie leicht zu testen.\n",
    "3.\tEinfacheres Debuggen: Da sie keine Seiteneffekte haben, treten weniger versteckte Fehler auf.\n",
    "4.\tNebenwirkungsfreiheit: Sie beeinflussen keine externen Ressourcen, was die Parallelisierung und Wiederverwendbarkeit vereinfacht.\n"
   ]
  },
  {
   "cell_type": "markdown",
   "metadata": {},
   "source": [
    "## Besonderheiten in Python\n",
    "List Comprehensions und Generatoren sind manchmal mindestens genauso gut lesbar wie Konstruktionen mit `map`, `list` oder `reduce` und in der Regel schneller als ihre funktionalen Gegenstücke.\n",
    "\n",
    "Beispiel: Summiere die Quadrate aller Zahlen zwischen 1 und 1000 (einschließlich), die durch 3, aber nicht durch 5 teilbar sind."
   ]
  },
  {
   "cell_type": "code",
   "execution_count": 38,
   "metadata": {},
   "outputs": [
    {
     "name": "stdout",
     "output_type": "stream",
     "text": [
      "72.8 μs ± 278 ns per loop (mean ± std. dev. of 7 runs, 10,000 loops each)\n"
     ]
    }
   ],
   "source": [
    "%%timeit\n",
    "strange_sum1 = sum(\n",
    "    map(lambda x: x*x,\n",
    "        filter(lambda x: x%3 == 0 and x%5 != 0,\n",
    "          range(1, 1001) )))"
   ]
  },
  {
   "cell_type": "code",
   "execution_count": 39,
   "metadata": {},
   "outputs": [
    {
     "name": "stdout",
     "output_type": "stream",
     "text": [
      "52 μs ± 288 ns per loop (mean ± std. dev. of 7 runs, 10,000 loops each)\n"
     ]
    }
   ],
   "source": [
    "%%timeit\n",
    "strange_sum2 = sum(\n",
    "    (x*x for x in range(1, 1001) \n",
    "      if x%3 == 0 and x%5 != 0)\n",
    ")"
   ]
  },
  {
   "cell_type": "code",
   "execution_count": 40,
   "metadata": {},
   "outputs": [
    {
     "data": {
      "text/plain": [
       "(89222886, 89222886)"
      ]
     },
     "execution_count": 40,
     "metadata": {},
     "output_type": "execute_result"
    }
   ],
   "source": [
    "(strange_sum1, strange_sum2)"
   ]
  },
  {
   "cell_type": "markdown",
   "metadata": {},
   "source": [
    "## Funktionen höherer Ordnung auf Iteratoren und Generatoren\n",
    "Die wichtigsten Funktionen höherer Ordnung funktionieren wie Comprehensions nicht nur auf Listen und Tupeln, sondern allgemeinen iterierbaren Datenstrukturen und Generatoren.\n",
    "\n",
    "Generatoren:\n",
    "- erzeugen Daten erst bei Bedarf (Lazy Evaluation)\n",
    "    - spart Speicherplatz\n",
    "    - spart Rechenleistung\n",
    "- könnnen sogar unendliche Datenströme erzeugen\n",
    "\n",
    "Implementierung:\n",
    "- Funktionen, die Werte mit `yield` statt `return` zurückgeben\n",
    "- Position wird gemerkt und beim nächsten Aufruf an dieser Stelle fortgesetzt\n",
    "- Nächstes Element kann z.B. mit der Funktion `next` abgerufen werden\n",
    "- Häufiger: Iteration in `for`-Schleife\n"
   ]
  },
  {
   "cell_type": "code",
   "execution_count": 18,
   "metadata": {},
   "outputs": [
    {
     "name": "stdout",
     "output_type": "stream",
     "text": [
      "1\n",
      "2\n",
      "3\n"
     ]
    }
   ],
   "source": [
    "def gen123():\n",
    "    yield 1\n",
    "    yield 2\n",
    "    yield 3\n",
    "\n",
    "for i in gen123():\n",
    "    print(i)"
   ]
  },
  {
   "cell_type": "markdown",
   "metadata": {},
   "source": [
    "Hier ein prinzipiell unendlicher Generator, der die Folge $n!$ für $n\\in\\mathbb{N}$ ausgibt."
   ]
  },
  {
   "cell_type": "code",
   "execution_count": 21,
   "metadata": {},
   "outputs": [
    {
     "name": "stdout",
     "output_type": "stream",
     "text": [
      "1\n",
      "2\n",
      "6\n",
      "24\n",
      "120\n",
      "720\n",
      "5040\n",
      "40320\n",
      "362880\n",
      "3628800\n",
      "39916800\n",
      "479001600\n",
      "6227020800\n"
     ]
    }
   ],
   "source": [
    "def factorials():\n",
    "    val = 1\n",
    "    n = 1\n",
    "    while True:\n",
    "        val *= n\n",
    "        yield val\n",
    "        n += 1\n",
    "\n",
    "facs = factorials()\n",
    "\n",
    "# Fakultäten unterhalb 1 Mrd\n",
    "for i in facs:\n",
    "    print(i)\n",
    "    if i > 1e9:\n",
    "        break\n"
   ]
  },
  {
   "cell_type": "markdown",
   "metadata": {},
   "source": [
    "Übungsaufgabe: Schreiben Sie einen Generator für die Fibonacci-Folge."
   ]
  },
  {
   "cell_type": "code",
   "execution_count": 37,
   "metadata": {},
   "outputs": [
    {
     "name": "stdout",
     "output_type": "stream",
     "text": [
      "0\n",
      "1\n",
      "1\n",
      "2\n",
      "3\n",
      "5\n",
      "8\n",
      "13\n",
      "21\n",
      "34\n"
     ]
    }
   ],
   "source": [
    "def fibonacci():\n",
    "    a, b = 0, 1\n",
    "    while True:\n",
    "        yield a\n",
    "        a, b = b, a + b\n",
    "\n",
    "# Beispiel: Erste 10 Fibonacci-Zahlen\n",
    "fib = fibonacci()\n",
    "for _ in range(10):\n",
    "    print(next(fib))"
   ]
  },
  {
   "cell_type": "markdown",
   "metadata": {},
   "source": [
    "Übungsaufgabe: Schreiben Sie einen Primzahlgenerator, der (bis er an die Grenzen der Rechnerressourcen stößt) die Folge der Primzahlen ab 2 ausgibt."
   ]
  },
  {
   "cell_type": "markdown",
   "metadata": {},
   "source": [
    "**Musterlösung**\n",
    "\n",
    "Die effizientesten Methoden sind Varianten des Siebs des Erathostenes. Hier eine geniale Variante nach David Eppstein [https://code.activestate.com/recipes/117119/](https://code.activestate.com/recipes/117119/):"
   ]
  },
  {
   "cell_type": "code",
   "execution_count": 94,
   "metadata": {},
   "outputs": [
    {
     "name": "stdout",
     "output_type": "stream",
     "text": [
      "2\n",
      "3\n",
      "5\n",
      "7\n",
      "11\n",
      "13\n",
      "17\n",
      "19\n",
      "23\n",
      "29\n"
     ]
    }
   ],
   "source": [
    "def prime_generator():\n",
    "    D = {}\n",
    "    q = 2\n",
    "    while True:\n",
    "        if q not in D:\n",
    "            yield q\n",
    "            D[q * q] = [q]\n",
    "        else:\n",
    "            for p in D[q]:\n",
    "                D.setdefault(p + q, []).append(p)\n",
    "            del D[q]\n",
    "        q += 1\n",
    "\n",
    "# Beispiel: Erste 10 Primzahlen\n",
    "primes = prime_generator()\n",
    "for _ in range(10):\n",
    "    print(next(primes))"
   ]
  },
  {
   "cell_type": "markdown",
   "metadata": {},
   "source": [
    "Zum Vergleich ein langsamerer Algorithmus, der anhand einer wachsenden Liste die natürlichen Zahlen auf Primalität untersucht."
   ]
  },
  {
   "cell_type": "code",
   "execution_count": 161,
   "metadata": {},
   "outputs": [
    {
     "name": "stdout",
     "output_type": "stream",
     "text": [
      "2\n",
      "3\n",
      "5\n",
      "7\n",
      "11\n",
      "13\n",
      "17\n",
      "19\n",
      "23\n",
      "29\n"
     ]
    }
   ],
   "source": [
    "from math import isqrt\n",
    "def prime_gen():\n",
    "    primes = [2]\n",
    "    yield 2\n",
    "    n = 2\n",
    "    while True:\n",
    "        n += 1\n",
    "        sqrtn = isqrt(n)\n",
    "        is_prime = False\n",
    "        for p in primes:\n",
    "            if p > sqrtn:\n",
    "                is_prime = True\n",
    "                break\n",
    "            if n % p == 0:\n",
    "                break\n",
    "        if is_prime:\n",
    "            primes.append(n)\n",
    "            yield n\n",
    "\n",
    "primes2 = prime_gen()\n",
    "for _ in range(10):\n",
    "    print(next(primes2))\n",
    "\n"
   ]
  },
  {
   "cell_type": "code",
   "execution_count": 162,
   "metadata": {},
   "outputs": [
    {
     "name": "stdout",
     "output_type": "stream",
     "text": [
      "CPU times: user 6.31 s, sys: 120 ms, total: 6.44 s\n",
      "Wall time: 6.46 s\n"
     ]
    }
   ],
   "source": [
    "%%time\n",
    "N = 1_000_000\n",
    "primes_long = prime_generator()\n",
    "list1 = [(i, next(primes_long)) for i in range(N)]"
   ]
  },
  {
   "cell_type": "code",
   "execution_count": 163,
   "metadata": {},
   "outputs": [
    {
     "name": "stdout",
     "output_type": "stream",
     "text": [
      "CPU times: user 15.5 s, sys: 108 ms, total: 15.6 s\n",
      "Wall time: 15.6 s\n"
     ]
    }
   ],
   "source": [
    "%%time\n",
    "#N = 1000\n",
    "primes_long = prime_gen()\n",
    "list2 = [(i, next(primes_long)) for i in range(N)]"
   ]
  },
  {
   "cell_type": "markdown",
   "metadata": {},
   "source": [
    "Überprüfen wir, ob beide Verfahren die richtige millionste Primzahl ergeben."
   ]
  },
  {
   "cell_type": "code",
   "execution_count": 156,
   "metadata": {},
   "outputs": [
    {
     "name": "stdout",
     "output_type": "stream",
     "text": [
      "\n",
      "      prime_mio = 15485863\n",
      "      list1[-1] = (999999, 15485863)\n",
      "      list2[-1] = (999999, 15485863)\n",
      "    \n"
     ]
    }
   ],
   "source": [
    "from sympy import prime\n",
    "prime_mio = prime(1_000_000)\n",
    "print(f\"\"\"\n",
    "      {prime_mio = }\n",
    "      {list1[-1] = }\n",
    "      {list2[-1] = }\n",
    "    \"\"\")"
   ]
  },
  {
   "cell_type": "markdown",
   "metadata": {},
   "source": [
    "#### Generatoren und List Comprehensions\n",
    "Ersetzt man in einer List Comprehension die eckigen durch runde Klammern, so erhält man einen Generator."
   ]
  },
  {
   "cell_type": "code",
   "execution_count": 24,
   "metadata": {},
   "outputs": [
    {
     "name": "stdout",
     "output_type": "stream",
     "text": [
      "1\n",
      "3\n",
      "5\n",
      "7\n",
      "9\n",
      "11\n",
      "13\n",
      "15\n",
      "17\n",
      "19\n"
     ]
    }
   ],
   "source": [
    "odd_nums = (2*n + 1 for n in range(1_000_000_000_000))\n",
    "for _ in range(10):\n",
    "    print(next(odd_nums))"
   ]
  },
  {
   "cell_type": "markdown",
   "metadata": {},
   "source": [
    "## Weitere hilfreiche Funktionen für die funktionale Programmierung"
   ]
  },
  {
   "cell_type": "markdown",
   "metadata": {},
   "source": [
    "### `any`, `all`\n",
    "- `all`: Prüft, ob alle Elemente einer iterierbaren Datenstruktur wahr sind\n",
    "- `any`: Prüft, ob mindeste ein Element einer iterierbaren Datenstruktur wahr ist"
   ]
  },
  {
   "cell_type": "code",
   "execution_count": 27,
   "metadata": {},
   "outputs": [
    {
     "data": {
      "text/plain": [
       "False"
      ]
     },
     "execution_count": 27,
     "metadata": {},
     "output_type": "execute_result"
    }
   ],
   "source": [
    "# all\n",
    "all((map(lambda x: x > 10, range(10))))"
   ]
  },
  {
   "cell_type": "code",
   "execution_count": 29,
   "metadata": {},
   "outputs": [
    {
     "data": {
      "text/plain": [
       "True"
      ]
     },
     "execution_count": 29,
     "metadata": {},
     "output_type": "execute_result"
    }
   ],
   "source": [
    "any([x % 7 == 0 for x in range(1,10)])"
   ]
  },
  {
   "cell_type": "markdown",
   "metadata": {},
   "source": [
    "### `itertools.starmap`\n",
    "Zur Erinnerung: `*liste` entspricht einer Aufzählung der Listenelemente, getrennt durch Kommata. Kann zur Destrukturierung und für Funktionen mit variabler Anzahl von Elementen eingesetzt werden."
   ]
  },
  {
   "cell_type": "code",
   "execution_count": 32,
   "metadata": {},
   "outputs": [
    {
     "name": "stdout",
     "output_type": "stream",
     "text": [
      "\n",
      "x=1\n",
      "y=[2, 3, 4]\n",
      "z=5\n",
      "      \n"
     ]
    }
   ],
   "source": [
    "# Destrukturierung\n",
    "x, *y, z = [1, 2, 3, 4, 5]\n",
    "print(f\"\"\"\n",
    "{x=}\n",
    "{y=}\n",
    "{z=}\n",
    "      \"\"\")"
   ]
  },
  {
   "cell_type": "code",
   "execution_count": 34,
   "metadata": {},
   "outputs": [
    {
     "name": "stdout",
     "output_type": "stream",
     "text": [
      "x=(1, 2, 3, 4, 5, 6)\n",
      "mean(1,2,3,4,5,6)=3.5\n"
     ]
    }
   ],
   "source": [
    "def mean(*x):\n",
    "    print(f\"{x=}\")\n",
    "    return sum(x)/len(x)\n",
    "\n",
    "print(f\"{mean(1,2,3,4,5,6)=}\")"
   ]
  },
  {
   "cell_type": "code",
   "execution_count": 36,
   "metadata": {},
   "outputs": [
    {
     "data": {
      "text/plain": [
       "[3, 5, 7]"
      ]
     },
     "execution_count": 36,
     "metadata": {},
     "output_type": "execute_result"
    }
   ],
   "source": [
    "from itertools import starmap\n",
    "add = lambda x, y: x+y\n",
    "args = [(1,2), (2,3), (3,4)]\n",
    "# Fehler: map erlaubt nur ein Argument\n",
    "#list(map(add, args))\n",
    "list(starmap(add, args))"
   ]
  },
  {
   "cell_type": "code",
   "execution_count": 128,
   "metadata": {},
   "outputs": [
    {
     "data": {
      "text/plain": [
       "[3, 5, 7]"
      ]
     },
     "execution_count": 128,
     "metadata": {},
     "output_type": "execute_result"
    }
   ],
   "source": [
    "# Warum heißt das `starmap`?\n",
    "[add(*x) for x in args]"
   ]
  },
  {
   "cell_type": "code",
   "execution_count": null,
   "metadata": {},
   "outputs": [],
   "source": []
  }
 ],
 "metadata": {
  "kernelspec": {
   "display_name": "Python 3 (ipykernel)",
   "language": "python",
   "name": "python3"
  },
  "language_info": {
   "codemirror_mode": {
    "name": "ipython",
    "version": 3
   },
   "file_extension": ".py",
   "mimetype": "text/x-python",
   "name": "python",
   "nbconvert_exporter": "python",
   "pygments_lexer": "ipython3",
   "version": "3.12.10"
  }
 },
 "nbformat": 4,
 "nbformat_minor": 4
}
