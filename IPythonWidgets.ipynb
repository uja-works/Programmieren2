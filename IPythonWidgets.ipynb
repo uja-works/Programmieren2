{
 "cells": [
  {
   "cell_type": "markdown",
   "id": "a6ad4f2b-c200-47ea-ae0b-457a3bc0553e",
   "metadata": {},
   "source": [
    "# Jupyter mit IPython \n",
    "Dokumentation: https://ipywidgets.readthedocs.io/en/8.1.5/index.html "
   ]
  },
  {
   "cell_type": "code",
   "execution_count": 1,
   "id": "ff665d6d-09b1-4d40-a565-6f3f8334badb",
   "metadata": {},
   "outputs": [],
   "source": [
    "#!jupyter labextension list"
   ]
  },
  {
   "cell_type": "code",
   "execution_count": 1,
   "id": "fdc42e38-9799-48ef-a7f2-d9a282898c6c",
   "metadata": {},
   "outputs": [],
   "source": [
    "import numpy as np\n",
    "import matplotlib.pyplot as plt\n",
    "\n",
    "from ipywidgets import interact, interactive, fixed, interact_manual\n",
    "import ipywidgets as widgets"
   ]
  },
  {
   "cell_type": "markdown",
   "id": "42c2d68e-b306-48c9-906d-c4470119e12a",
   "metadata": {},
   "source": [
    "## Interact"
   ]
  },
  {
   "cell_type": "code",
   "execution_count": 3,
   "id": "985ffa45-6608-429e-890c-776788eb6528",
   "metadata": {},
   "outputs": [
    {
     "data": {
      "application/vnd.jupyter.widget-view+json": {
       "model_id": "48d75a11132a42e7af410387da712db2",
       "version_major": 2,
       "version_minor": 0
      },
      "text/plain": [
       "interactive(children=(IntSlider(value=10, description='x', max=30, min=-10), Output()), _dom_classes=('widget-…"
      ]
     },
     "metadata": {},
     "output_type": "display_data"
    }
   ],
   "source": [
    "def f(x):\n",
    "    return x*x\n",
    "\n",
    "interact(f, x=10);"
   ]
  },
  {
   "cell_type": "markdown",
   "id": "da4219e6-b970-41b2-91ff-20ef27e2abc9",
   "metadata": {},
   "source": [
    "Slider werden nur bei Integer- oder Float-Argumenten erzeugt. Bei logischen Argumenten werden Checkboxes, bei Stringargumenten Eingabefelder und bei Listen Dropdown-Listen erzeugt."
   ]
  },
  {
   "cell_type": "code",
   "execution_count": 4,
   "id": "4ad16818-e7b3-4942-897c-f4f49b4d6a80",
   "metadata": {},
   "outputs": [
    {
     "data": {
      "application/vnd.jupyter.widget-view+json": {
       "model_id": "8c5085ab686646cfa9453effc204bd6f",
       "version_major": 2,
       "version_minor": 0
      },
      "text/plain": [
       "interactive(children=(Checkbox(value=True, description='x'), Checkbox(value=True, description='y'), Output()),…"
      ]
     },
     "metadata": {},
     "output_type": "display_data"
    }
   ],
   "source": [
    "def log_xor(x, y):\n",
    "    return x^y\n",
    "\n",
    "interact(log_xor, x=True, y=True);"
   ]
  },
  {
   "cell_type": "code",
   "execution_count": 5,
   "id": "03f8ce8e-ccff-43a8-9a75-ee0c1c0a991b",
   "metadata": {},
   "outputs": [
    {
     "data": {
      "application/vnd.jupyter.widget-view+json": {
       "model_id": "7853426a1c0c46ed9271badb464d1e96",
       "version_major": 2,
       "version_minor": 0
      },
      "text/plain": [
       "interactive(children=(Text(value='Peter', description='name'), Output()), _dom_classes=('widget-interact',))"
      ]
     },
     "metadata": {},
     "output_type": "display_data"
    }
   ],
   "source": [
    "def greeting(name):\n",
    "    global NAME\n",
    "    NAME = name\n",
    "    return f\"Hallo, {name}!\"\n",
    "\n",
    "interact(greeting, name=\"Peter\");"
   ]
  },
  {
   "cell_type": "code",
   "execution_count": 12,
   "id": "64f9250a-4038-46c6-afa0-102446898c41",
   "metadata": {},
   "outputs": [
    {
     "data": {
      "text/plain": [
       "'Petrisolius Zwackelmann'"
      ]
     },
     "execution_count": 12,
     "metadata": {},
     "output_type": "execute_result"
    }
   ],
   "source": [
    "NAME"
   ]
  },
  {
   "cell_type": "code",
   "execution_count": 7,
   "id": "b75f4029-79f5-4052-bf7c-740019d45621",
   "metadata": {},
   "outputs": [
    {
     "data": {
      "application/vnd.jupyter.widget-view+json": {
       "model_id": "879d7c4f2d5b46138b927673e0e9a730",
       "version_major": 2,
       "version_minor": 0
      },
      "text/plain": [
       "interactive(children=(Dropdown(description='name', options=('Peter', 'Paul', 'Mary'), value='Peter'), Output()…"
      ]
     },
     "metadata": {},
     "output_type": "display_data"
    }
   ],
   "source": [
    "def upper(name):\n",
    "    return name.upper()\n",
    "\n",
    "interact(upper, name=[\"Peter\", \"Paul\", \"Mary\"]);"
   ]
  },
  {
   "cell_type": "code",
   "execution_count": 16,
   "id": "2d08931c-9b4f-404e-9c09-1dc978b2c338",
   "metadata": {},
   "outputs": [
    {
     "data": {
      "application/vnd.jupyter.widget-view+json": {
       "model_id": "5f7ce20524f94a998e68aeeb0aecf3d4",
       "version_major": 2,
       "version_minor": 0
      },
      "text/plain": [
       "interactive(children=(IntSlider(value=150, description='n', max=300), Output()), _dom_classes=('widget-interac…"
      ]
     },
     "metadata": {},
     "output_type": "display_data"
    }
   ],
   "source": [
    "def factorial(n):\n",
    "    if n==0:\n",
    "        return 1\n",
    "    return n*factorial(n-1)\n",
    "\n",
    "interact(factorial, n=(0,300,1));"
   ]
  },
  {
   "cell_type": "markdown",
   "id": "fbbfc942-6058-4991-a855-5d72668d72dd",
   "metadata": {},
   "source": [
    "## Ein Taschenrechner mit ipywidgets"
   ]
  },
  {
   "cell_type": "code",
   "execution_count": 24,
   "id": "89c82150-9424-46c5-8d30-87e3f7984602",
   "metadata": {},
   "outputs": [
    {
     "data": {
      "application/vnd.jupyter.widget-view+json": {
       "model_id": "279904840bda45b8b13c1227ec0892bf",
       "version_major": 2,
       "version_minor": 0
      },
      "text/plain": [
       "Text(value='', disabled=True, layout=Layout(width='300px'))"
      ]
     },
     "metadata": {},
     "output_type": "display_data"
    },
    {
     "data": {
      "application/vnd.jupyter.widget-view+json": {
       "model_id": "83860df2bcb34cbcafd75f69d88f9add",
       "version_major": 2,
       "version_minor": 0
      },
      "text/plain": [
       "GridBox(children=(Button(description='0', layout=Layout(height='50px', width='60px'), style=ButtonStyle()), Bu…"
      ]
     },
     "metadata": {},
     "output_type": "display_data"
    }
   ],
   "source": [
    "import ipywidgets as widgets\n",
    "from IPython.display import display\n",
    "\n",
    "# Display for calculator\n",
    "display_box = widgets.Text(value='', disabled=True, layout=widgets.Layout(width='300px'))\n",
    "\n",
    "# Buttons for numbers and operations\n",
    "button_layout = widgets.Layout(width='60px', height='50px')\n",
    "buttons = [\n",
    "    widgets.Button(description=str(i), layout=button_layout) for i in range(10)\n",
    "] + [\n",
    "    widgets.Button(description=op, layout=button_layout) for op in ['+', '-', '*', '/', '=', 'C']\n",
    "]\n",
    "\n",
    "# Function to handle button clicks\n",
    "def on_button_click(button):\n",
    "    if button.description == \"C\":\n",
    "        display_box.value = \"\"\n",
    "    elif button.description == \"=\":\n",
    "        try:\n",
    "            display_box.value = str(eval(display_box.value))\n",
    "        except Exception:\n",
    "            display_box.value = \"Error\"\n",
    "    else:\n",
    "        display_box.value += button.description\n",
    "\n",
    "# Attach click event handlers\n",
    "for button in buttons:\n",
    "    button.on_click(on_button_click)\n",
    "\n",
    "# Layout for the buttons in a grid\n",
    "button_grid = widgets.GridBox(\n",
    "    children=buttons,\n",
    "    layout=widgets.Layout(\n",
    "        width='260px',\n",
    "        grid_template_columns='repeat(4, 60px)',\n",
    "        grid_gap='5px'\n",
    "    )\n",
    ")\n",
    "\n",
    "# Display the calculator\n",
    "display(display_box, button_grid)"
   ]
  },
  {
   "cell_type": "code",
   "execution_count": 26,
   "id": "4e2b6034-1f06-4bb2-b1ca-759e70d2b36d",
   "metadata": {
    "scrolled": true
   },
   "outputs": [
    {
     "data": {
      "application/vnd.jupyter.widget-view+json": {
       "model_id": "b7bd44700f1f408c9ba65a3fb050a162",
       "version_major": 2,
       "version_minor": 0
      },
      "text/plain": [
       "interactive(children=(FloatSlider(value=5.0, description='freq', max=10.0, min=1.0), Output()), _dom_classes=(…"
      ]
     },
     "metadata": {},
     "output_type": "display_data"
    },
    {
     "data": {
      "text/plain": [
       "<function __main__.show_plot(freq)>"
      ]
     },
     "execution_count": 26,
     "metadata": {},
     "output_type": "execute_result"
    }
   ],
   "source": [
    "import matplotlib.pyplot as plt\n",
    "import numpy as np\n",
    "x = np.linspace(-10,10,600)\n",
    "\n",
    "def show_plot(freq):\n",
    "    #ax.clear()\n",
    "    fig, ax = plt.subplots()\n",
    "    ax.plot(x, np.sin(freq * x))\n",
    "    plt.show()\n",
    "\n",
    "interact(show_plot, freq = (1, 10, 0.1))\n"
   ]
  },
  {
   "cell_type": "code",
   "execution_count": null,
   "id": "7d998844-db80-4536-98a3-64814429795c",
   "metadata": {},
   "outputs": [],
   "source": []
  }
 ],
 "metadata": {
  "kernelspec": {
   "display_name": "Python 3 (ipykernel)",
   "language": "python",
   "name": "python3"
  },
  "language_info": {
   "codemirror_mode": {
    "name": "ipython",
    "version": 3
   },
   "file_extension": ".py",
   "mimetype": "text/x-python",
   "name": "python",
   "nbconvert_exporter": "python",
   "pygments_lexer": "ipython3",
   "version": "3.12.10"
  }
 },
 "nbformat": 4,
 "nbformat_minor": 5
}
