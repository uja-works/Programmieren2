{
 "cells": [
  {
   "cell_type": "markdown",
   "id": "19cc9cb1-4648-4ad5-8a1b-ee19e98dd781",
   "metadata": {},
   "source": [
    "# Numpy und Matplotlib"
   ]
  },
  {
   "cell_type": "markdown",
   "id": "e4646aa0-d4a7-4b40-a35b-f123d5952ec7",
   "metadata": {},
   "source": [
    "CPython ist eine interpretierte Programmiersprache, jede Python-Anweisung des Codes wird Zeile für Zeile eingelesen, übersetzt und dann ausgeführt. Folge: Im Gegensatz zu kompilierten Programmiersprachen relativ langsame Ausführung, besonders bei Schleifen. Meist ca. 100x langsamer als C."
   ]
  },
  {
   "cell_type": "markdown",
   "id": "f970e0ab-9145-4af7-a77c-b6af42e64576",
   "metadata": {},
   "source": [
    "## Motivation: Eine Monte-Carlo-Methode zur Schätzung von $\\pi$"
   ]
  },
  {
   "cell_type": "markdown",
   "id": "796cec9b-9fe8-4db4-a4a9-b2b361bd8b7b",
   "metadata": {},
   "source": [
    "#### Lösung mit Schleifen"
   ]
  },
  {
   "cell_type": "code",
   "execution_count": 1,
   "id": "336a0870-7be6-470d-884e-ee9eeac1b178",
   "metadata": {
    "scrolled": true
   },
   "outputs": [
    {
     "name": "stdout",
     "output_type": "stream",
     "text": [
      "MC-Schätzer für pi = 3.141441 (wahrer Wert: 3.141592653589793)\n",
      "CPU times: user 850 ms, sys: 5.12 ms, total: 855 ms\n",
      "Wall time: 855 ms\n"
     ]
    }
   ],
   "source": [
    "%%time\n",
    "# Monte-Carlo-Methode zur näherungsweisen Berechnung von pi\n",
    "#\n",
    "# 1. Ziehe N zufällige Punkte aus dem Einheitsquadrat. Jeder Punkt hat eine zufällige x- und y-Koordinate \n",
    "#    zwischen 0 und 1 (gleichförmig verteilt).\n",
    "# 2. Prüfe für jeden dieser Punkte, ob er im Einheitskreis liegt, d.h., ob x**2 + y**2 <= 1 ist.\n",
    "# 3. Die Fläche eines Viertels des Einheitskreises dividiert dividiert durch die Fläche des Einheitsquadrats ist\n",
    "#    pi/4. Dies ist ebenfalls die Wahrscheinlichkeit, dass einer zufälligen Punkte im Einheitsquadrat landet.\n",
    "# 4. Häufigkeit sollte nach Gesetz der großen Zahlen gegen die Wahrscheinlichkeit gehen, d.h.\n",
    "#    Anzahl der Punkte im Einheitskreis durch Anzahl der Punkte insgesamt sollte gegen pi/4 gehen.\n",
    "#    \"Monte-Carlo-Schätzer für pi = 4*(Anzahl Treffer)/(Anzahl Versuche)\n",
    "\n",
    "from random import random\n",
    "from math import pi\n",
    "N = 4_000_000\n",
    "hits = 0 # Anzahl der Treffer\n",
    "for i in range(N):\n",
    "    x = random()\n",
    "    y = random()    \n",
    "    if x*x + y*y <= 1:\n",
    "        hits += 1\n",
    "\n",
    "print(f\"MC-Schätzer für pi = {4*hits/N} (wahrer Wert: {pi})\")"
   ]
  },
  {
   "cell_type": "markdown",
   "id": "1ea70b10-ce5a-4a0c-a58e-8b67422a3c88",
   "metadata": {},
   "source": [
    "#### Lösung mit `numpy`\n",
    "`numpy` ist eine Bibliothek zur Rechnung mit Vektoren, Matrizen und Arrays höherer Ordnung."
   ]
  },
  {
   "cell_type": "code",
   "execution_count": 2,
   "id": "312174e2-09d4-4313-b6be-0070cecc329c",
   "metadata": {},
   "outputs": [
    {
     "name": "stdout",
     "output_type": "stream",
     "text": [
      "np.sin(3.14) = 0.0015926529164868282\n",
      "np.cos(np.pi) = -1.0\n"
     ]
    }
   ],
   "source": [
    "import numpy as np\n",
    "# Enthält die üblichen mathematischen Funktionen und Konstanten\n",
    "print(f\"{np.sin(3.14) = }\")\n",
    "print(f\"{np.cos(np.pi) = }\")"
   ]
  },
  {
   "cell_type": "markdown",
   "id": "dffd280f-e780-43f2-849d-d8925c4df937",
   "metadata": {},
   "source": [
    "Ebenfalls vorhanden: random-Bibliothek, die aber Matrizen und Vektoren von Zufallszahlen erzeugen kann."
   ]
  },
  {
   "cell_type": "code",
   "execution_count": 3,
   "id": "4190c261-2531-4bda-ae09-0aec2a94d564",
   "metadata": {},
   "outputs": [
    {
     "data": {
      "text/plain": [
       "array([0.5038897 , 0.03114176, 0.60971787, 0.10245654, 0.32764364,\n",
       "       0.54623576, 0.31608151, 0.92485905, 0.59907103, 0.71181833])"
      ]
     },
     "execution_count": 3,
     "metadata": {},
     "output_type": "execute_result"
    }
   ],
   "source": [
    "np.random.random(10)"
   ]
  },
  {
   "cell_type": "code",
   "execution_count": 4,
   "id": "20658cc0-c54a-4afa-a77b-7f733b3481d1",
   "metadata": {},
   "outputs": [
    {
     "data": {
      "text/plain": [
       "array([[0.66011783, 0.7784172 , 0.89153423],\n",
       "       [0.23848763, 0.08708673, 0.61050443]])"
      ]
     },
     "execution_count": 4,
     "metadata": {},
     "output_type": "execute_result"
    }
   ],
   "source": [
    "# Matrix von Zufallszahlen\n",
    "np.random.random([2, 3]) # 2 Zeilen, 3 Spalten"
   ]
  },
  {
   "cell_type": "markdown",
   "id": "c3e02d7b-a809-494b-b70f-cf61adf8578f",
   "metadata": {},
   "source": [
    "Auf diesen Matrizen arbeiten Funktionen und Operatoren komponentenweise, d.h. wirken auf jeden Matrixeintrag."
   ]
  },
  {
   "cell_type": "code",
   "execution_count": 5,
   "id": "ed2d7173-4e0b-4e88-bed6-f9751323f410",
   "metadata": {},
   "outputs": [
    {
     "data": {
      "text/plain": [
       "array([[2, 3],\n",
       "       [4, 5]])"
      ]
     },
     "execution_count": 5,
     "metadata": {},
     "output_type": "execute_result"
    }
   ],
   "source": [
    "# Matrix\n",
    "A = np.array([[2, 3], [4, 5]])\n",
    "A"
   ]
  },
  {
   "cell_type": "code",
   "execution_count": 6,
   "id": "ebbaee7d-80cd-4e0f-9d0e-7edbd3347a4e",
   "metadata": {
    "scrolled": true
   },
   "outputs": [
    {
     "data": {
      "text/plain": [
       "array([[1.41421356, 1.73205081],\n",
       "       [2.        , 2.23606798]])"
      ]
     },
     "execution_count": 6,
     "metadata": {},
     "output_type": "execute_result"
    }
   ],
   "source": [
    "np.sqrt(A)"
   ]
  },
  {
   "cell_type": "code",
   "execution_count": 7,
   "id": "ee3c487c-3144-4423-a9e8-fbe66aec4f70",
   "metadata": {},
   "outputs": [
    {
     "data": {
      "text/plain": [
       "array([[ 4,  9],\n",
       "       [16, 25]])"
      ]
     },
     "execution_count": 7,
     "metadata": {},
     "output_type": "execute_result"
    }
   ],
   "source": [
    "A*A # Komponentenweise Multiplikation"
   ]
  },
  {
   "cell_type": "code",
   "execution_count": 8,
   "id": "64af16b1-53e7-46d2-8f5d-8650c8a6b8a7",
   "metadata": {},
   "outputs": [
    {
     "data": {
      "text/plain": [
       "array([[16, 21],\n",
       "       [28, 37]])"
      ]
     },
     "execution_count": 8,
     "metadata": {},
     "output_type": "execute_result"
    }
   ],
   "source": [
    "A@A # Matrixprodukt"
   ]
  },
  {
   "cell_type": "code",
   "execution_count": 9,
   "id": "4e00c645-f9c7-4992-8efa-b4632940608e",
   "metadata": {},
   "outputs": [
    {
     "name": "stdout",
     "output_type": "stream",
     "text": [
      "MC-Schätzer für pi = 3.141368\n",
      "CPU times: user 90.1 ms, sys: 397 ms, total: 487 ms\n",
      "Wall time: 56.8 ms\n"
     ]
    }
   ],
   "source": [
    "%%time\n",
    "# MC-Methode mit numpy\n",
    "\n",
    "N = 4_000_000\n",
    "x = np.random.random(N)\n",
    "y = np.random.random(N)\n",
    "\n",
    "hits = (x*x + y*y <= 1)\n",
    "\n",
    "print(f\"MC-Schätzer für pi = {4*np.sum(hits)/N}\")"
   ]
  },
  {
   "cell_type": "markdown",
   "id": "87ae03cb-0a36-4de5-a313-76e7a89e2295",
   "metadata": {},
   "source": [
    "## Performance-Messungen ohne iPython (%%time)"
   ]
  },
  {
   "cell_type": "code",
   "execution_count": 10,
   "id": "db9cec3a-e653-403a-9675-95395cbf81fa",
   "metadata": {},
   "outputs": [],
   "source": [
    "# Funktion zur Schätzung von pi mit Monte Carlo\n",
    "from random import random\n",
    "def mc_pi(N):\n",
    "    hits = 0 # Anzahl der Treffer\n",
    "    for i in range(N):\n",
    "        x = random()\n",
    "        y = random()    \n",
    "        if x*x + y*y <= 1:\n",
    "            hits += 1\n",
    "    return 4*hits/N"
   ]
  },
  {
   "cell_type": "code",
   "execution_count": 11,
   "id": "edff6bcb-b917-430e-8ee3-c678fd826ad6",
   "metadata": {},
   "outputs": [
    {
     "name": "stdout",
     "output_type": "stream",
     "text": [
      "497 ms ± 875 μs per loop (mean ± std. dev. of 7 runs, 1 loop each)\n"
     ]
    }
   ],
   "source": [
    "%%timeit\n",
    "mc_pi(4_000_000)"
   ]
  },
  {
   "cell_type": "code",
   "execution_count": 12,
   "id": "b7f78355-8e9e-4cd9-89d4-0daffe78bdd2",
   "metadata": {},
   "outputs": [
    {
     "name": "stdout",
     "output_type": "stream",
     "text": [
      "1729580060.195391\n",
      "1729580060.3006778\n",
      "1729580060.413455\n",
      "1729580060.516469\n",
      "1729580060.625699\n",
      "1729580060.732249\n",
      "1729580060.832831\n",
      "1729580060.937401\n",
      "1729580061.042392\n",
      "1729580061.149984\n",
      "Laufzeit = 0.5205838680267334 Sekunden.\n"
     ]
    }
   ],
   "source": [
    "# Performance-Messung mit time\n",
    "import time\n",
    "for k in range(10):\n",
    "    time.sleep(0.1) # Schlafe für eine Zehntelsekunde\n",
    "    print(time.time())\n",
    "\n",
    "t1 = time.time()\n",
    "val = mc_pi(4_000_000)\n",
    "t2 = time.time()\n",
    "print(f\"Laufzeit = {t2 - t1} Sekunden.\")"
   ]
  },
  {
   "cell_type": "code",
   "execution_count": 13,
   "id": "e19f697d-17c7-4900-aba9-bf988d054b14",
   "metadata": {},
   "outputs": [
    {
     "name": "stdout",
     "output_type": "stream",
     "text": [
      "Help on built-in function perf_counter in module time:\n",
      "\n",
      "perf_counter(...)\n",
      "    perf_counter() -> float\n",
      "\n",
      "    Performance counter for benchmarking.\n",
      "\n"
     ]
    }
   ],
   "source": [
    "help(time.perf_counter)"
   ]
  },
  {
   "cell_type": "code",
   "execution_count": null,
   "id": "76440868-2b5e-48ac-9bce-404e98e940bf",
   "metadata": {},
   "outputs": [],
   "source": []
  },
  {
   "cell_type": "code",
   "execution_count": 14,
   "id": "c80be6bf-64ec-4959-975e-388e0e76b9a7",
   "metadata": {},
   "outputs": [
    {
     "name": "stdout",
     "output_type": "stream",
     "text": [
      "CPU times: user 473 ms, sys: 2.47 ms, total: 476 ms\n",
      "Wall time: 475 ms\n"
     ]
    },
    {
     "data": {
      "text/plain": [
       "474995125"
      ]
     },
     "execution_count": 14,
     "metadata": {},
     "output_type": "execute_result"
    }
   ],
   "source": [
    "%%time\n",
    "# Empfohlen für Benchmarks: time.perf_counter() statt time.time()\n",
    "from time import perf_counter, perf_counter_ns\n",
    "\n",
    "t1 = perf_counter_ns()\n",
    "mc_pi(4_000_000)\n",
    "t2 = perf_counter_ns()\n",
    "t2-t1"
   ]
  },
  {
   "cell_type": "markdown",
   "id": "4eaa4e42-e8f4-4a72-bfc9-722fbeb98a83",
   "metadata": {},
   "source": [
    "## Alternative: Numba"
   ]
  },
  {
   "cell_type": "code",
   "execution_count": 15,
   "id": "f1a2b61e-2c21-44d8-b683-663e67b610c5",
   "metadata": {},
   "outputs": [],
   "source": [
    "import numba\n",
    "import time"
   ]
  },
  {
   "cell_type": "code",
   "execution_count": 16,
   "id": "9f1b0fb5-a839-4231-98c1-11a498fa6d7d",
   "metadata": {},
   "outputs": [],
   "source": [
    "def mc_naive(N):\n",
    "    hits = 0 # Anzahl der Treffer\n",
    "    for i in range(N):\n",
    "        x = random()\n",
    "        y = random()    \n",
    "        if x*x + y*y <= 1:\n",
    "            hits += 1\n",
    "    return 4*hits/N\n",
    "    \n",
    "@numba.njit\n",
    "def mc_naive_jit(N):\n",
    "    hits = 0 # Anzahl der Treffer\n",
    "    for i in range(N):\n",
    "        x = random()\n",
    "        y = random()    \n",
    "        if x*x + y*y <= 1:\n",
    "            hits += 1\n",
    "    return 4*hits/N\n",
    "\n",
    "def mc_numpy(N):\n",
    "    x = np.random.random(N)\n",
    "    y = np.random.random(N)\n",
    "    hits = (x*x + y*y <= 1)\n",
    "    return 4*np.sum(hits)/N\n",
    "\n",
    "@numba.njit\n",
    "def mc_numpy_jit(N):\n",
    "    x = np.random.random(N)\n",
    "    y = np.random.random(N)\n",
    "    hits = (x*x + y*y <= 1)\n",
    "    return 4*np.sum(hits)/N"
   ]
  },
  {
   "cell_type": "code",
   "execution_count": 17,
   "id": "8be8333d-ff39-4927-a437-feccde4b0acb",
   "metadata": {},
   "outputs": [
    {
     "name": "stdout",
     "output_type": "stream",
     "text": [
      "mc_naive: \t 3.140758 in 0.49462712499371264 sec.\n",
      "mc_naive_jit: \t 3.140609 in 0.2899853749986505 sec.\n",
      "mc_numpy: \t 3.141039 in 0.053222083995933644 sec.\n",
      "mc_numpy_jit: \t 3.141178 in 0.28137620899360627 sec.\n"
     ]
    }
   ],
   "source": [
    "N = 4_000_000\n",
    "\n",
    "t1 = time.perf_counter()\n",
    "pi_mc = mc_naive(N)\n",
    "t2 = time.perf_counter()\n",
    "print(f\"mc_naive: \\t {pi_mc} in {t2 - t1} sec.\")\n",
    "\n",
    "t1 = time.perf_counter()\n",
    "pi_mc = mc_naive_jit(N)\n",
    "t2 = time.perf_counter()\n",
    "print(f\"mc_naive_jit: \\t {pi_mc} in {t2 - t1} sec.\")\n",
    "\n",
    "t1 = time.perf_counter()\n",
    "pi_mc = mc_numpy(N)\n",
    "t2 = time.perf_counter()\n",
    "print(f\"mc_numpy: \\t {pi_mc} in {t2 - t1} sec.\")\n",
    "\n",
    "t1 = time.perf_counter()\n",
    "pi_mc = mc_numpy_jit(N)\n",
    "t2 = time.perf_counter()\n",
    "print(f\"mc_numpy_jit: \\t {pi_mc} in {t2 - t1} sec.\")"
   ]
  },
  {
   "cell_type": "markdown",
   "id": "480134f2-ce0d-4ae8-9dd1-97abe1cc1d8f",
   "metadata": {},
   "source": [
    "## Matplotlib\n",
    "Bibliothek zur Visualisierung, angelehnt an MATLAB."
   ]
  },
  {
   "cell_type": "code",
   "execution_count": 18,
   "id": "a64e2d6b-160a-4440-ab5a-42a68a918bca",
   "metadata": {},
   "outputs": [
    {
     "data": {
      "image/png": "[encoded data removed]",
      "text/plain": [
       "<Figure size 640x480 with 1 Axes>"
      ]
     },
     "metadata": {},
     "output_type": "display_data"
    }
   ],
   "source": [
    "# %matplotlib widgets\n",
    "import numpy as np\n",
    "import matplotlib.pyplot as plt\n",
    "\n",
    "x = np.linspace(-np.pi, np.pi, 200)\n",
    "fig = plt.figure() # Neue Abbildung\n",
    "plt.plot(x, np.sin(x));\n",
    "plt.show()  # In einigen Umgebungen wird die Abbildung ohne show() nicht gezeigt."
   ]
  },
  {
   "cell_type": "code",
   "execution_count": 19,
   "id": "036fdf3d-671f-44a0-aa76-d6cb3ee1309d",
   "metadata": {},
   "outputs": [
    {
     "data": {
      "image/png": "[encoded data removed]",
      "text/plain": [
       "<Figure size 640x480 with 1 Axes>"
      ]
     },
     "metadata": {},
     "output_type": "display_data"
    }
   ],
   "source": [
    "# Alternative, weniger an MATLAB orientierte Syntax\n",
    "fig, ax = plt.subplots()\n",
    "ax.plot(x, np.sin(x));"
   ]
  },
  {
   "cell_type": "code",
   "execution_count": 20,
   "id": "346dc09c-6b40-40b8-9add-2ef2c601dc04",
   "metadata": {},
   "outputs": [
    {
     "data": {
      "text/plain": [
       "array([ 2.20386509, -1.86015472, -0.1720215 , -1.67933123, -0.18296974,\n",
       "       -1.76962956,  0.58949471, -1.73892334,  0.94302154,  0.62983874])"
      ]
     },
     "execution_count": 20,
     "metadata": {},
     "output_type": "execute_result"
    }
   ],
   "source": [
    "from numpy.random import rand, randn, normal\n",
    "randn(10) # Ziehe 10 Punkte aus Standardnormalverteilung"
   ]
  },
  {
   "cell_type": "code",
   "execution_count": 21,
   "id": "e10f5997-6054-4d98-8c97-c5661d66969d",
   "metadata": {},
   "outputs": [
    {
     "data": {
      "text/plain": [
       "array([ 1.65519154, -0.11335547,  1.36091573,  0.24735445, -1.48672735,\n",
       "       -0.90857665,  0.14505384, -0.12492868,  0.27702739, -1.63758811])"
      ]
     },
     "execution_count": 21,
     "metadata": {},
     "output_type": "execute_result"
    }
   ],
   "source": [
    "normal(0, 1, 10) # Ziehe 10 Punkte aus Standardnormalverteilung"
   ]
  },
  {
   "cell_type": "code",
   "execution_count": 22,
   "id": "18f70576-8d0f-449d-831c-3217cb9ccd8b",
   "metadata": {},
   "outputs": [
    {
     "data": {
      "image/png": "[encoded data removed]",
      "text/plain": [
       "<Figure size 640x480 with 1 Axes>"
      ]
     },
     "metadata": {},
     "output_type": "display_data"
    }
   ],
   "source": [
    "%matplotlib inline\n",
    "# Dichte der Standardnormalverteilung\n",
    "def p_normal(x):\n",
    "    return np.exp(-x*x/2.0)/np.sqrt(2*np.pi)\n",
    "\n",
    "\n",
    "N = 10_000\n",
    "x = randn(N)\n",
    "fig_normal_hist = plt.figure()\n",
    "plt.title(\"Standardnormalverteilung\")\n",
    "plt.xlabel(\"Wert\")\n",
    "plt.ylabel(\"Dichte\")\n",
    "plt.hist(x, bins=50, density=True)\n",
    "x_lin = np.linspace(-4, 4, 200)\n",
    "plt.plot(x_lin, p_normal(x_lin), c='orange', lw=3)\n",
    "plt.legend([\"Normalverteilung\", \"Histogramm\"]) # Labels als Liste von Strings\n",
    "plt.show()"
   ]
  },
  {
   "cell_type": "markdown",
   "id": "9c6b17c3-a6b2-49bd-8aea-80ac3428a664",
   "metadata": {
    "scrolled": true
   },
   "source": []
  },
  {
   "cell_type": "code",
   "execution_count": null,
   "id": "83ea974e-4142-40ae-9e11-0e62b158bd2e",
   "metadata": {},
   "outputs": [],
   "source": []
  },
  {
   "cell_type": "code",
   "execution_count": null,
   "id": "430607b1-3d07-4cbd-8af3-94d67cf960a5",
   "metadata": {},
   "outputs": [],
   "source": []
  },
  {
   "cell_type": "markdown",
   "id": "adc62083-f833-4e16-b92c-cb84d2527f85",
   "metadata": {},
   "source": []
  },
  {
   "cell_type": "code",
   "execution_count": 23,
   "id": "5586f05b-65f6-4109-96c0-ed068621db25",
   "metadata": {},
   "outputs": [
    {
     "ename": "ModuleNotFoundError",
     "evalue": "No module named 'ipympl'",
     "output_type": "error",
     "traceback": [
      "\u001b[0;31m---------------------------------------------------------------------------\u001b[0m",
      "\u001b[0;31mModuleNotFoundError\u001b[0m                       Traceback (most recent call last)",
      "Cell \u001b[0;32mIn[23], line 1\u001b[0m\n\u001b[0;32m----> 1\u001b[0m get_ipython()\u001b[38;5;241m.\u001b[39mrun_line_magic(\u001b[38;5;124m'\u001b[39m\u001b[38;5;124mmatplotlib\u001b[39m\u001b[38;5;124m'\u001b[39m, \u001b[38;5;124m'\u001b[39m\u001b[38;5;124mwidget\u001b[39m\u001b[38;5;124m'\u001b[39m)\n\u001b[1;32m      2\u001b[0m \u001b[38;5;66;03m### 3D-Plot\u001b[39;00m\n\u001b[1;32m      3\u001b[0m \u001b[38;5;28;01mimport\u001b[39;00m \u001b[38;5;21;01mmatplotlib\u001b[39;00m\u001b[38;5;21;01m.\u001b[39;00m\u001b[38;5;21;01mpyplot\u001b[39;00m \u001b[38;5;28;01mas\u001b[39;00m \u001b[38;5;21;01mplt\u001b[39;00m\n",
      "File \u001b[0;32m~/opt/anaconda3/lib/python3.12/site-packages/IPython/core/interactiveshell.py:2480\u001b[0m, in \u001b[0;36mInteractiveShell.run_line_magic\u001b[0;34m(self, magic_name, line, _stack_depth)\u001b[0m\n\u001b[1;32m   2478\u001b[0m     kwargs[\u001b[38;5;124m'\u001b[39m\u001b[38;5;124mlocal_ns\u001b[39m\u001b[38;5;124m'\u001b[39m] \u001b[38;5;241m=\u001b[39m \u001b[38;5;28mself\u001b[39m\u001b[38;5;241m.\u001b[39mget_local_scope(stack_depth)\n\u001b[1;32m   2479\u001b[0m \u001b[38;5;28;01mwith\u001b[39;00m \u001b[38;5;28mself\u001b[39m\u001b[38;5;241m.\u001b[39mbuiltin_trap:\n\u001b[0;32m-> 2480\u001b[0m     result \u001b[38;5;241m=\u001b[39m fn(\u001b[38;5;241m*\u001b[39margs, \u001b[38;5;241m*\u001b[39m\u001b[38;5;241m*\u001b[39mkwargs)\n\u001b[1;32m   2482\u001b[0m \u001b[38;5;66;03m# The code below prevents the output from being displayed\u001b[39;00m\n\u001b[1;32m   2483\u001b[0m \u001b[38;5;66;03m# when using magics with decorator @output_can_be_silenced\u001b[39;00m\n\u001b[1;32m   2484\u001b[0m \u001b[38;5;66;03m# when the last Python token in the expression is a ';'.\u001b[39;00m\n\u001b[1;32m   2485\u001b[0m \u001b[38;5;28;01mif\u001b[39;00m \u001b[38;5;28mgetattr\u001b[39m(fn, magic\u001b[38;5;241m.\u001b[39mMAGIC_OUTPUT_CAN_BE_SILENCED, \u001b[38;5;28;01mFalse\u001b[39;00m):\n",
      "File \u001b[0;32m~/opt/anaconda3/lib/python3.12/site-packages/IPython/core/magics/pylab.py:103\u001b[0m, in \u001b[0;36mPylabMagics.matplotlib\u001b[0;34m(self, line)\u001b[0m\n\u001b[1;32m     98\u001b[0m     \u001b[38;5;28mprint\u001b[39m(\n\u001b[1;32m     99\u001b[0m         \u001b[38;5;124m\"\u001b[39m\u001b[38;5;124mAvailable matplotlib backends: \u001b[39m\u001b[38;5;132;01m%s\u001b[39;00m\u001b[38;5;124m\"\u001b[39m\n\u001b[1;32m    100\u001b[0m         \u001b[38;5;241m%\u001b[39m _list_matplotlib_backends_and_gui_loops()\n\u001b[1;32m    101\u001b[0m     )\n\u001b[1;32m    102\u001b[0m \u001b[38;5;28;01melse\u001b[39;00m:\n\u001b[0;32m--> 103\u001b[0m     gui, backend \u001b[38;5;241m=\u001b[39m \u001b[38;5;28mself\u001b[39m\u001b[38;5;241m.\u001b[39mshell\u001b[38;5;241m.\u001b[39menable_matplotlib(args\u001b[38;5;241m.\u001b[39mgui\u001b[38;5;241m.\u001b[39mlower() \u001b[38;5;28;01mif\u001b[39;00m \u001b[38;5;28misinstance\u001b[39m(args\u001b[38;5;241m.\u001b[39mgui, \u001b[38;5;28mstr\u001b[39m) \u001b[38;5;28;01melse\u001b[39;00m args\u001b[38;5;241m.\u001b[39mgui)\n\u001b[1;32m    104\u001b[0m     \u001b[38;5;28mself\u001b[39m\u001b[38;5;241m.\u001b[39m_show_matplotlib_backend(args\u001b[38;5;241m.\u001b[39mgui, backend)\n",
      "File \u001b[0;32m~/opt/anaconda3/lib/python3.12/site-packages/IPython/core/interactiveshell.py:3677\u001b[0m, in \u001b[0;36mInteractiveShell.enable_matplotlib\u001b[0;34m(self, gui)\u001b[0m\n\u001b[1;32m   3673\u001b[0m         \u001b[38;5;28mprint\u001b[39m(\u001b[38;5;124m'\u001b[39m\u001b[38;5;124mWarning: Cannot change to a different GUI toolkit: \u001b[39m\u001b[38;5;132;01m%s\u001b[39;00m\u001b[38;5;124m.\u001b[39m\u001b[38;5;124m'\u001b[39m\n\u001b[1;32m   3674\u001b[0m                 \u001b[38;5;124m'\u001b[39m\u001b[38;5;124m Using \u001b[39m\u001b[38;5;132;01m%s\u001b[39;00m\u001b[38;5;124m instead.\u001b[39m\u001b[38;5;124m'\u001b[39m \u001b[38;5;241m%\u001b[39m (gui, \u001b[38;5;28mself\u001b[39m\u001b[38;5;241m.\u001b[39mpylab_gui_select))\n\u001b[1;32m   3675\u001b[0m         gui, backend \u001b[38;5;241m=\u001b[39m pt\u001b[38;5;241m.\u001b[39mfind_gui_and_backend(\u001b[38;5;28mself\u001b[39m\u001b[38;5;241m.\u001b[39mpylab_gui_select)\n\u001b[0;32m-> 3677\u001b[0m pt\u001b[38;5;241m.\u001b[39mactivate_matplotlib(backend)\n\u001b[1;32m   3679\u001b[0m \u001b[38;5;28;01mfrom\u001b[39;00m \u001b[38;5;21;01mmatplotlib_inline\u001b[39;00m\u001b[38;5;21;01m.\u001b[39;00m\u001b[38;5;21;01mbackend_inline\u001b[39;00m \u001b[38;5;28;01mimport\u001b[39;00m configure_inline_support\n\u001b[1;32m   3681\u001b[0m configure_inline_support(\u001b[38;5;28mself\u001b[39m, backend)\n",
      "File \u001b[0;32m~/opt/anaconda3/lib/python3.12/site-packages/IPython/core/pylabtools.py:410\u001b[0m, in \u001b[0;36mactivate_matplotlib\u001b[0;34m(backend)\u001b[0m\n\u001b[1;32m    405\u001b[0m \u001b[38;5;66;03m# Due to circular imports, pyplot may be only partially initialised\u001b[39;00m\n\u001b[1;32m    406\u001b[0m \u001b[38;5;66;03m# when this function runs.\u001b[39;00m\n\u001b[1;32m    407\u001b[0m \u001b[38;5;66;03m# So avoid needing matplotlib attribute-lookup to access pyplot.\u001b[39;00m\n\u001b[1;32m    408\u001b[0m \u001b[38;5;28;01mfrom\u001b[39;00m \u001b[38;5;21;01mmatplotlib\u001b[39;00m \u001b[38;5;28;01mimport\u001b[39;00m pyplot \u001b[38;5;28;01mas\u001b[39;00m plt\n\u001b[0;32m--> 410\u001b[0m plt\u001b[38;5;241m.\u001b[39mswitch_backend(backend)\n\u001b[1;32m    412\u001b[0m plt\u001b[38;5;241m.\u001b[39mshow\u001b[38;5;241m.\u001b[39m_needmain \u001b[38;5;241m=\u001b[39m \u001b[38;5;28;01mFalse\u001b[39;00m\n\u001b[1;32m    413\u001b[0m \u001b[38;5;66;03m# We need to detect at runtime whether show() is called by the user.\u001b[39;00m\n\u001b[1;32m    414\u001b[0m \u001b[38;5;66;03m# For this, we wrap it into a decorator which adds a 'called' flag.\u001b[39;00m\n",
      "File \u001b[0;32m~/opt/anaconda3/lib/python3.12/site-packages/matplotlib/pyplot.py:342\u001b[0m, in \u001b[0;36mswitch_backend\u001b[0;34m(newbackend)\u001b[0m\n\u001b[1;32m    339\u001b[0m \u001b[38;5;66;03m# have to escape the switch on access logic\u001b[39;00m\n\u001b[1;32m    340\u001b[0m old_backend \u001b[38;5;241m=\u001b[39m \u001b[38;5;28mdict\u001b[39m\u001b[38;5;241m.\u001b[39m\u001b[38;5;21m__getitem__\u001b[39m(rcParams, \u001b[38;5;124m'\u001b[39m\u001b[38;5;124mbackend\u001b[39m\u001b[38;5;124m'\u001b[39m)\n\u001b[0;32m--> 342\u001b[0m module \u001b[38;5;241m=\u001b[39m importlib\u001b[38;5;241m.\u001b[39mimport_module(cbook\u001b[38;5;241m.\u001b[39m_backend_module_name(newbackend))\n\u001b[1;32m    343\u001b[0m canvas_class \u001b[38;5;241m=\u001b[39m module\u001b[38;5;241m.\u001b[39mFigureCanvas\n\u001b[1;32m    345\u001b[0m required_framework \u001b[38;5;241m=\u001b[39m canvas_class\u001b[38;5;241m.\u001b[39mrequired_interactive_framework\n",
      "File \u001b[0;32m~/opt/anaconda3/lib/python3.12/importlib/__init__.py:90\u001b[0m, in \u001b[0;36mimport_module\u001b[0;34m(name, package)\u001b[0m\n\u001b[1;32m     88\u001b[0m             \u001b[38;5;28;01mbreak\u001b[39;00m\n\u001b[1;32m     89\u001b[0m         level \u001b[38;5;241m+\u001b[39m\u001b[38;5;241m=\u001b[39m \u001b[38;5;241m1\u001b[39m\n\u001b[0;32m---> 90\u001b[0m \u001b[38;5;28;01mreturn\u001b[39;00m _bootstrap\u001b[38;5;241m.\u001b[39m_gcd_import(name[level:], package, level)\n",
      "File \u001b[0;32m<frozen importlib._bootstrap>:1387\u001b[0m, in \u001b[0;36m_gcd_import\u001b[0;34m(name, package, level)\u001b[0m\n",
      "File \u001b[0;32m<frozen importlib._bootstrap>:1360\u001b[0m, in \u001b[0;36m_find_and_load\u001b[0;34m(name, import_)\u001b[0m\n",
      "File \u001b[0;32m<frozen importlib._bootstrap>:1310\u001b[0m, in \u001b[0;36m_find_and_load_unlocked\u001b[0;34m(name, import_)\u001b[0m\n",
      "File \u001b[0;32m<frozen importlib._bootstrap>:488\u001b[0m, in \u001b[0;36m_call_with_frames_removed\u001b[0;34m(f, *args, **kwds)\u001b[0m\n",
      "File \u001b[0;32m<frozen importlib._bootstrap>:1387\u001b[0m, in \u001b[0;36m_gcd_import\u001b[0;34m(name, package, level)\u001b[0m\n",
      "File \u001b[0;32m<frozen importlib._bootstrap>:1360\u001b[0m, in \u001b[0;36m_find_and_load\u001b[0;34m(name, import_)\u001b[0m\n",
      "File \u001b[0;32m<frozen importlib._bootstrap>:1324\u001b[0m, in \u001b[0;36m_find_and_load_unlocked\u001b[0;34m(name, import_)\u001b[0m\n",
      "\u001b[0;31mModuleNotFoundError\u001b[0m: No module named 'ipympl'"
     ]
    }
   ],
   "source": [
    "%matplotlib widget\n",
    "### 3D-Plot\n",
    "import matplotlib.pyplot as plt\n",
    "import numpy as np\n",
    "\n",
    "from matplotlib import cm\n",
    "\n",
    "plt.style.use('_mpl-gallery')\n",
    "\n",
    "# Make data\n",
    "X = np.arange(-5, 5, 0.25)\n",
    "Y = np.arange(-5, 5, 0.25)\n",
    "X, Y = np.meshgrid(X, Y)\n",
    "Z = np.exp( -(X**2 + Y**2) ) * np.sin(X) * np.cos(Y)\n",
    "\n",
    "# Plot the surface\n",
    "fig, ax = plt.subplots(subplot_kw={\"projection\": \"3d\"})\n",
    "ax.plot_surface(X, Y, Z, vmin=Z.min() * 2, cmap=cm.Blues)\n",
    "\n",
    "ax.set(xticklabels=[],\n",
    "       yticklabels=[],\n",
    "       zticklabels=[])\n",
    "\n",
    "plt.show()"
   ]
  },
  {
   "cell_type": "code",
   "execution_count": null,
   "id": "e52454c3-7b17-492c-b6d3-f2ed5bf9e8a8",
   "metadata": {},
   "outputs": [],
   "source": [
    "import matplotlib.pyplot as plt\n",
    "import numpy as np\n",
    "\n",
    "from matplotlib.ticker import LinearLocator\n",
    "\n",
    "ax = plt.figure().add_subplot(projection='3d')\n",
    "\n",
    "# Make data.\n",
    "X = np.arange(-5, 5, 0.25)\n",
    "xlen = len(X)\n",
    "Y = np.arange(-5, 5, 0.25)\n",
    "ylen = len(Y)\n",
    "X, Y = np.meshgrid(X, Y)\n",
    "Z = np.exp(-(X**2 + Y**2)) * np.sin(X) * np.cos(Y)\n",
    "\n",
    "# Create an empty array of strings with the same shape as the meshgrid, and\n",
    "# populate it with two colors in a checkerboard pattern.\n",
    "colortuple = ('y', 'b')\n",
    "colors = np.empty(X.shape, dtype=str)\n",
    "for y in range(ylen):\n",
    "    for x in range(xlen):\n",
    "        colors[y, x] = colortuple[(x + y) % len(colortuple)]\n",
    "\n",
    "# Plot the surface with face colors taken from the array we made.\n",
    "surf = ax.plot_surface(X, Y, Z, facecolors=colors, linewidth=0)\n",
    "\n",
    "# Customize the z axis.\n",
    "ax.set_zlim(-1, 1)\n",
    "ax.zaxis.set_major_locator(LinearLocator(6))\n",
    "\n",
    "plt.show()"
   ]
  },
  {
   "cell_type": "code",
   "execution_count": null,
   "id": "2e4faf35-1d4a-4c66-b492-175cc102c733",
   "metadata": {},
   "outputs": [],
   "source": [
    "x = np.arange(1, 3, 1)\n",
    "y = np.arange(1, 4, 1)\n",
    "x, y\n",
    "grid = np.meshgrid(x, y)\n",
    "grid"
   ]
  },
  {
   "cell_type": "code",
   "execution_count": null,
   "id": "df2a8c0c-484f-4d46-b206-f63b525a4466",
   "metadata": {},
   "outputs": [],
   "source": []
  }
 ],
 "metadata": {
  "kernelspec": {
   "display_name": "Python 3 (ipykernel)",
   "language": "python",
   "name": "python3"
  },
  "language_info": {
   "codemirror_mode": {
    "name": "ipython",
    "version": 3
   },
   "file_extension": ".py",
   "mimetype": "text/x-python",
   "name": "python",
   "nbconvert_exporter": "python",
   "pygments_lexer": "ipython3",
   "version": "3.12.4"
  }
 },
 "nbformat": 4,
 "nbformat_minor": 5
}
